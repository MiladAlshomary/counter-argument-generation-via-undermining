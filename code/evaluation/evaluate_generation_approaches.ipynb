{
 "cells": [
  {
   "cell_type": "code",
   "execution_count": 1,
   "metadata": {},
   "outputs": [],
   "source": [
    " %load_ext autoreload"
   ]
  },
  {
   "cell_type": "code",
   "execution_count": 56,
   "metadata": {},
   "outputs": [],
   "source": [
    "import sys\n",
    "import os\n",
    "import pandas as pd\n",
    "import numpy as np\n",
    "import matplotlib.pyplot as plt\n",
    "from bert_score import score\n",
    "from moverscore_v2 import get_idf_dict, word_mover_score \n",
    "from collections import defaultdict\n",
    "\n",
    "os.environ['CUDA_VISIBLE_DEVICES']='3'\n",
    "pd.set_option('display.max_colwidth', None)\n",
    "sys.path.append('/workspace/computationally-undermining-arguments/scripts/')\n",
    "sys.path.append('/workspace/computationally-undermining-arguments/src-py')\n",
    "sys.path.append('/workspace/computationally-undermining-arguments/thirdparty/transfer-learning-conv-ai/')"
   ]
  },
  {
   "cell_type": "code",
   "execution_count": 191,
   "metadata": {},
   "outputs": [],
   "source": [
    "%autoreload\n",
    "import evaluation\n",
    "import json\n",
    "import utility\n",
    "from argparse import Namespace\n",
    "from tabulate import tabulate"
   ]
  },
  {
   "cell_type": "code",
   "execution_count": 40,
   "metadata": {},
   "outputs": [],
   "source": [
    "testing_df  = pd.read_pickle('./testing_df.pkl')\n",
    "expanded_df = pd.read_pickle('./expanded_df.pkl')"
   ]
  },
  {
   "cell_type": "code",
   "execution_count": 170,
   "metadata": {},
   "outputs": [
    {
     "data": {
      "text/html": [
       "<div>\n",
       "<style scoped>\n",
       "    .dataframe tbody tr th:only-of-type {\n",
       "        vertical-align: middle;\n",
       "    }\n",
       "\n",
       "    .dataframe tbody tr th {\n",
       "        vertical-align: top;\n",
       "    }\n",
       "\n",
       "    .dataframe thead th {\n",
       "        text-align: right;\n",
       "    }\n",
       "</style>\n",
       "<table border=\"1\" class=\"dataframe\">\n",
       "  <thead>\n",
       "    <tr style=\"text-align: right;\">\n",
       "      <th></th>\n",
       "      <th>app_v2</th>\n",
       "    </tr>\n",
       "  </thead>\n",
       "  <tbody>\n",
       "    <tr>\n",
       "      <th>108600</th>\n",
       "      <td>[[[if you agree with this, my point is, this does not connect at all to our perception of good., if it did, god would not allow insert horrible event that happens daily in real life and encourage insert horrible bible verse about slavery women war punishment .], you have a really weird view of good and bad. if you think that the world is inherently bad, and your viewpoint is wrong, maybe you shouldn't have your view changed to reflect this view. but then there is a good reason to believe that heaven and hell are both bad. and that there is no good in them. you can't blame'bad'god for their existence.]]</td>\n",
       "    </tr>\n",
       "    <tr>\n",
       "      <th>105230</th>\n",
       "      <td>[[[i. e. , the central bank gives money to your local bank so your local bank can lend it to you at low cost.], can you elaborate on why you think this? if your first argument is that inflation is increasing, i will definitely dispute that. the main problem is that people are constantly looking at the stock market, trying to figure out how the stock market can function. in the process, people can buy or buy bonds for a reason. it is very possible that the market is getting smaller, and that the market is getting larger.], [[the problem with this logic is it results in wage growth being the last benefactor of all this cheap money if at all.], where are the profits for this? why can't the government pay wages higher if people are working to increase the wage of their income? if there is a demand for'low interest rates'and they don't get any interest, then the average person would be low in wage and unable to move money around to pay prices. you aren't taking any of these into account. as it stands, the stock market is not rising, and the market is still growing.]]</td>\n",
       "    </tr>\n",
       "    <tr>\n",
       "      <th>109572</th>\n",
       "      <td>[[[4 accepting lgbt might mean accepting other degenerates if we accept these people today who guarantees we arent accepting zoophiles and pedos tomorrow?], because they didn't want to be trans, which is the exact opposite of the lgbt issue, which you were referring to earlier. it's also not about allowing homosexuals to live in society. they want to be around and provide for them, a place for their children and, most importantly, for the general population. in order for such things to happen, they need to be able to make a living from it, including working to pay for what they do. you seem to think this's a deal breaker, but it's not.]]</td>\n",
       "    </tr>\n",
       "    <tr>\n",
       "      <th>110783</th>\n",
       "      <td>[[[i think beastiality should be illegal only because it disgusts me, as ridiculous as that sounds.], why? if you find something disgusting and you find it disgusting, but you're still ok with doing so, why should people find it morally wrong. is that not your view? is it your moral position to kill animals because you think it disgusts you? if you think it disgusts me, then you can't justify any of it.]]</td>\n",
       "    </tr>\n",
       "    <tr>\n",
       "      <th>103458</th>\n",
       "      <td>[[[there are 500m who do nothing but send transactions and eat salmon and all the other people are cooking the salmon and making sure the transaction goes well.], how are you quantifying 500m of wealth? most people don't know what 500m is, or the number of hours it takes to feed, feed, and feed a single person. the total amount of money you spend at work has nothing to do with the amount of money you save. it is entirely possible for a person to make 50, 000 a year and not do anything else besides just do it on the off chance you are in that position for the rest of their life. there are still a number of people who are good at something even if they are terrible at it.]]</td>\n",
       "    </tr>\n",
       "  </tbody>\n",
       "</table>\n",
       "</div>"
      ],
      "text/plain": [
       "                                                                                                                                                                                                                                                                                                                                                                                                                                                                                                                                                                                                                                                                                                                                                                                                                                                                                                                                                                                                                                                                                                                        app_v2\n",
       "108600                                                                                                                                                                                                                                                                                                                                                                                                                                                                                       [[[if you agree with this, my point is, this does not connect at all to our perception of good., if it did, god would not allow insert horrible event that happens daily in real life and encourage insert horrible bible verse about slavery women war punishment .], you have a really weird view of good and bad. if you think that the world is inherently bad, and your viewpoint is wrong, maybe you shouldn't have your view changed to reflect this view. but then there is a good reason to believe that heaven and hell are both bad. and that there is no good in them. you can't blame'bad'god for their existence.]]\n",
       "105230  [[[i. e. , the central bank gives money to your local bank so your local bank can lend it to you at low cost.], can you elaborate on why you think this? if your first argument is that inflation is increasing, i will definitely dispute that. the main problem is that people are constantly looking at the stock market, trying to figure out how the stock market can function. in the process, people can buy or buy bonds for a reason. it is very possible that the market is getting smaller, and that the market is getting larger.], [[the problem with this logic is it results in wage growth being the last benefactor of all this cheap money if at all.], where are the profits for this? why can't the government pay wages higher if people are working to increase the wage of their income? if there is a demand for'low interest rates'and they don't get any interest, then the average person would be low in wage and unable to move money around to pay prices. you aren't taking any of these into account. as it stands, the stock market is not rising, and the market is still growing.]]\n",
       "109572                                                                                                                                                                                                                                                                                                                                                                                                                                                   [[[4 accepting lgbt might mean accepting other degenerates if we accept these people today who guarantees we arent accepting zoophiles and pedos tomorrow?], because they didn't want to be trans, which is the exact opposite of the lgbt issue, which you were referring to earlier. it's also not about allowing homosexuals to live in society. they want to be around and provide for them, a place for their children and, most importantly, for the general population. in order for such things to happen, they need to be able to make a living from it, including working to pay for what they do. you seem to think this's a deal breaker, but it's not.]]\n",
       "110783                                                                                                                                                                                                                                                                                                                                                                                                                                                                                                                                                                                                                                                                                                [[[i think beastiality should be illegal only because it disgusts me, as ridiculous as that sounds.], why? if you find something disgusting and you find it disgusting, but you're still ok with doing so, why should people find it morally wrong. is that not your view? is it your moral position to kill animals because you think it disgusts you? if you think it disgusts me, then you can't justify any of it.]]\n",
       "103458                                                                                                                                                                                                                                                                                                                                                                                                                [[[there are 500m who do nothing but send transactions and eat salmon and all the other people are cooking the salmon and making sure the transaction goes well.], how are you quantifying 500m of wealth? most people don't know what 500m is, or the number of hours it takes to feed, feed, and feed a single person. the total amount of money you spend at work has nothing to do with the amount of money you save. it is entirely possible for a person to make 50, 000 a year and not do anything else besides just do it on the off chance you are in that position for the rest of their life. there are still a number of people who are good at something even if they are terrible at it.]]"
      ]
     },
     "execution_count": 170,
     "metadata": {},
     "output_type": "execute_result"
    }
   ],
   "source": [
    "testing_df[['app_v2']].head()"
   ]
  },
  {
   "cell_type": "code",
   "execution_count": 173,
   "metadata": {},
   "outputs": [
    {
     "data": {
      "text/plain": [
       "1000"
      ]
     },
     "execution_count": 173,
     "metadata": {},
     "output_type": "execute_result"
    }
   ],
   "source": [
    "len(testing_df)"
   ]
  },
  {
   "cell_type": "code",
   "execution_count": 5,
   "metadata": {},
   "outputs": [],
   "source": [
    "def eval_model_on_df(df_gt, df_preds):\n",
    "    bleu_1, bleu1_scores = evaluation.eval_bleu(df_gt, df_preds, weights=(1,0,0,0))\n",
    "    bleu, bleu_scores  = evaluation.eval_bleu(df_gt, df_preds, weights=(0.5, 0.5,0,0))\n",
    "    meteor, meteor_scores = evaluation.eval_meteor(df_gt, df_preds)\n",
    "    return [meteor, bleu_1, bleu], [bleu1_scores, bleu_scores, meteor_scores]"
   ]
  },
  {
   "cell_type": "code",
   "execution_count": 33,
   "metadata": {},
   "outputs": [],
   "source": [
    "def eval_multiple_preds(df, pred_clms, gt_clm):\n",
    "    gt_texts = df[gt_clm].tolist()\n",
    "    \n",
    "    bleu1_evals  = []\n",
    "    bleu_evals   = []\n",
    "    meteor_evals = []\n",
    "    \n",
    "    for clm in pred_clms:\n",
    "        bleu1_evals.append(evaluation.eval_bleu(gt_texts, df[clm].tolist(), weights=(1,0,0,0)))\n",
    "        bleu_evals.append(evaluation.eval_bleu(gt_texts, df[clm].tolist(), weights=(0.5, 0.5,0,0)))\n",
    "        meteor_evals.append(evaluation.eval_meteor(gt_texts, df[clm].tolist()))\n",
    "    \n",
    "    bleu1_score = round(np.mean([x[0] for x in bleu1_evals]), 3)\n",
    "    bleu_score = round(np.mean([x[0] for x in bleu_evals]), 3)\n",
    "    meteor_score = round(np.mean([x[0] for x in meteor_evals]), 3)\n",
    "    \n",
    "    bleu1_scores  = np.mean([x[1] for x in bleu1_evals], axis=0)\n",
    "    bleu_scores   = np.mean([x[1] for x in bleu_evals], axis=0)\n",
    "    meteor_scores = np.mean([x[1] for x in meteor_evals], axis=0)\n",
    "    \n",
    "    return [meteor_score, bleu1_score, bleu_score], [bleu1_scores, bleu_scores, meteor_scores]"
   ]
  },
  {
   "cell_type": "code",
   "execution_count": 209,
   "metadata": {},
   "outputs": [],
   "source": [
    "def choose_best_match(df, pred_clm, gt_clm):\n",
    "    pred_attacks = df[pred_clm].tolist()\n",
    "    gt_attacks   = df[gt_clm].tolist()\n",
    "    \n",
    "    best_preds = []\n",
    "    for post_pred_attacks, post_gt_attacks in zip(pred_attacks, gt_attacks):\n",
    "        attack_overlaps = [utility.overlap_between_attack_and_attacked_premises(weak_premise, attack) for weak_premise, attack in post_pred_attacks]\n",
    "        best_attack_idx = attack_overlaps.index(max(attack_overlaps))\n",
    "        best_attack = post_pred_attacks[best_attack_idx]\n",
    "        gt_attack   = post_gt_attacks[best_attack_idx]\n",
    "        best_preds.append([best_attack[0], best_attack[1], gt_attack[1]])\n",
    "\n",
    "    return best_preds"
   ]
  },
  {
   "cell_type": "code",
   "execution_count": 210,
   "metadata": {},
   "outputs": [],
   "source": [
    "testing_df['app_v2_best_match'] = choose_best_match(testing_df, 'app_v2', 'premise_counter_premise_pairs')\n",
    "testing_df['app_v3_best_match'] = choose_best_match(testing_df, 'app_v3', 'premise_counter_premise_pairs')\n",
    "testing_df['baseline_best_match'] = choose_best_match(testing_df, 'baseline_final', 'premise_counter_premise_pairs')"
   ]
  },
  {
   "cell_type": "code",
   "execution_count": 215,
   "metadata": {},
   "outputs": [],
   "source": [
    "_, app_v2_gt, app_v2_pred = zip(*testing_df.app_v2_best_match.tolist())\n",
    "tmp_app_v2_score, tmp_app_v2_scores = eval_model_on_df(app_v2_gt, app_v2_pred)"
   ]
  },
  {
   "cell_type": "code",
   "execution_count": 216,
   "metadata": {},
   "outputs": [],
   "source": [
    "_, app_v3_gt, app_v3_pred = zip(*testing_df.app_v3_best_match.tolist())\n",
    "tmp_app_v3_score, tmp_app_v3_scores = eval_model_on_df(app_v3_gt, app_v3_pred)"
   ]
  },
  {
   "cell_type": "code",
   "execution_count": 217,
   "metadata": {},
   "outputs": [],
   "source": [
    "_, baseline_gt, baseline_pred = zip(*testing_df.baseline_best_match.tolist())\n",
    "tmp_baseline_score, tmp_baseline_scores = eval_model_on_df(baseline_gt, baseline_pred)"
   ]
  },
  {
   "cell_type": "code",
   "execution_count": 218,
   "metadata": {},
   "outputs": [
    {
     "name": "stdout",
     "output_type": "stream",
     "text": [
      "Approach       meteor    bleu-1    bleu-1&2\n",
      "-----------  --------  --------  ----------\n",
      "1. Baseline     0.067    12.646       3.042\n",
      "2. Ours v2      0.066    13.139       3.395\n",
      "3. Ours v3      0.067    12.888       3.274\n"
     ]
    }
   ],
   "source": [
    "print(tabulate([\n",
    "        ['1. Baseline'] + tmp_baseline_score,\n",
    "        ['2. Ours v2'] + tmp_app_v2_score,\n",
    "        ['3. Ours v3'] + tmp_app_v3_score,\n",
    "       ], headers=['Approach', 'meteor', 'bleu-1', 'bleu-1&2']))"
   ]
  },
  {
   "cell_type": "markdown",
   "metadata": {},
   "source": [
    "### Evaluate model's predictions against the ground-truth premises:"
   ]
  },
  {
   "cell_type": "markdown",
   "metadata": {},
   "source": [
    "#### Evalute model:"
   ]
  },
  {
   "cell_type": "code",
   "execution_count": 156,
   "metadata": {},
   "outputs": [],
   "source": [
    "baseline_evals, baseline_scores= eval_model_on_df(expanded_df.gt_counter.tolist(), expanded_df.baseline_final.tolist())\n",
    "app_v2_evals, app_v2_scores = eval_model_on_df(expanded_df.gt_counter.tolist(), expanded_df.app_v2.tolist())\n",
    "app_v3_evals, app_v3_scores = eval_model_on_df(expanded_df.gt_counter.tolist(), expanded_df.app_v3.tolist())\n",
    "app_v4_evals, app_v4_scores = eval_model_on_df(expanded_df.gt_counter.tolist(), expanded_df.app_v4.tolist())"
   ]
  },
  {
   "cell_type": "markdown",
   "metadata": {},
   "source": [
    "#### Evaluate title:"
   ]
  },
  {
   "cell_type": "code",
   "execution_count": 159,
   "metadata": {},
   "outputs": [],
   "source": [
    "app_v2_title_evals, app_v2_title_scores = eval_model_on_df(expanded_df.gt_counter.tolist(), expanded_df.app_v2_title.tolist())\n",
    "app_v3_title_evals, app_v3_title_scores = eval_model_on_df(expanded_df.gt_counter.tolist(), expanded_df.app_v3_title.tolist())"
   ]
  },
  {
   "cell_type": "code",
   "execution_count": 160,
   "metadata": {},
   "outputs": [],
   "source": [
    "app_v4_title_evals, app_v4_title_scores = eval_model_on_df(expanded_df.gt_counter.tolist(), expanded_df.app_v4_title.tolist())"
   ]
  },
  {
   "cell_type": "markdown",
   "metadata": {},
   "source": [
    "#### Evaluate Random:"
   ]
  },
  {
   "cell_type": "code",
   "execution_count": 161,
   "metadata": {},
   "outputs": [],
   "source": [
    "app_v2_random_baseline_evals, app_v2_random_baseline_scores = eval_multiple_preds(expanded_df, ['app_v2_rand_0', 'app_v2_rand_1', 'app_v2_rand_2'], 'gt_counter')\n",
    "app_v3_random_baseline_evals, app_v3_random_baseline_scores = eval_multiple_preds(expanded_df, ['app_v3_rand_0', 'app_v3_rand_1', 'app_v3_rand_2'], 'gt_counter')"
   ]
  },
  {
   "cell_type": "code",
   "execution_count": 162,
   "metadata": {},
   "outputs": [],
   "source": [
    "app_v4_random_baseline_evals, app_v4_random_baseline_scores = eval_multiple_preds(expanded_df, ['app_v4_rand_0', 'app_v4_rand_1', 'app_v4_rand_2'], 'gt_counter')"
   ]
  },
  {
   "cell_type": "markdown",
   "metadata": {},
   "source": [
    "### Evaluate model's predictions against the ground-truth comments:"
   ]
  },
  {
   "cell_type": "code",
   "execution_count": 23,
   "metadata": {},
   "outputs": [],
   "source": [
    "baseline_evals_against_args, baseline_scores_against_args= eval_model_on_df(expanded_df.all_counter_arguments.tolist(), expanded_df.baseline_final)\n",
    "app_v2_evals_against_args, app_v2_scores_against_args = eval_model_on_df(expanded_df.all_counter_arguments.tolist(), expanded_df.app_v2.tolist())\n",
    "app_v3_evals_against_args, app_v3_scores_against_args = eval_model_on_df(expanded_df.all_counter_arguments.tolist(), expanded_df.app_v3.tolist())"
   ]
  },
  {
   "cell_type": "code",
   "execution_count": 45,
   "metadata": {},
   "outputs": [],
   "source": [
    "app_v4_evals_against_args, app_v4_scores_against_args = eval_model_on_df(expanded_df.all_counter_arguments.tolist(), expanded_df.app_v4.tolist())"
   ]
  },
  {
   "cell_type": "code",
   "execution_count": 24,
   "metadata": {},
   "outputs": [],
   "source": [
    "app_v2_random_baseline_evals_against_args, app_v2_random_baseline_scores_against_args = eval_multiple_preds(expanded_df, ['app_v2_rand_0', 'app_v2_rand_1', 'app_v2_rand_2'], 'all_counter_arguments')\n",
    "app_v3_random_baseline_evals_against_args, app_v3_random_baseline_scores_against_args = eval_multiple_preds(expanded_df, ['app_v3_rand_0', 'app_v3_rand_1', 'app_v3_rand_2'], 'all_counter_arguments')"
   ]
  },
  {
   "cell_type": "code",
   "execution_count": 46,
   "metadata": {},
   "outputs": [],
   "source": [
    "app_v4_random_baseline_evals_against_args, app_v4_random_baseline_scores_against_args = eval_multiple_preds(expanded_df, ['app_v4_rand_0', 'app_v4_rand_1', 'app_v4_rand_2'], 'all_counter_arguments')"
   ]
  },
  {
   "cell_type": "code",
   "execution_count": 25,
   "metadata": {},
   "outputs": [],
   "source": [
    "app_v2_title_evals_against_args, app_v2_title_scores_against_args = eval_model_on_df(expanded_df.all_counter_arguments.tolist(), expanded_df.app_v2_title.tolist())\n",
    "app_v3_title_evals_against_args, app_v3_title_scores_against_args = eval_model_on_df(expanded_df.all_counter_arguments.tolist(), expanded_df.app_v3_title.tolist())"
   ]
  },
  {
   "cell_type": "code",
   "execution_count": 47,
   "metadata": {},
   "outputs": [],
   "source": [
    "app_v4_title_evals_against_args, app_v4_title_scores_against_args = eval_model_on_df(expanded_df.all_counter_arguments.tolist(), expanded_df.app_v4_title.tolist())"
   ]
  },
  {
   "cell_type": "code",
   "execution_count": 167,
   "metadata": {},
   "outputs": [
    {
     "name": "stdout",
     "output_type": "stream",
     "text": [
      "Approach               meteor    bleu-1    bleu-1&2    meteor    bleu-1    bleu-1&2\n",
      "-------------------  --------  --------  ----------  --------  --------  ----------\n",
      "1. Baseline             0.058    13.023       3.117     0.097    10.4         3.212\n",
      "2. Ours v2 - title      0.06     12.532       2.943     0.09      9.472       2.837\n",
      "2. Ours v2 - random     0.058    12.838       3.005     0.096    10.398       3.255\n",
      "2. Ours v2              0.057    13.453       3.391     0.102    10.998       3.764\n",
      "3. Ours v3 - title      0.06     12.635       3.023     0.092     9.685       2.984\n",
      "3. Ours v3 - random     0.059    12.712       2.987     0.096    10.161       3.217\n",
      "3. Ours v3              0.058    13.162       3.217     0.101    10.743       3.651\n"
     ]
    }
   ],
   "source": [
    "print(tabulate([\n",
    "                ['1. Baseline'] + baseline_evals + baseline_evals_against_args,\n",
    "                ['2. Ours v2 - title'] + app_v2_title_evals + app_v2_title_evals_against_args,\n",
    "                ['2. Ours v2 - random']+ app_v2_random_baseline_evals + app_v2_random_baseline_evals_against_args,\n",
    "                ['2. Ours v2'] + app_v2_evals + app_v2_evals_against_args,\n",
    "                ['3. Ours v3 - title'] + app_v3_title_evals + app_v3_title_evals_against_args,\n",
    "                ['3. Ours v3 - random'] + app_v3_random_baseline_evals + app_v3_random_baseline_evals_against_args,\n",
    "                ['3. Ours v3'] + app_v3_evals + app_v3_evals_against_args,\n",
    "                #['4. Ours v4 - title'] + app_v4_title_evals + app_v4_title_evals_against_args,\n",
    "                #['4. Ours v4 - random'] + app_v4_random_baseline_evals + app_v4_random_baseline_evals_against_args,\n",
    "                #['4. Ours v4'] + app_v4_evals + app_v4_evals_against_args,\n",
    "               ], headers=['Approach', 'meteor', 'bleu-1', 'bleu-1&2', 'meteor', 'bleu-1', 'bleu-1&2']))"
   ]
  },
  {
   "cell_type": "code",
   "execution_count": 223,
   "metadata": {},
   "outputs": [
    {
     "name": "stdout",
     "output_type": "stream",
     "text": [
      "app2 vs baseline:\n",
      "{'bleu-1': {'@5%': True, '%10': True}, 'bleu': {'@5%': True, '%10': True}, 'meteor': {'@5%': False, '%10': False}}\n",
      "{'bleu-1': {'@5%': True, '%10': True}, 'bleu': {'@5%': True, '%10': True}, 'meteor': {'@5%': True, '%10': True}}\n"
     ]
    }
   ],
   "source": [
    "# print(perform_significance_tests(baseline_scores, model_1_scores))\n",
    "# print(perform_significance_tests(baseline_scores, model_2_scores))\n",
    "# print(perform_significance_tests(baseline_scores, model_3_scores))\n",
    "# print(perform_significance_tests(baseline_scores, model_4_scores))\n",
    "# print(perform_significance_tests(baseline_scores, model_5_scores))\n",
    "print('app2 vs baseline:')\n",
    "print(perform_significance_tests(baseline_scores, app_v2_scores))\n",
    "print(perform_significance_tests(baseline_scores_against_args, app_v2_scores_against_args))"
   ]
  },
  {
   "cell_type": "code",
   "execution_count": 165,
   "metadata": {},
   "outputs": [
    {
     "name": "stdout",
     "output_type": "stream",
     "text": [
      "app3 vs baseline:\n",
      "{'bleu-1': {'@5%': False, '%10': False}, 'bleu': {'@5%': False, '%10': False}, 'meteor': {'@5%': False, '%10': False}}\n",
      "{'bleu-1': {'@5%': True, '%10': True}, 'bleu': {'@5%': True, '%10': True}, 'meteor': {'@5%': True, '%10': True}}\n"
     ]
    }
   ],
   "source": [
    "print('app3 vs baseline:')\n",
    "print(perform_significance_tests(baseline_scores, app_v3_scores))\n",
    "print(perform_significance_tests(baseline_scores_against_args, app_v3_scores_against_args))"
   ]
  },
  {
   "cell_type": "code",
   "execution_count": 166,
   "metadata": {},
   "outputs": [
    {
     "name": "stdout",
     "output_type": "stream",
     "text": [
      "app4 vs baseline:\n",
      "{'bleu-1': {'@5%': False, '%10': False}, 'bleu': {'@5%': False, '%10': False}, 'meteor': {'@5%': False, '%10': False}}\n",
      "{'bleu-1': {'@5%': True, '%10': True}, 'bleu': {'@5%': True, '%10': True}, 'meteor': {'@5%': False, '%10': True}}\n"
     ]
    }
   ],
   "source": [
    "print('app4 vs baseline:')\n",
    "print(perform_significance_tests(baseline_scores, app_v4_scores))\n",
    "print(perform_significance_tests(baseline_scores_against_args, app_v4_scores_against_args))"
   ]
  },
  {
   "cell_type": "code",
   "execution_count": 147,
   "metadata": {},
   "outputs": [
    {
     "name": "stdout",
     "output_type": "stream",
     "text": [
      "app2 vs app3:\n",
      "{'bleu-1': {'@5%': True, '%10': True}, 'bleu': {'@5%': False, '%10': False}, 'meteor': {'@5%': True, '%10': True}}\n",
      "{'bleu-1': {'@5%': False, '%10': True}, 'bleu': {'@5%': False, '%10': False}, 'meteor': {'@5%': True, '%10': True}}\n"
     ]
    }
   ],
   "source": [
    "print('app2 vs app3:')\n",
    "print(perform_significance_tests(app_v3_scores, app_v2_scores))\n",
    "print(perform_significance_tests(app_v3_scores_against_args, app_v2_scores_against_args))"
   ]
  },
  {
   "cell_type": "code",
   "execution_count": 149,
   "metadata": {},
   "outputs": [
    {
     "name": "stdout",
     "output_type": "stream",
     "text": [
      "app2 vs appv2 random:\n",
      "{'bleu-1': {'@5%': False, '%10': False}, 'bleu': {'@5%': True, '%10': True}, 'meteor': {'@5%': False, '%10': True}}\n",
      "{'bleu-1': {'@5%': False, '%10': False}, 'bleu': {'@5%': False, '%10': False}, 'meteor': {'@5%': False, '%10': False}}\n"
     ]
    }
   ],
   "source": [
    "print('app2 vs appv2 random:')\n",
    "print(perform_significance_tests(app_v2_scores, [x[0] for x in app_v2_random_baseline_scores]))\n",
    "print(perform_significance_tests(app_v2_scores_against_args, [x[0] for x in  app_v2_random_baseline_scores_against_args]))"
   ]
  },
  {
   "cell_type": "code",
   "execution_count": 150,
   "metadata": {},
   "outputs": [
    {
     "name": "stdout",
     "output_type": "stream",
     "text": [
      "app3 vs appv3 random:\n",
      "{'bleu-1': {'@5%': False, '%10': True}, 'bleu': {'@5%': False, '%10': False}, 'meteor': {'@5%': False, '%10': False}}\n",
      "{'bleu-1': {'@5%': True, '%10': True}, 'bleu': {'@5%': True, '%10': True}, 'meteor': {'@5%': True, '%10': True}}\n"
     ]
    }
   ],
   "source": [
    "print('app3 vs appv3 random:')\n",
    "print(perform_significance_tests(app_v3_scores, [x[0] for x in app_v3_random_baseline_scores]))\n",
    "print(perform_significance_tests(app_v3_scores_against_args, [x[0] for x in app_v3_random_baseline_scores]))"
   ]
  },
  {
   "cell_type": "code",
   "execution_count": 151,
   "metadata": {},
   "outputs": [
    {
     "name": "stdout",
     "output_type": "stream",
     "text": [
      "app2 vs appv2 title:\n",
      "{'bleu-1': {'@5%': False, '%10': False}, 'bleu': {'@5%': False, '%10': False}, 'meteor': {'@5%': False, '%10': False}}\n",
      "{'bleu-1': {'@5%': False, '%10': False}, 'bleu': {'@5%': False, '%10': False}, 'meteor': {'@5%': False, '%10': False}}\n"
     ]
    }
   ],
   "source": [
    "print('app2 vs appv2 title:')\n",
    "print(perform_significance_tests(app_v2_scores, app_v2_title_scores))\n",
    "print(perform_significance_tests(app_v2_scores_against_args, app_v2_title_scores_against_args))"
   ]
  },
  {
   "cell_type": "code",
   "execution_count": 152,
   "metadata": {},
   "outputs": [
    {
     "name": "stdout",
     "output_type": "stream",
     "text": [
      "app3 vs appv3 title:\n",
      "{'bleu-1': {'@5%': False, '%10': False}, 'bleu': {'@5%': False, '%10': False}, 'meteor': {'@5%': True, '%10': True}}\n",
      "{'bleu-1': {'@5%': False, '%10': False}, 'bleu': {'@5%': False, '%10': False}, 'meteor': {'@5%': False, '%10': False}}\n"
     ]
    }
   ],
   "source": [
    "print('app3 vs appv3 title:')\n",
    "print(perform_significance_tests(app_v3_scores, app_v3_title_scores))\n",
    "print(perform_significance_tests(app_v3_scores_against_args, app_v3_title_scores_against_args))"
   ]
  },
  {
   "cell_type": "markdown",
   "metadata": {},
   "source": [
    "-------------"
   ]
  },
  {
   "cell_type": "markdown",
   "metadata": {},
   "source": [
    "### Analyzing results:"
   ]
  },
  {
   "cell_type": "code",
   "execution_count": 389,
   "metadata": {},
   "outputs": [],
   "source": [
    "def overlap_between_attack_and_attacked_premises(attacked_premises, attack):\n",
    "    import nltk\n",
    "    from nltk.corpus import stopwords\n",
    "    en_stopwords = stopwords.words('english')\n",
    "\n",
    "    attack_tokens =[token for token in nltk.word_tokenize(attack) if token not in en_stopwords]\n",
    "    \n",
    "    attacked_premise_tokens = []\n",
    "    for sentence in attacked_premises:\n",
    "        attacked_premise_tokens += [token for token in nltk.word_tokenize(sentence) if token not in en_stopwords]\n",
    "\n",
    "    return len(set(attack_tokens).intersection(attacked_premise_tokens))/len(set(attacked_premise_tokens))"
   ]
  },
  {
   "cell_type": "code",
   "execution_count": 390,
   "metadata": {},
   "outputs": [],
   "source": [
    "expanded_df['app2_overlap'] = expanded_df.apply(lambda row: overlap_between_attack_and_attacked_premises(row['premise'], row['app_v2']), axis=1)\n",
    "expanded_df['app3_overlap'] = expanded_df.apply(lambda row: overlap_between_attack_and_attacked_premises(row['premise'], row['app_v3']), axis=1)\n",
    "expanded_df['baseline_overlap'] = expanded_df.apply(lambda row: overlap_between_attack_and_attacked_premises(row['premise'], row['baseline_final']), axis=1)"
   ]
  },
  {
   "cell_type": "code",
   "execution_count": 391,
   "metadata": {},
   "outputs": [
    {
     "name": "stdout",
     "output_type": "stream",
     "text": [
      "baseline:  0.22\n",
      "appv2:  0.27\n",
      "appv3:  0.27\n"
     ]
    }
   ],
   "source": [
    "print('baseline: ', round(np.mean(expanded_df['baseline_overlap'].tolist()), 2))\n",
    "print('appv2: ', round(np.mean(expanded_df['app2_overlap'].tolist()), 2))\n",
    "print('appv3: ', round(np.mean(expanded_df['app3_overlap'].tolist()), 2))"
   ]
  },
  {
   "cell_type": "code",
   "execution_count": 409,
   "metadata": {},
   "outputs": [
    {
     "data": {
      "text/plain": [
       "<AxesSubplot:>"
      ]
     },
     "execution_count": 409,
     "metadata": {},
     "output_type": "execute_result"
    },
    {
     "data": {
      "image/png": "[encoded data removed]",
      "text/plain": [
       "<Figure size 432x288 with 1 Axes>"
      ]
     },
     "metadata": {
      "needs_background": "light"
     },
     "output_type": "display_data"
    }
   ],
   "source": [
    "expanded_df.baseline_overlap.hist()"
   ]
  },
  {
   "cell_type": "code",
   "execution_count": null,
   "metadata": {},
   "outputs": [],
   "source": [
    "expanded_df.baseline_overlap.tolist(), \n",
    "          expanded_df.app2_overlap.tolist(), expanded_df.app3_overlap.tolist()"
   ]
  },
  {
   "cell_type": "code",
   "execution_count": 412,
   "metadata": {},
   "outputs": [
    {
     "data": {
      "text/plain": [
       "(array([207, 650, 476, 161,  62,  55,  11,   6,   4]),\n",
       " array([0. , 0.1, 0.2, 0.3, 0.4, 0.5, 0.6, 0.7, 0.8, 0.9]))"
      ]
     },
     "execution_count": 412,
     "metadata": {},
     "output_type": "execute_result"
    }
   ],
   "source": [
    "np.histogram(expanded_df.baseline_overlap.tolist(), bins=np.arange(0, 1, 0.1))"
   ]
  },
  {
   "cell_type": "code",
   "execution_count": 413,
   "metadata": {},
   "outputs": [
    {
     "data": {
      "text/plain": [
       "(array([144, 449, 499, 233, 131, 125,  29,   9,  10]),\n",
       " array([0. , 0.1, 0.2, 0.3, 0.4, 0.5, 0.6, 0.7, 0.8, 0.9]))"
      ]
     },
     "execution_count": 413,
     "metadata": {},
     "output_type": "execute_result"
    }
   ],
   "source": [
    "np.histogram(expanded_df.app2_overlap.tolist(), bins=np.arange(0, 1, 0.1))"
   ]
  },
  {
   "cell_type": "code",
   "execution_count": 414,
   "metadata": {},
   "outputs": [
    {
     "data": {
      "text/plain": [
       "(array([137, 467, 486, 240, 126, 115,  26,  19,  13]),\n",
       " array([0. , 0.1, 0.2, 0.3, 0.4, 0.5, 0.6, 0.7, 0.8, 0.9]))"
      ]
     },
     "execution_count": 414,
     "metadata": {},
     "output_type": "execute_result"
    }
   ],
   "source": [
    "np.histogram(expanded_df.app3_overlap.tolist(), bins=np.arange(0, 1, 0.1))"
   ]
  },
  {
   "cell_type": "code",
   "execution_count": 395,
   "metadata": {},
   "outputs": [
    {
     "data": {
      "image/png": "[encoded data removed]",
      "text/plain": [
       "<Figure size 432x288 with 1 Axes>"
      ]
     },
     "metadata": {
      "needs_background": "light"
     },
     "output_type": "display_data"
    }
   ],
   "source": [
    "\n",
    "plt.hist([expanded_df.baseline_overlap.tolist(), \n",
    "          expanded_df.app2_overlap.tolist(), expanded_df.app3_overlap.tolist()], \n",
    "         alpha=1.0, label=['counter-baseline', 'our-model-w/o', 'our-model-w'], bins=np.arange(0,1, 0.2))\n",
    "plt.xticks(np.arange(0,1, 0.2))\n",
    "#plt.yscale('log')\n",
    "plt.legend()\n",
    "plt.savefig('line_plot.pdf')\n",
    "plt.show()"
   ]
  },
  {
   "cell_type": "code",
   "execution_count": 221,
   "metadata": {},
   "outputs": [
    {
     "data": {
      "image/png": "[encoded data removed]",
      "text/plain": [
       "<Figure size 432x288 with 1 Axes>"
      ]
     },
     "metadata": {
      "needs_background": "light"
     },
     "output_type": "display_data"
    }
   ],
   "source": [
    "expanded_df['app2_overlap'] = expanded_df.apply(lambda row: utility.overlap_between_attack_and_attacked_premises(row['post'], row['app_v2']), axis=1)\n",
    "expanded_df['app3_overlap'] = expanded_df.apply(lambda row: utility.overlap_between_attack_and_attacked_premises(row['post'], row['app_v3']), axis=1)\n",
    "expanded_df['baseline_overlap'] = expanded_df.apply(lambda row: utility.overlap_between_attack_and_attacked_premises(row['post'], row['baseline_final']), axis=1)\n",
    "\n",
    "plt.hist([expanded_df.baseline_overlap.tolist(), \n",
    "          expanded_df.app2_overlap.tolist(), expanded_df.app3_overlap.tolist()], \n",
    "         alpha=1.0, label=['baseline', 'ours v2', 'ours v3'], bins=np.arange(0,1, 0.2))\n",
    "plt.xticks(np.arange(0,1, 0.2))\n",
    "plt.yscale('log')\n",
    "plt.legend()\n",
    "plt.show()"
   ]
  },
  {
   "cell_type": "code",
   "execution_count": 222,
   "metadata": {},
   "outputs": [
    {
     "data": {
      "image/png": "[encoded data removed]",
      "text/plain": [
       "<Figure size 432x288 with 1 Axes>"
      ]
     },
     "metadata": {
      "needs_background": "light"
     },
     "output_type": "display_data"
    }
   ],
   "source": [
    "expanded_df['app2_overlap'] = expanded_df.apply(lambda row: utility.overlap_between_attack_and_attacked_premises([row['gt_counter']], row['app_v2']), axis=1)\n",
    "expanded_df['app3_overlap'] = expanded_df.apply(lambda row: utility.overlap_between_attack_and_attacked_premises([row['gt_counter']], row['app_v3']), axis=1)\n",
    "expanded_df['baseline_overlap'] = expanded_df.apply(lambda row: utility.overlap_between_attack_and_attacked_premises([row['gt_counter']], row['baseline_final']), axis=1)\n",
    "\n",
    "plt.hist([expanded_df.baseline_overlap.tolist(), \n",
    "          expanded_df.app2_overlap.tolist(), expanded_df.app3_overlap.tolist()], \n",
    "         alpha=1.0, label=['baseline', 'ours v2', 'ours v3'], bins=np.arange(0,1, 0.2))\n",
    "plt.xticks(np.arange(0,1, 0.2))\n",
    "plt.legend()\n",
    "plt.yscale('log')\n",
    "plt.show()"
   ]
  },
  {
   "cell_type": "markdown",
   "metadata": {},
   "source": [
    "### Prepare data for visualization:"
   ]
  },
  {
   "cell_type": "code",
   "execution_count": 71,
   "metadata": {},
   "outputs": [],
   "source": [
    "sample_df = expanded_df[['title', 'post', 'premise', 'gt_counter', 'app_v2', 'app_v3', 'app_v4', 'baseline_final']].sample(100)"
   ]
  },
  {
   "cell_type": "code",
   "execution_count": 73,
   "metadata": {},
   "outputs": [],
   "source": [
    "['title', 'post', 'premise', 'gt_counter', 'ours_with_token_type', 'ours_with_token_type_and_special_tokens', 'ours_with_special_token', 'baseline']\n",
    "['title', 'post', 'premise', 'gt_counter', 'predictions_1', 'predictions_2', 'predictions_3', 'predictions_4']\n",
    "\n",
    "sample_df.columns = ['title', 'post', 'premise', 'gt_counter', 'predictions_1', 'predictions_2', 'predictions_3', 'predictions_4']"
   ]
  },
  {
   "cell_type": "code",
   "execution_count": 74,
   "metadata": {},
   "outputs": [],
   "source": [
    "def prepare_for_vis(df, models_names, output_path):\n",
    "    \n",
    "    def annotate_premise(p, weak_premises):\n",
    "        for x in weak_premises:\n",
    "            if x in p or p in x:\n",
    "                return '<weak> ' + p\n",
    "        return p\n",
    "    \n",
    "    #documents\n",
    "    documents = [{'claim': row['title'],\n",
    "                  'weak_premise': row['premise'],\n",
    "                  'premises': row['post'] } for idx, row in df.iterrows()]\n",
    "    \n",
    "    with open(output_path+'documents.json', 'w') as f:\n",
    "        for item in documents:\n",
    "            f.write(json.dumps(item))\n",
    "            f.write('\\n')\n",
    "\n",
    "    #reference\n",
    "    references = df.gt_counter.tolist()\n",
    "    with open(output_path+'references.txt', 'w') as f:\n",
    "        for item in references:\n",
    "            f.write(\"%s\\n\" % item)\n",
    "\n",
    "    for model in models_names:\n",
    "        #model_json = {'model': model, 'items': [{'document': row['title'] + '  ------  ' + ' '.join(row['post']), 'reference': row['premise'], 'prediction': row[model]} for idx, row in df.iterrows()]}\n",
    "        #json.dump(model_json, open(output_path+model+'.json', 'w'))\n",
    "        \n",
    "        preds = df[model].tolist()\n",
    "        with open(output_path+model+'.txt', 'w') as f:\n",
    "            for item in preds:\n",
    "                f.write(\"%s\\n\" % item)"
   ]
  },
  {
   "cell_type": "code",
   "execution_count": 75,
   "metadata": {},
   "outputs": [],
   "source": [
    "prepare_for_vis(sample_df, ['predictions_1', 'predictions_2', 'predictions_3', 'predictions_4'], './data_files/predictions/')"
   ]
  },
  {
   "cell_type": "markdown",
   "metadata": {},
   "source": [
    "### Manual Evaluation:"
   ]
  },
  {
   "cell_type": "markdown",
   "metadata": {},
   "source": [
    "#### Choosing best approach:"
   ]
  },
  {
   "cell_type": "code",
   "execution_count": 397,
   "metadata": {},
   "outputs": [],
   "source": [
    "ann_folder = './data_files/annotations/'"
   ]
  },
  {
   "cell_type": "code",
   "execution_count": 104,
   "metadata": {},
   "outputs": [],
   "source": [
    "milad_ranks =[x.strip().split('\\t')[1] for x in  open(ann_folder + 'choosing_best_approach - milad-sheet.tsv').readlines()[1:]]\n",
    "milad_ranks =[[int(x) for x in ranks.split(',')] for ranks in  milad_ranks]\n",
    "shahbaz_ranks = [x.strip().split('\\t')[1] for x in  open(ann_folder + 'choosing_best_approach - shahbaz-sheet.tsv').readlines()[1:]]\n",
    "shahbaz_ranks =[[int(x) for x in ranks.split(',')] for ranks in  shahbaz_ranks]"
   ]
  },
  {
   "cell_type": "code",
   "execution_count": 107,
   "metadata": {},
   "outputs": [],
   "source": [
    "all_ranks = milad_ranks + shahbaz_ranks"
   ]
  },
  {
   "cell_type": "code",
   "execution_count": 113,
   "metadata": {},
   "outputs": [
    {
     "name": "stdout",
     "output_type": "stream",
     "text": [
      "most common approach in first rank:  1\n",
      "most common approach in second rank:  1\n",
      "most common approach in third rank:  3\n"
     ]
    }
   ],
   "source": [
    "first_ranks = [x[0] for x in all_ranks]\n",
    "print('most common approach in first rank: ',max(set(first_ranks), key=first_ranks.count))\n",
    "      \n",
    "second_ranks = [x[1] for x in all_ranks]\n",
    "print('most common approach in second rank: ',max(set(second_ranks), key=second_ranks.count))\n",
    "      \n",
    "third_ranks = [x[2] for x in all_ranks]\n",
    "print('most common approach in third rank: ',max(set(third_ranks), key=third_ranks.count))"
   ]
  },
  {
   "cell_type": "code",
   "execution_count": 132,
   "metadata": {},
   "outputs": [],
   "source": [
    "data = []\n",
    "for app in [1,2,3]:\n",
    "    app_ranks = ['predictions-{}'.format(app)]\n",
    "    for rank in [1,2,3]:\n",
    "        app_perc = [x[rank-1] for x in all_ranks].count(app)/100\n",
    "        app_ranks.append(app_perc)\n",
    "    data.append(app_ranks)"
   ]
  },
  {
   "cell_type": "code",
   "execution_count": 133,
   "metadata": {},
   "outputs": [
    {
     "name": "stdout",
     "output_type": "stream",
     "text": [
      "                 rank-1    rank-2    rank3\n",
      "-------------  --------  --------  -------\n",
      "predictions-1      0.5       0.41     0.09\n",
      "predictions-2      0.41      0.4      0.19\n",
      "predictions-3      0.09      0.19     0.72\n"
     ]
    }
   ],
   "source": [
    "print(tabulate(data, headers=['rank-1', 'rank-2', 'rank3']))"
   ]
  },
  {
   "cell_type": "markdown",
   "metadata": {},
   "source": [
    "#### Baseline vs Approach:"
   ]
  },
  {
   "cell_type": "code",
   "execution_count": 398,
   "metadata": {},
   "outputs": [],
   "source": [
    "from collections import Counter\n",
    "from sklearn.metrics import cohen_kappa_score\n",
    "from nltk import agreement\n",
    "from scipy.stats import kendalltau"
   ]
  },
  {
   "cell_type": "code",
   "execution_count": 399,
   "metadata": {},
   "outputs": [],
   "source": [
    "#making it like a ranking list, so if user picked 1 then the ranking will be [1, 4]\n",
    "def extend_s(s):\n",
    "    o = []\n",
    "    for x in s:\n",
    "        o.append(x)\n",
    "        o.append('1' if x=='4' else '4')\n",
    "    return o"
   ]
  },
  {
   "cell_type": "code",
   "execution_count": 400,
   "metadata": {},
   "outputs": [],
   "source": [
    "timon_ranks =[x.strip().split(',')[1:] for x in  open(ann_folder + 'timon_eval_template.csv').readlines()[1:]]\n",
    "max_ranks =[x.strip().split(',')[1:] for x in  open(ann_folder + 'max_eval_template.csv').readlines()[1:]]\n",
    "weifan_ranks =[x.strip().split(',')[1:] for x in  open(ann_folder + 'weifan_eval_template.csv').readlines()[1:]]"
   ]
  },
  {
   "cell_type": "code",
   "execution_count": 401,
   "metadata": {},
   "outputs": [],
   "source": [
    "rel_scores = [[x[0][0], x[1][0], x[2][0]] for x in zip(timon_ranks, max_ranks, weifan_ranks)]\n",
    "app_scores = [[x[0][1], x[1][1], x[2][1]] for x in zip(timon_ranks, max_ranks, weifan_ranks)]"
   ]
  },
  {
   "cell_type": "markdown",
   "metadata": {},
   "source": [
    "Relevant to the weak premise:"
   ]
  },
  {
   "cell_type": "code",
   "execution_count": 402,
   "metadata": {},
   "outputs": [
    {
     "name": "stdout",
     "output_type": "stream",
     "text": [
      "Approach was selected: 0.56\n",
      "Baseline was selected: 0.44\n"
     ]
    }
   ],
   "source": [
    "majority_vote = [Counter(x).most_common()[0][0] for x in rel_scores]\n",
    "\n",
    "print('Approach was selected:', majority_vote.count('1')/50)\n",
    "print('Baseline was selected:', majority_vote.count('4')/50)"
   ]
  },
  {
   "cell_type": "code",
   "execution_count": 406,
   "metadata": {},
   "outputs": [
    {
     "name": "stdout",
     "output_type": "stream",
     "text": [
      "Approach was selected: 0.5733333333333334\n",
      "Baseline was selected: 0.4266666666666667\n"
     ]
    }
   ],
   "source": [
    "absolute_scores = [s for row in rel_scores for s in row]\n",
    "print('Approach was selected:', absolute_scores.count('1')/150)\n",
    "print('Baseline was selected:', absolute_scores.count('4')/150)"
   ]
  },
  {
   "cell_type": "markdown",
   "metadata": {},
   "source": [
    "Appropriatness:"
   ]
  },
  {
   "cell_type": "code",
   "execution_count": 364,
   "metadata": {},
   "outputs": [
    {
     "name": "stdout",
     "output_type": "stream",
     "text": [
      "Approach was selected: 0.56\n",
      "Baseline was selected: 0.44\n"
     ]
    }
   ],
   "source": [
    "majority_vote = [Counter(x).most_common()[0][0] for x in app_scores]\n",
    "\n",
    "print('Approach was selected:', majority_vote.count('1')/50)\n",
    "print('Baseline was selected:', majority_vote.count('4')/50)"
   ]
  },
  {
   "cell_type": "code",
   "execution_count": 407,
   "metadata": {},
   "outputs": [
    {
     "name": "stdout",
     "output_type": "stream",
     "text": [
      "Approach was selected: 0.5666666666666667\n",
      "Baseline was selected: 0.43333333333333335\n"
     ]
    }
   ],
   "source": [
    "absolute_scores = [s for row in app_scores for s in row]\n",
    "print('Approach was selected:', absolute_scores.count('1')/150)\n",
    "print('Baseline was selected:', absolute_scores.count('4')/150)"
   ]
  },
  {
   "cell_type": "code",
   "execution_count": 365,
   "metadata": {},
   "outputs": [],
   "source": [
    "all_scores = rel_scores + app_scores"
   ]
  },
  {
   "cell_type": "code",
   "execution_count": 312,
   "metadata": {},
   "outputs": [
    {
     "name": "stdout",
     "output_type": "stream",
     "text": [
      "Avg Kendalls for the task of relevancy:  0.4133333333333334\n"
     ]
    }
   ],
   "source": [
    "ann1, ann2, ann3 = zip(*rel_scores)\n",
    "ann1 = extend_s(ann1)\n",
    "ann2 = extend_s(ann2)\n",
    "ann3 = extend_s(ann3)\n",
    "print('Avg Kendalls for the task of relevancy: ', (kendalltau(ann1, ann2)[0] + kendalltau(ann1, ann3)[0] + kendalltau(ann2, ann3)[0])/3)"
   ]
  },
  {
   "cell_type": "code",
   "execution_count": 313,
   "metadata": {},
   "outputs": [
    {
     "name": "stdout",
     "output_type": "stream",
     "text": [
      "Avg Kendalls for the task of appropriateness:  0.22666666666666668\n"
     ]
    }
   ],
   "source": [
    "ann1, ann2, ann3 = zip(*app_scores)\n",
    "ann1 = extend_s(ann1)\n",
    "ann2 = extend_s(ann2)\n",
    "ann3 = extend_s(ann3)\n",
    "print('Avg Kendalls for the task of appropriateness: ', (kendalltau(ann1, ann2)[0] + kendalltau(ann1, ann3)[0] + kendalltau(ann2, ann3)[0])/3)"
   ]
  },
  {
   "cell_type": "code",
   "execution_count": null,
   "metadata": {},
   "outputs": [],
   "source": []
  }
 ],
 "metadata": {
  "kernelspec": {
   "display_name": "Python 3",
   "language": "python",
   "name": "python3"
  },
  "language_info": {
   "codemirror_mode": {
    "name": "ipython",
    "version": 3
   },
   "file_extension": ".py",
   "mimetype": "text/x-python",
   "name": "python",
   "nbconvert_exporter": "python",
   "pygments_lexer": "ipython3",
   "version": "3.7.9"
  }
 },
 "nbformat": 4,
 "nbformat_minor": 4
}
