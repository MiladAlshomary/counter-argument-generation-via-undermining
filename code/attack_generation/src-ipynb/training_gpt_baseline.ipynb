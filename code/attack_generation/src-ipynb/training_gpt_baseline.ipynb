{
 "cells": [
  {
   "cell_type": "code",
   "execution_count": 5,
   "metadata": {},
   "outputs": [],
   "source": [
    "import sys\n",
    "import os\n",
    "import json\n",
    "import re\n",
    "import nltk\n",
    "\n",
    "import numpy as np\n",
    "import pandas as pd\n",
    "import matplotlib.pyplot as plt\n",
    "from sklearn.model_selection import train_test_split\n",
    "\n",
    "os.environ['CUDA_VISIBLE_DEVICES']='1'\n",
    "pd.set_option('display.max_colwidth', None)\n",
    "sys.path.append('../../lib/')"
   ]
  },
  {
   "cell_type": "code",
   "execution_count": 6,
   "metadata": {},
   "outputs": [],
   "source": [
    "import utility"
   ]
  },
  {
   "cell_type": "markdown",
   "metadata": {},
   "source": [
    "### Training GPT:"
   ]
  },
  {
   "cell_type": "code",
   "execution_count": null,
   "metadata": {
    "scrolled": true
   },
   "outputs": [
    {
     "name": "stdout",
     "output_type": "stream",
     "text": [
      "2020-12-10 21:47:11.490665: I tensorflow/stream_executor/platform/default/dso_loader.cc:48] Successfully opened dynamic library libcudart.so.10.1\n",
      "WARNING:/workspace/computationally-undermining-arguments/thirdparty/transfer-learning-conv-ai/train.py:Running process -1\n",
      "INFO:/workspace/computationally-undermining-arguments/thirdparty/transfer-learning-conv-ai/train.py:Arguments: Namespace(baseline=True, build_instance_version=None, dataset_cache='./jo_data_cache', dataset_path='/workspace/ceph_data/argument-undermining/data/gpt_data/jo_data.json', device='cuda', eval_before_start=False, fp16='', gradient_accumulation_steps=8, lm_coef=1.0, local_rank=-1, log_dir='/workspace/ceph_data/argument-undermining/models/gen_models/', lr=6.25e-05, max_history=2, max_norm=1.0, mc_coef=1.0, model_checkpoint='openai-gpt', n_epochs=6, num_candidates=2, output_model_checkpoint='jo_baseline_gpt', personality_permutations=1, premise_extra=False, train_batch_size=1, valid_batch_size=1)\n",
      "INFO:/workspace/computationally-undermining-arguments/thirdparty/transfer-learning-conv-ai/train.py:Prepare tokenizer, pretrained model and optimizer.\n",
      "ftfy or spacy is not installed using BERT BasicTokenizer instead of SpaCy & ftfy.\n",
      "Some weights of OpenAIGPTDoubleHeadsModel were not initialized from the model checkpoint at openai-gpt and are newly initialized: ['multiple_choice_head.summary.bias', 'multiple_choice_head.summary.weight', 'lm_head.weight']\n",
      "You should probably TRAIN this model on a down-stream task to be able to use it for predictions and inference.\n",
      "INFO:/workspace/computationally-undermining-arguments/thirdparty/transfer-learning-conv-ai/train.py:Prepare datasets\n",
      "INFO:/workspace/computationally-undermining-arguments/thirdparty/transfer-learning-conv-ai/utils.py:Load tokenized dataset from cache at ./jo_data_cache_OpenAIGPTTokenizer\n",
      "INFO:/workspace/computationally-undermining-arguments/thirdparty/transfer-learning-conv-ai/train.py:Build inputs and labels\n",
      "INFO:/workspace/computationally-undermining-arguments/thirdparty/transfer-learning-conv-ai/train.py:using premise extra: False\n",
      "INFO:/workspace/computationally-undermining-arguments/thirdparty/transfer-learning-conv-ai/train.py:Build instance version: None\n",
      "INFO:/workspace/computationally-undermining-arguments/thirdparty/transfer-learning-conv-ai/train.py:Skipped 28372 cases out of 90426 in the train dataset!!\n",
      "INFO:/workspace/computationally-undermining-arguments/thirdparty/transfer-learning-conv-ai/train.py:In 0 cases, premise wasn't found in the post\n",
      "INFO:/workspace/computationally-undermining-arguments/thirdparty/transfer-learning-conv-ai/train.py:Skipped 2613 cases out of 8750 in the valid dataset!!\n",
      "INFO:/workspace/computationally-undermining-arguments/thirdparty/transfer-learning-conv-ai/train.py:In 0 cases, premise wasn't found in the post\n",
      "INFO:/workspace/computationally-undermining-arguments/thirdparty/transfer-learning-conv-ai/train.py:Pad inputs and convert to Tensor\n",
      "INFO:/workspace/computationally-undermining-arguments/thirdparty/transfer-learning-conv-ai/train.py:Build train and validation dataloaders\n",
      "INFO:/workspace/computationally-undermining-arguments/thirdparty/transfer-learning-conv-ai/train.py:Train dataset (Batch, Candidates, Seq length): torch.Size([62054, 2, 509])\n",
      "INFO:/workspace/computationally-undermining-arguments/thirdparty/transfer-learning-conv-ai/train.py:Valid dataset (Batch, Candidates, Seq length): torch.Size([6137, 2, 509])\n",
      "/opt/miniconda3/lib/python3.8/site-packages/ignite/handlers/checkpoint.py:708: UserWarning: Argument save_interval is deprecated and should be None. This argument will be removed in 0.5.0.Please, use events filtering instead, e.g. Events.ITERATION_STARTED(every=1000)\n",
      "  warnings.warn(msg)\n",
      "INFO:ignite.engine.engine.Engine:Engine run starting with max_epochs=6.\n",
      "/opt/miniconda3/lib/python3.8/site-packages/transformers/modeling_openai.py:688: FutureWarning: The `lm_labels` argument is deprecated and will be removed in a future version, use `labels` instead.\n",
      "  warnings.warn(\n",
      "Epoch [1/6]: [1062/62054]   2%|▎                    , loss=0.487 [04:33<4:19:41]"
     ]
    }
   ],
   "source": []
  },
  {
   "cell_type": "code",
   "execution_count": null,
   "metadata": {},
   "outputs": [],
   "source": []
  }
 ],
 "metadata": {
  "kernelspec": {
   "display_name": "Python 3",
   "language": "python",
   "name": "python3"
  },
  "language_info": {
   "codemirror_mode": {
    "name": "ipython",
    "version": 3
   },
   "file_extension": ".py",
   "mimetype": "text/x-python",
   "name": "python",
   "nbconvert_exporter": "python",
   "pygments_lexer": "ipython3",
   "version": "3.7.9"
  }
 },
 "nbformat": 4,
 "nbformat_minor": 4
}
