{
 "cells": [
  {
   "cell_type": "code",
   "execution_count": 31,
   "metadata": {},
   "outputs": [
    {
     "name": "stdout",
     "output_type": "stream",
     "text": [
      "The autoreload extension is already loaded. To reload it, use:\n",
      "  %reload_ext autoreload\n"
     ]
    }
   ],
   "source": [
    "%load_ext autoreload"
   ]
  },
  {
   "cell_type": "code",
   "execution_count": 32,
   "metadata": {},
   "outputs": [],
   "source": [
    "import sys\n",
    "import os\n",
    "import json\n",
    "import re\n",
    "import nltk\n",
    "\n",
    "import numpy as np\n",
    "import pandas as pd\n",
    "import matplotlib.pyplot as plt\n",
    "from sklearn.model_selection import train_test_split\n",
    "\n",
    "os.environ['CUDA_VISIBLE_DEVICES']='1'\n",
    "pd.set_option('display.max_colwidth', None)\n",
    "sys.path.append('/workspace/computationally-undermining-arguments/src-py/')\n",
    "sys.path.append('/workspace/computationally-undermining-arguments/scripts/')"
   ]
  },
  {
   "cell_type": "code",
   "execution_count": 39,
   "metadata": {},
   "outputs": [],
   "source": [
    "%autoreload\n",
    "\n",
    "import utility"
   ]
  },
  {
   "cell_type": "markdown",
   "metadata": {},
   "source": [
    "### Data Preparation:"
   ]
  },
  {
   "cell_type": "markdown",
   "metadata": {},
   "source": [
    "### Old data:"
   ]
  },
  {
   "cell_type": "code",
   "execution_count": 6,
   "metadata": {},
   "outputs": [],
   "source": [
    "training_df =  pd.read_json(\"/workspace/ceph_data/argument-undermining/data/gen_training.json\")\n",
    "valid_df =  pd.read_json(\"/workspace/ceph_data/argument-undermining/data/gen_validation.json\")"
   ]
  },
  {
   "cell_type": "code",
   "execution_count": 7,
   "metadata": {},
   "outputs": [],
   "source": [
    "training_df = clean_df(training_df)\n",
    "valid_df = clean_df(valid_df)"
   ]
  },
  {
   "cell_type": "code",
   "execution_count": 74,
   "metadata": {},
   "outputs": [],
   "source": [
    "comment_lengths = training_df.full_comment.apply(lambda x: len(nltk.word_tokenize(\" \".join(x))))"
   ]
  },
  {
   "cell_type": "code",
   "execution_count": 75,
   "metadata": {},
   "outputs": [
    {
     "name": "stdout",
     "output_type": "stream",
     "text": [
      "81.5188192207563\n"
     ]
    }
   ],
   "source": [
    "print(np.mean(comment_lengths))"
   ]
  },
  {
   "cell_type": "code",
   "execution_count": 77,
   "metadata": {},
   "outputs": [
    {
     "data": {
      "image/png": "[encoded data removed]",
      "text/plain": [
       "<Figure size 432x288 with 1 Axes>"
      ]
     },
     "metadata": {
      "needs_background": "light"
     },
     "output_type": "display_data"
    }
   ],
   "source": [
    "import matplotlib.pyplot as plt\n",
    "plt.hist(comment_lengths)\n",
    "plt.show()"
   ]
  },
  {
   "cell_type": "code",
   "execution_count": 79,
   "metadata": {},
   "outputs": [],
   "source": [
    "training_data1 = prepare_data_for_training({'train': training_df, 'valid': valid_df})\n",
    "json.dump(training_data1, open('/workspace/ceph_data/argument-undermining/data/gpt_data/baseline_data.json', 'w'))"
   ]
  },
  {
   "cell_type": "code",
   "execution_count": null,
   "metadata": {},
   "outputs": [],
   "source": [
    "len(training_data1['train'])"
   ]
  },
  {
   "cell_type": "markdown",
   "metadata": {},
   "source": [
    "### Jo Data:"
   ]
  },
  {
   "cell_type": "markdown",
   "metadata": {},
   "source": [
    "No need to this section anymore, because the data is generated from the notebook training_gpt2.ipynb for both baseline and the approach..."
   ]
  },
  {
   "cell_type": "code",
   "execution_count": 26,
   "metadata": {},
   "outputs": [],
   "source": [
    "jo_df =  pd.read_pickle(\"/workspace/ceph_data/argument-undermining/jo_data/gen_data.pickle\")"
   ]
  },
  {
   "cell_type": "code",
   "execution_count": 27,
   "metadata": {},
   "outputs": [],
   "source": [
    "training_df = jo_df[jo_df.split =='train']\n",
    "valid_df = jo_df[jo_df.split =='val']"
   ]
  },
  {
   "cell_type": "code",
   "execution_count": 40,
   "metadata": {
    "scrolled": true
   },
   "outputs": [
    {
     "name": "stderr",
     "output_type": "stream",
     "text": [
      "/workspace/computationally-undermining-arguments/src-py/utility.py:17: SettingWithCopyWarning: \n",
      "A value is trying to be set on a copy of a slice from a DataFrame.\n",
      "Try using .loc[row_indexer,col_indexer] = value instead\n",
      "\n",
      "See the caveats in the documentation: https://pandas.pydata.org/pandas-docs/stable/user_guide/indexing.html#returning-a-view-versus-a-copy\n",
      "  df[post_clm] = df[post_clm].apply(lambda x : [sent.strip().lower() for sent in x])\n",
      "/workspace/computationally-undermining-arguments/src-py/utility.py:18: SettingWithCopyWarning: \n",
      "A value is trying to be set on a copy of a slice from a DataFrame.\n",
      "Try using .loc[row_indexer,col_indexer] = value instead\n",
      "\n",
      "See the caveats in the documentation: https://pandas.pydata.org/pandas-docs/stable/user_guide/indexing.html#returning-a-view-versus-a-copy\n",
      "  df[comment_clm] = df[comment_clm].apply(lambda x : [sent.strip().lower() for sent in x])\n",
      "/workspace/computationally-undermining-arguments/src-py/utility.py:19: SettingWithCopyWarning: \n",
      "A value is trying to be set on a copy of a slice from a DataFrame.\n",
      "Try using .loc[row_indexer,col_indexer] = value instead\n",
      "\n",
      "See the caveats in the documentation: https://pandas.pydata.org/pandas-docs/stable/user_guide/indexing.html#returning-a-view-versus-a-copy\n",
      "  \n"
     ]
    }
   ],
   "source": [
    "training_df = utility.clean_df(training_df)\n",
    "valid_df    = utility.clean_df(valid_df)"
   ]
  },
  {
   "cell_type": "code",
   "execution_count": 48,
   "metadata": {},
   "outputs": [],
   "source": [
    "jo_training = utility.prepare_data_for_training({'train': training_df, 'valid': valid_df[0:5000]},\n",
    "                                                full_counter=False, context='title+post', \n",
    "                                                post_clm='post', \n",
    "                                                comment_clm='comment_sents', \n",
    "                                                attacks_clm='premise_counter_premise_pairs', max_sens=20, baseline=True)"
   ]
  },
  {
   "cell_type": "code",
   "execution_count": 49,
   "metadata": {},
   "outputs": [
    {
     "data": {
      "text/plain": [
       "53558"
      ]
     },
     "execution_count": 49,
     "metadata": {},
     "output_type": "execute_result"
    }
   ],
   "source": [
    "len(jo_training['train'])"
   ]
  },
  {
   "cell_type": "code",
   "execution_count": 50,
   "metadata": {},
   "outputs": [
    {
     "data": {
      "text/plain": [
       "5000"
      ]
     },
     "execution_count": 50,
     "metadata": {},
     "output_type": "execute_result"
    }
   ],
   "source": [
    "len(jo_training['valid'])"
   ]
  },
  {
   "cell_type": "code",
   "execution_count": 51,
   "metadata": {},
   "outputs": [],
   "source": [
    "json.dump(jo_training, open('/workspace/ceph_data/argument-undermining/data/gpt_data/jo_baseline_data.json', 'w'))"
   ]
  },
  {
   "cell_type": "markdown",
   "metadata": {},
   "source": [
    "### Training GPT2:"
   ]
  },
  {
   "cell_type": "code",
   "execution_count": null,
   "metadata": {
    "scrolled": true
   },
   "outputs": [
    {
     "name": "stdout",
     "output_type": "stream",
     "text": [
      "2020-12-10 21:47:11.490665: I tensorflow/stream_executor/platform/default/dso_loader.cc:48] Successfully opened dynamic library libcudart.so.10.1\n",
      "WARNING:/workspace/computationally-undermining-arguments/thirdparty/transfer-learning-conv-ai/train.py:Running process -1\n",
      "INFO:/workspace/computationally-undermining-arguments/thirdparty/transfer-learning-conv-ai/train.py:Arguments: Namespace(baseline=True, build_instance_version=None, dataset_cache='./jo_data_cache', dataset_path='/workspace/ceph_data/argument-undermining/data/gpt_data/jo_data.json', device='cuda', eval_before_start=False, fp16='', gradient_accumulation_steps=8, lm_coef=1.0, local_rank=-1, log_dir='/workspace/ceph_data/argument-undermining/models/gen_models/', lr=6.25e-05, max_history=2, max_norm=1.0, mc_coef=1.0, model_checkpoint='openai-gpt', n_epochs=6, num_candidates=2, output_model_checkpoint='jo_baseline_gpt', personality_permutations=1, premise_extra=False, train_batch_size=1, valid_batch_size=1)\n",
      "INFO:/workspace/computationally-undermining-arguments/thirdparty/transfer-learning-conv-ai/train.py:Prepare tokenizer, pretrained model and optimizer.\n",
      "ftfy or spacy is not installed using BERT BasicTokenizer instead of SpaCy & ftfy.\n",
      "Some weights of OpenAIGPTDoubleHeadsModel were not initialized from the model checkpoint at openai-gpt and are newly initialized: ['multiple_choice_head.summary.bias', 'multiple_choice_head.summary.weight', 'lm_head.weight']\n",
      "You should probably TRAIN this model on a down-stream task to be able to use it for predictions and inference.\n",
      "INFO:/workspace/computationally-undermining-arguments/thirdparty/transfer-learning-conv-ai/train.py:Prepare datasets\n",
      "INFO:/workspace/computationally-undermining-arguments/thirdparty/transfer-learning-conv-ai/utils.py:Load tokenized dataset from cache at ./jo_data_cache_OpenAIGPTTokenizer\n",
      "INFO:/workspace/computationally-undermining-arguments/thirdparty/transfer-learning-conv-ai/train.py:Build inputs and labels\n",
      "INFO:/workspace/computationally-undermining-arguments/thirdparty/transfer-learning-conv-ai/train.py:using premise extra: False\n",
      "INFO:/workspace/computationally-undermining-arguments/thirdparty/transfer-learning-conv-ai/train.py:Build instance version: None\n",
      "INFO:/workspace/computationally-undermining-arguments/thirdparty/transfer-learning-conv-ai/train.py:Skipped 28372 cases out of 90426 in the train dataset!!\n",
      "INFO:/workspace/computationally-undermining-arguments/thirdparty/transfer-learning-conv-ai/train.py:In 0 cases, premise wasn't found in the post\n",
      "INFO:/workspace/computationally-undermining-arguments/thirdparty/transfer-learning-conv-ai/train.py:Skipped 2613 cases out of 8750 in the valid dataset!!\n",
      "INFO:/workspace/computationally-undermining-arguments/thirdparty/transfer-learning-conv-ai/train.py:In 0 cases, premise wasn't found in the post\n",
      "INFO:/workspace/computationally-undermining-arguments/thirdparty/transfer-learning-conv-ai/train.py:Pad inputs and convert to Tensor\n",
      "INFO:/workspace/computationally-undermining-arguments/thirdparty/transfer-learning-conv-ai/train.py:Build train and validation dataloaders\n",
      "INFO:/workspace/computationally-undermining-arguments/thirdparty/transfer-learning-conv-ai/train.py:Train dataset (Batch, Candidates, Seq length): torch.Size([62054, 2, 509])\n",
      "INFO:/workspace/computationally-undermining-arguments/thirdparty/transfer-learning-conv-ai/train.py:Valid dataset (Batch, Candidates, Seq length): torch.Size([6137, 2, 509])\n",
      "/opt/miniconda3/lib/python3.8/site-packages/ignite/handlers/checkpoint.py:708: UserWarning: Argument save_interval is deprecated and should be None. This argument will be removed in 0.5.0.Please, use events filtering instead, e.g. Events.ITERATION_STARTED(every=1000)\n",
      "  warnings.warn(msg)\n",
      "INFO:ignite.engine.engine.Engine:Engine run starting with max_epochs=6.\n",
      "/opt/miniconda3/lib/python3.8/site-packages/transformers/modeling_openai.py:688: FutureWarning: The `lm_labels` argument is deprecated and will be removed in a future version, use `labels` instead.\n",
      "  warnings.warn(\n",
      "Epoch [1/6]: [1062/62054]   2%|▎                    , loss=0.487 [04:33<4:19:41]"
     ]
    }
   ],
   "source": [
    "!CUDA_VISIBLE_DEVICES=3 python3 /workspace/computationally-undermining-arguments/thirdparty/transfer-learning-conv-ai/train.py \\\n",
    "                    --dataset_path /workspace/ceph_data/argument-undermining/data/gpt_data/jo_data.json \\\n",
    "                    --model_checkpoint openai-gpt \\\n",
    "                    --log_dir /workspace/ceph_data/argument-undermining/models/gen_models/ \\\n",
    "                    --baseline \\\n",
    "                    --dataset_cache ./jo_data_cache \\\n",
    "                    --output_model_checkpoint jo_baseline_gpt \\\n",
    "                    --num_candidates 2 \\\n",
    "                    --train_batch_size 1 \\\n",
    "                    --valid_batch_size 1 \\\n",
    "                    --lr 6.25e-5 \\\n",
    "                    --n_epochs 6"
   ]
  },
  {
   "cell_type": "code",
   "execution_count": null,
   "metadata": {},
   "outputs": [],
   "source": []
  }
 ],
 "metadata": {
  "kernelspec": {
   "display_name": "Python 3",
   "language": "python",
   "name": "python3"
  },
  "language_info": {
   "codemirror_mode": {
    "name": "ipython",
    "version": 3
   },
   "file_extension": ".py",
   "mimetype": "text/x-python",
   "name": "python",
   "nbconvert_exporter": "python",
   "pygments_lexer": "ipython3",
   "version": "3.7.9"
  }
 },
 "nbformat": 4,
 "nbformat_minor": 4
}
