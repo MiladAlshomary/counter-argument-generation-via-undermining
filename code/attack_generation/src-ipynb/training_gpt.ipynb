{
 "cells": [
  {
   "cell_type": "code",
   "execution_count": null,
   "metadata": {},
   "outputs": [],
   "source": [
    "%load_ext autoreload"
   ]
  },
  {
   "cell_type": "code",
   "execution_count": null,
   "metadata": {},
   "outputs": [],
   "source": [
    "import sys\n",
    "import os\n",
    "import json\n",
    "import re\n",
    "import random\n",
    "import pandas as pd\n",
    "from sklearn.model_selection import train_test_split\n",
    "\n",
    "os.environ['CUDA_VISIBLE_DEVICES']='2'\n",
    "pd.set_option('display.max_colwidth', None)\n",
    "\n",
    "sys.path.append('../../lib/')\n",
    "sys.path.append('../../lib/counter_gen_lib')"
   ]
  },
  {
   "cell_type": "code",
   "execution_count": null,
   "metadata": {},
   "outputs": [],
   "source": [
    "from utility import *\n",
    "import interact"
   ]
  },
  {
   "cell_type": "markdown",
   "metadata": {},
   "source": [
    "### Data Preparation:"
   ]
  },
  {
   "cell_type": "code",
   "execution_count": null,
   "metadata": {},
   "outputs": [],
   "source": [
    "data_path = '/workspace/ceph_data/argument-undermining/jo_data'"
   ]
  },
  {
   "cell_type": "code",
   "execution_count": null,
   "metadata": {},
   "outputs": [],
   "source": [
    "jo_df =  pd.read_pickle(data_path + \"/gen_data.pickle\")\n",
    "\n",
    "training_df = jo_df[jo_df.split =='train']\n",
    "valid_df = jo_df[jo_df.split =='val']"
   ]
  },
  {
   "cell_type": "code",
   "execution_count": null,
   "metadata": {},
   "outputs": [],
   "source": [
    "training_df = utility.clean_df(training_df)\n",
    "valid_df    = utility.clean_df(valid_df)"
   ]
  },
  {
   "cell_type": "code",
   "execution_count": null,
   "metadata": {},
   "outputs": [],
   "source": [
    "jo_training = utility.prepare_data_for_training({'train': training_df, 'valid': valid_df[0:5000]},\n",
    "                                                full_counter=False, context='title+post', \n",
    "                                                post_clm='post', \n",
    "                                                comment_clm='comment_sents', \n",
    "                                                attacks_clm='premise_counter_premise_pairs', max_sens=20, baseline=False)"
   ]
  },
  {
   "cell_type": "code",
   "execution_count": null,
   "metadata": {},
   "outputs": [],
   "source": [
    "json.dump(jo_training, open('/workspace/ceph_data/argument-undermining/data/gpt_data/jo_data.json', 'w'))"
   ]
  },
  {
   "cell_type": "markdown",
   "metadata": {},
   "source": [
    "### Training GPT:"
   ]
  },
  {
   "cell_type": "code",
   "execution_count": 1,
   "metadata": {},
   "outputs": [],
   "source": [
    "GENERATION_LIB_PATH='/workspace/counter-argument-generation-via-undermining/code/lib/counter_gen_lib'"
   ]
  },
  {
   "cell_type": "markdown",
   "metadata": {},
   "source": [
    "### Training the model with weak premises annotated:"
   ]
  },
  {
   "cell_type": "code",
   "execution_count": null,
   "metadata": {
    "scrolled": true
   },
   "outputs": [],
   "source": [
    "! CUDA_VISIBLE_DEVICES=5 python ${GENERATION_LIB_PATH}/train.py \\\n",
    "                    --dataset_path /workspace/ceph_data/argument-undermining/data/gpt_data/jo_data.json \\\n",
    "                    --model_checkpoint openai-gpt \\\n",
    "                    --log_dir /workspace/ceph_data/argument-undermining/models/gen_models/ \\\n",
    "                    --output_model_checkpoint my_approach_v2 \\\n",
    "                    --dataset_cache ./jo_data_cache \\\n",
    "                    --build_instance_version 'v2' \\\n",
    "                    --num_candidates 2 \\\n",
    "                    --train_batch_size 1 \\\n",
    "                    --valid_batch_size 1 \\\n",
    "                    --lr 6.25e-5 \\\n",
    "                    --n_epochs 6"
   ]
  },
  {
   "cell_type": "markdown",
   "metadata": {},
   "source": [
    "### Training the model with weak premises annotated, and with special tokens:"
   ]
  },
  {
   "cell_type": "code",
   "execution_count": null,
   "metadata": {},
   "outputs": [],
   "source": [
    "! CUDA_VISIBLE_DEVICES=3 python /workspace/computationally-undermining-arguments/thirdparty/transfer-learning-conv-ai/train.py \\\n",
    "                    --dataset_path /workspace/ceph_data/argument-undermining/data/gpt_data/jo_data.json \\\n",
    "                    --model_checkpoint openai-gpt \\\n",
    "                    --log_dir /workspace/ceph_data/argument-undermining/models/gen_models/ \\\n",
    "                    --output_model_checkpoint my_approach_v4 \\\n",
    "                    --dataset_cache ./jo_data_cache \\\n",
    "                    --build_instance_version 'v4' \\\n",
    "                    --num_candidates 2 \\\n",
    "                    --train_batch_size 1 \\\n",
    "                    --valid_batch_size 1 \\\n",
    "                    --lr 6.25e-5 \\\n",
    "                    --n_epochs 6"
   ]
  },
  {
   "cell_type": "markdown",
   "metadata": {},
   "source": [
    "### Training the baseline:"
   ]
  },
  {
   "cell_type": "code",
   "execution_count": null,
   "metadata": {},
   "outputs": [],
   "source": [
    "!CUDA_VISIBLE_DEVICES=3 python3 /workspace/computationally-undermining-arguments/thirdparty/transfer-learning-conv-ai/train.py \\\n",
    "                    --dataset_path /workspace/ceph_data/argument-undermining/data/gpt_data/jo_data.json \\\n",
    "                    --model_checkpoint openai-gpt \\\n",
    "                    --log_dir /workspace/ceph_data/argument-undermining/models/gen_models/ \\\n",
    "                    --baseline \\\n",
    "                    --dataset_cache ./jo_data_cache \\\n",
    "                    --output_model_checkpoint jo_baseline_gpt \\\n",
    "                    --num_candidates 2 \\\n",
    "                    --train_batch_size 1 \\\n",
    "                    --valid_batch_size 1 \\\n",
    "                    --lr 6.25e-5 \\\n",
    "                    --n_epochs 6"
   ]
  }
 ],
 "metadata": {
  "kernelspec": {
   "display_name": "Python 3",
   "language": "python",
   "name": "python3"
  },
  "language_info": {
   "codemirror_mode": {
    "name": "ipython",
    "version": 3
   },
   "file_extension": ".py",
   "mimetype": "text/x-python",
   "name": "python",
   "nbconvert_exporter": "python",
   "pygments_lexer": "ipython3",
   "version": "3.7.9"
  }
 },
 "nbformat": 4,
 "nbformat_minor": 4
}
