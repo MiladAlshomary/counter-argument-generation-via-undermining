{
 "cells": [
  {
   "cell_type": "code",
   "execution_count": 1,
   "metadata": {},
   "outputs": [],
   "source": [
    "%load_ext autoreload"
   ]
  },
  {
   "cell_type": "code",
   "execution_count": 2,
   "metadata": {},
   "outputs": [],
   "source": [
    "import sys\n",
    "import os\n",
    "import json\n",
    "import re\n",
    "import pandas as pd\n",
    "import numpy as np\n",
    "from sklearn.model_selection import train_test_split\n",
    "\n",
    "pd.set_option('display.max_colwidth', None)\n",
    "sys.path.append('/workspace/computationally-undermining-arguments/scripts/')"
   ]
  },
  {
   "cell_type": "code",
   "execution_count": 3,
   "metadata": {},
   "outputs": [
    {
     "name": "stderr",
     "output_type": "stream",
     "text": [
      "[nltk_data] Downloading package punkt to /root/nltk_data...\n",
      "[nltk_data]   Package punkt is already up-to-date!\n"
     ]
    }
   ],
   "source": [
    "%autoreload\n",
    "from data_preprocess.get_dataset import *"
   ]
  },
  {
   "cell_type": "code",
   "execution_count": 12,
   "metadata": {},
   "outputs": [],
   "source": [
    "#clean the dataset\n",
    "create_clean_cmv('/workspace/ceph_data/argument-undermining/data/cmv_20161111_dataset.json', '/workspace/ceph_data/argument-undermining/data/create_target_callout_pairs.json')"
   ]
  },
  {
   "cell_type": "code",
   "execution_count": 53,
   "metadata": {},
   "outputs": [],
   "source": [
    "#split into train/validation/test per title\n",
    "df = pd.read_json('/workspace/ceph_data/argument-undermining/data/cmv_20161111_dataset.json')\n",
    "\n",
    "post_titles = list(df.title.value_counts().to_dict().keys())\n",
    "training_titles, testing_titles = train_test_split(post_titles, test_size =0.2)\n",
    "testing_titles, validation_titles = train_test_split(testing_titles, test_size=0.5)\n",
    "\n",
    "training = df[df.title.isin(training_titles)]\n",
    "testing  = df[df.title.isin(testing_titles)]\n",
    "validation = df[df.title.isin(validation_titles)]\n",
    "\n",
    "training.to_json('/workspace/ceph_data/argument-undermining/data/cmv_20161111_training.json')\n",
    "validation.to_json('/workspace/ceph_data/argument-undermining/data/cmv_20161111_validation.json')\n",
    "testing.to_json('/workspace/ceph_data/argument-undermining/data/cmv_20161111_testing.json')"
   ]
  },
  {
   "cell_type": "code",
   "execution_count": 54,
   "metadata": {},
   "outputs": [
    {
     "name": "stdout",
     "output_type": "stream",
     "text": [
      "19930\n",
      "2491\n",
      "2494\n"
     ]
    }
   ],
   "source": [
    "print(len(training))\n",
    "print(len(validation))\n",
    "print(len(testing))"
   ]
  },
  {
   "cell_type": "code",
   "execution_count": 24,
   "metadata": {},
   "outputs": [],
   "source": [
    "create_target_callout_pairs('/workspace/ceph_data/argument-undermining/data/cmv_20161111_training.json', '/workspace/ceph_data/argument-undermining/data/vul_detection_training.json', '/workspace/ceph_data/argument-undermining/data/new_gen_training.json', 5)\n",
    "create_target_callout_pairs('/workspace/ceph_data/argument-undermining/data/cmv_20161111_validation.json', '/workspace/ceph_data/argument-undermining/data/vul_detection_validation.json', '/workspace/ceph_data/argument-undermining/data/new_gen_validation.json', 5)\n",
    "create_target_callout_pairs('/workspace/ceph_data/argument-undermining/data/cmv_20161111_testing.json', '/workspace/ceph_data/argument-undermining/data/vul_detection_testing.json', '/workspace/ceph_data/argument-undermining/data/new_gen_testing.json', 5)"
   ]
  },
  {
   "cell_type": "code",
   "execution_count": 26,
   "metadata": {
    "scrolled": true
   },
   "outputs": [
    {
     "data": {
      "text/html": [
       "<div>\n",
       "<style scoped>\n",
       "    .dataframe tbody tr th:only-of-type {\n",
       "        vertical-align: middle;\n",
       "    }\n",
       "\n",
       "    .dataframe tbody tr th {\n",
       "        vertical-align: top;\n",
       "    }\n",
       "\n",
       "    .dataframe thead th {\n",
       "        text-align: right;\n",
       "    }\n",
       "</style>\n",
       "<table border=\"1\" class=\"dataframe\">\n",
       "  <thead>\n",
       "    <tr style=\"text-align: right;\">\n",
       "      <th></th>\n",
       "      <th>title</th>\n",
       "      <th>name</th>\n",
       "      <th>author</th>\n",
       "      <th>comment_name</th>\n",
       "      <th>comment_user</th>\n",
       "      <th>target</th>\n",
       "      <th>full_post</th>\n",
       "      <th>full_comment</th>\n",
       "      <th>premise_counter_premise_pair</th>\n",
       "    </tr>\n",
       "  </thead>\n",
       "  <tbody>\n",
       "    <tr>\n",
       "      <th>0</th>\n",
       "      <td>i don't think atheist should have scientific evidence as a requirement in order to prove god.</td>\n",
       "      <td>t3_28rql5</td>\n",
       "      <td>YoungAthleticOne</td>\n",
       "      <td>t1_cidsq2m</td>\n",
       "      <td>runs_and_chews_gum</td>\n",
       "      <td>[If so, why would the atheist think the way to finding god should be through enlightenment scientific empirical evidence when the text specifically say the path to god is through trust faith?]</td>\n",
       "      <td>[You hear it all the time: Atheist 'There is just not enough evidence for me to believe'., Well what is this evidence that you are looking for?, You want me to say one day, 'Yes, I finally found god., I found him When studying the crystal lattice structure of various elements Radon, Xenon, and Phosphorus, the individual molecules electrons are polarized such that it permeates the higgs field., Using partial derivatives to derive the Ginzburg Landau equation, we can use this model the superconductivity when the elements are freezed to absolute zero, then translating this to Soblev Spaces since the electromagnetic field creates a holomorphic form As the electron spins in a given element such as Radon in these extreme conditions, it spins unilaterally without any resistance to such that it forms hyper magnetic dipole that entangles into a higher dimensional Calabi Yau manifold permeating the Hilbert space., With this being achieved it is theorized that it must be going faster than the speed of light, and one of the theorized particles in the standard model that is capable of doing this is the Tachyon Since the element was superconductive and the individual atoms spun unilaterally to create a hyper magnetic dipole entangled into a higher dimensional manifold, then this electron in 3 dimensions is simultaneously entangled in a Calabi Yau hyper dimension manifold as a fluid interacting with Tachyons., We consider a uid described by a parameterized EoS Euclidean Supersymmetry of 8th dimension of the general form P 1 p0 HH H2H2 dHH 21 , where p0, H, H2 and dH are free parameters of the model, interacting with a Tachyonic eld with a relativistic Lagrangian assumption based on quantum superposition. ', Is that the type explanation atheist are expecting?, If so, you will never find it, because that is not how god works., Don't religious text say that the path to god, is through Trust , not Enlightenment ?, If so, why would the atheist think the way to finding god should be through enlightenment scientific empirical evidence when the text specifically say the path to god is through trust faith?]</td>\n",
       "      <td>[But you've just outlined the reasons atheists don't believe in God., Because there is no evidence, apart from the Bible, of his existence., Scientific or historical evidence supporting the existence of God would probably change the minds of most atheist on earth., Don't religious text say that the path to god, is through Trust, not Enlightenment?, There is no evidence that the path to God is trust apart from religious text, so this argument is invalid., If so, why would the atheist think the way to finding god should be through enlightenment scientific empirical evidence when the text specifically say the path to god is through trust faith?, Because atheists do not believe in the existence of a God of any sorts, I doubt any of them are actively trying to find God.]</td>\n",
       "      <td>[[If so, why would the atheist think the way to finding god should be through enlightenment scientific empirical evidence when the text specifically say the path to god is through trust faith?, Because atheists do not believe in the existence of a God of any sorts, I doubt any of them are actively trying to find God.]]</td>\n",
       "    </tr>\n",
       "    <tr>\n",
       "      <th>1</th>\n",
       "      <td>i don't think atheist should have scientific evidence as a requirement in order to prove god.</td>\n",
       "      <td>t3_28rql5</td>\n",
       "      <td>YoungAthleticOne</td>\n",
       "      <td>t1_cidt2eg</td>\n",
       "      <td>[deleted]</td>\n",
       "      <td>[If so, you will never find it, because that is not how god works., If so, why would the atheist think the way to finding god should be through enlightenment scientific empirical evidence when the text specifically say the path to god is through trust faith?]</td>\n",
       "      <td>[You hear it all the time: Atheist 'There is just not enough evidence for me to believe'., Well what is this evidence that you are looking for?, You want me to say one day, 'Yes, I finally found god., I found him When studying the crystal lattice structure of various elements Radon, Xenon, and Phosphorus, the individual molecules electrons are polarized such that it permeates the higgs field., Using partial derivatives to derive the Ginzburg Landau equation, we can use this model the superconductivity when the elements are freezed to absolute zero, then translating this to Soblev Spaces since the electromagnetic field creates a holomorphic form As the electron spins in a given element such as Radon in these extreme conditions, it spins unilaterally without any resistance to such that it forms hyper magnetic dipole that entangles into a higher dimensional Calabi Yau manifold permeating the Hilbert space., With this being achieved it is theorized that it must be going faster than the speed of light, and one of the theorized particles in the standard model that is capable of doing this is the Tachyon Since the element was superconductive and the individual atoms spun unilaterally to create a hyper magnetic dipole entangled into a higher dimensional manifold, then this electron in 3 dimensions is simultaneously entangled in a Calabi Yau hyper dimension manifold as a fluid interacting with Tachyons., We consider a uid described by a parameterized EoS Euclidean Supersymmetry of 8th dimension of the general form P 1 p0 HH H2H2 dHH 21 , where p0, H, H2 and dH are free parameters of the model, interacting with a Tachyonic eld with a relativistic Lagrangian assumption based on quantum superposition. ', Is that the type explanation atheist are expecting?, If so, you will never find it, because that is not how god works., Don't religious text say that the path to god, is through Trust , not Enlightenment ?, If so, why would the atheist think the way to finding god should be through enlightenment scientific empirical evidence when the text specifically say the path to god is through trust faith?]</td>\n",
       "      <td>[If so, why would the atheist think the way to finding god should be through enlightenment scientific empirical evidence when the text specifically say the path to god is through trust faith?, because in order to accept the fact that faith is necessary, faith must be put into the text to begin with., This loop of faith is stable once initiated, but many people don't want to get into it., If so, you will never find it, because that is not how god works., If god has a tangible effect on the world or anyone's lives, there will be something like this., Perhaps it will be so complex that we won't see it for thousands of years, but unless god is just sitting on his ass for eternity, he'll be doing something, and that something is theoretically detectable., if that isn't how god works, then what's the point?, an entity with no effect on anything is no better than imaginary.]</td>\n",
       "      <td>[[If so, why would the atheist think the way to finding god should be through enlightenment scientific empirical evidence when the text specifically say the path to god is through trust faith?, because in order to accept the fact that faith is necessary, faith must be put into the text to begin with. This loop of faith is stable once initiated, but many people don't want to get into it.], [If so, you will never find it, because that is not how god works., If god has a tangible effect on the world or anyone's lives, there will be something like this. Perhaps it will be so complex that we won't see it for thousands of years, but unless god is just sitting on his ass for eternity, he'll be doing something, and that something is theoretically detectable. if that isn't how god works, then what's the point? an entity with no effect on anything is no better than imaginary.]]</td>\n",
       "    </tr>\n",
       "    <tr>\n",
       "      <th>2</th>\n",
       "      <td>i don't think atheist should have scientific evidence as a requirement in order to prove god.</td>\n",
       "      <td>t3_28rql5</td>\n",
       "      <td>YoungAthleticOne</td>\n",
       "      <td>t1_cidvidq</td>\n",
       "      <td>tamist</td>\n",
       "      <td>[If so, you will never find it, because that is not how god works., If so, why would the atheist think the way to finding god should be through enlightenment scientific empirical evidence when the text specifically say the path to god is through trust faith?]</td>\n",
       "      <td>[You hear it all the time: Atheist 'There is just not enough evidence for me to believe'., Well what is this evidence that you are looking for?, You want me to say one day, 'Yes, I finally found god., I found him When studying the crystal lattice structure of various elements Radon, Xenon, and Phosphorus, the individual molecules electrons are polarized such that it permeates the higgs field., Using partial derivatives to derive the Ginzburg Landau equation, we can use this model the superconductivity when the elements are freezed to absolute zero, then translating this to Soblev Spaces since the electromagnetic field creates a holomorphic form As the electron spins in a given element such as Radon in these extreme conditions, it spins unilaterally without any resistance to such that it forms hyper magnetic dipole that entangles into a higher dimensional Calabi Yau manifold permeating the Hilbert space., With this being achieved it is theorized that it must be going faster than the speed of light, and one of the theorized particles in the standard model that is capable of doing this is the Tachyon Since the element was superconductive and the individual atoms spun unilaterally to create a hyper magnetic dipole entangled into a higher dimensional manifold, then this electron in 3 dimensions is simultaneously entangled in a Calabi Yau hyper dimension manifold as a fluid interacting with Tachyons., We consider a uid described by a parameterized EoS Euclidean Supersymmetry of 8th dimension of the general form P 1 p0 HH H2H2 dHH 21 , where p0, H, H2 and dH are free parameters of the model, interacting with a Tachyonic eld with a relativistic Lagrangian assumption based on quantum superposition. ', Is that the type explanation atheist are expecting?, If so, you will never find it, because that is not how god works., Don't religious text say that the path to god, is through Trust , not Enlightenment ?, If so, why would the atheist think the way to finding god should be through enlightenment scientific empirical evidence when the text specifically say the path to god is through trust faith?]</td>\n",
       "      <td>[If so, you will never find it, because that is not how god works., Don't religious text say that the path to god, is through Trust, not Enlightenment?, If so, why would the atheist think the way to finding god should be through enlightenment scientific empirical evidence when the text specifically say the path to god is through trust faith?, Basically 'the Book says to take it's word for it, so why don't you?, 'Because we never just 'take anyone's word for it. ', We need reasonable evidence for all claims., God is no different., Note: I am agnostic not an atheist exactly because there is no evidence against a god., But just 'trust in the book' is certainly not good enough to prove he does exist.]</td>\n",
       "      <td>[[If so, you will never find it, because that is not how god works., Don't religious text say that the path to god, is through Trust, not Enlightenment?], [If so, why would the atheist think the way to finding god should be through enlightenment scientific empirical evidence when the text specifically say the path to god is through trust faith?, Basically 'the Book says to take it's word for it, so why don't you? 'Because we never just 'take anyone's word for it. ' We need reasonable evidence for all claims. God is no different. Note: I am agnostic not an atheist exactly because there is no evidence against a god.]]</td>\n",
       "    </tr>\n",
       "    <tr>\n",
       "      <th>3</th>\n",
       "      <td>i don't think atheist should have scientific evidence as a requirement in order to prove god.</td>\n",
       "      <td>t3_28rql5</td>\n",
       "      <td>YoungAthleticOne</td>\n",
       "      <td>t1_cidwfy2</td>\n",
       "      <td>swearrengen</td>\n",
       "      <td>[If so, why would the atheist think the way to finding god should be through enlightenment scientific empirical evidence when the text specifically say the path to god is through trust faith?]</td>\n",
       "      <td>[You hear it all the time: Atheist 'There is just not enough evidence for me to believe'., Well what is this evidence that you are looking for?, You want me to say one day, 'Yes, I finally found god., I found him When studying the crystal lattice structure of various elements Radon, Xenon, and Phosphorus, the individual molecules electrons are polarized such that it permeates the higgs field., Using partial derivatives to derive the Ginzburg Landau equation, we can use this model the superconductivity when the elements are freezed to absolute zero, then translating this to Soblev Spaces since the electromagnetic field creates a holomorphic form As the electron spins in a given element such as Radon in these extreme conditions, it spins unilaterally without any resistance to such that it forms hyper magnetic dipole that entangles into a higher dimensional Calabi Yau manifold permeating the Hilbert space., With this being achieved it is theorized that it must be going faster than the speed of light, and one of the theorized particles in the standard model that is capable of doing this is the Tachyon Since the element was superconductive and the individual atoms spun unilaterally to create a hyper magnetic dipole entangled into a higher dimensional manifold, then this electron in 3 dimensions is simultaneously entangled in a Calabi Yau hyper dimension manifold as a fluid interacting with Tachyons., We consider a uid described by a parameterized EoS Euclidean Supersymmetry of 8th dimension of the general form P 1 p0 HH H2H2 dHH 21 , where p0, H, H2 and dH are free parameters of the model, interacting with a Tachyonic eld with a relativistic Lagrangian assumption based on quantum superposition. ', Is that the type explanation atheist are expecting?, If so, you will never find it, because that is not how god works., Don't religious text say that the path to god, is through Trust , not Enlightenment ?, If so, why would the atheist think the way to finding god should be through enlightenment scientific empirical evidence when the text specifically say the path to god is through trust faith?]</td>\n",
       "      <td>[If so, why would the atheist think the way to finding god should be through enlightenment scientific empirical evidence when the text specifically say the path to god is through trust faith?, equals reworded Why would one group of people say that knowledge requires evidence when another group of people say knowledge doesn't require evidence?, Which group of people to believe?, And the answer ultimately is neither., Both are second hand sources they could be lying, or mistaken or deluded, or trying to trick you ultimately you only have your own evidence as a first hand source of what to believe of not to believe., What you experience is the first hand source material for you that trumps all other sources., Would God want you to deny or dismiss the evidence of your own senses?, Would God who endowed you with the powers of judgement and reason want you to believe every word in a text or every statement by an authoritative figure by blindly suspending that judgement and reason?, If there is a God, then He must be logical and rational., Wouldn't it be silly to create a World, then give Man sensors to see and touch evidence and a Brain to comprehend the evidence of the world and himself and then say 'but for believing in me , you must stop using the method for which I endowed you to know what exists and what is true and what is real'., No, a true God would see this as us suspending our gifts and deluding ourselves., A true God would want us to acknowledge what we know as fact and what we don't know as fact., He'd want us to be honest with ourselves.]</td>\n",
       "      <td>[[If so, why would the atheist think the way to finding god should be through enlightenment scientific empirical evidence when the text specifically say the path to god is through trust faith?, equals reworded Why would one group of people say that knowledge requires evidence when another group of people say knowledge doesn't require evidence? Which group of people to believe? And the answer ultimately is neither. Both are second hand sources they could be lying, or mistaken or deluded, or trying to trick you ultimately you only have your own evidence as a first hand source of what to believe of not to believe. What you experience is the first hand source material for you that trumps all other sources.]]</td>\n",
       "    </tr>\n",
       "    <tr>\n",
       "      <th>4</th>\n",
       "      <td>i don't think atheist should have scientific evidence as a requirement in order to prove god.</td>\n",
       "      <td>t3_28rql5</td>\n",
       "      <td>YoungAthleticOne</td>\n",
       "      <td>t1_cidwxyc</td>\n",
       "      <td>Raborn</td>\n",
       "      <td>[If so, you will never find it, because that is not how god works., If so, why would the atheist think the way to finding god should be through enlightenment scientific empirical evidence when the text specifically say the path to god is through trust faith?]</td>\n",
       "      <td>[You hear it all the time: Atheist 'There is just not enough evidence for me to believe'., Well what is this evidence that you are looking for?, You want me to say one day, 'Yes, I finally found god., I found him When studying the crystal lattice structure of various elements Radon, Xenon, and Phosphorus, the individual molecules electrons are polarized such that it permeates the higgs field., Using partial derivatives to derive the Ginzburg Landau equation, we can use this model the superconductivity when the elements are freezed to absolute zero, then translating this to Soblev Spaces since the electromagnetic field creates a holomorphic form As the electron spins in a given element such as Radon in these extreme conditions, it spins unilaterally without any resistance to such that it forms hyper magnetic dipole that entangles into a higher dimensional Calabi Yau manifold permeating the Hilbert space., With this being achieved it is theorized that it must be going faster than the speed of light, and one of the theorized particles in the standard model that is capable of doing this is the Tachyon Since the element was superconductive and the individual atoms spun unilaterally to create a hyper magnetic dipole entangled into a higher dimensional manifold, then this electron in 3 dimensions is simultaneously entangled in a Calabi Yau hyper dimension manifold as a fluid interacting with Tachyons., We consider a uid described by a parameterized EoS Euclidean Supersymmetry of 8th dimension of the general form P 1 p0 HH H2H2 dHH 21 , where p0, H, H2 and dH are free parameters of the model, interacting with a Tachyonic eld with a relativistic Lagrangian assumption based on quantum superposition. ', Is that the type explanation atheist are expecting?, If so, you will never find it, because that is not how god works., Don't religious text say that the path to god, is through Trust , not Enlightenment ?, If so, why would the atheist think the way to finding god should be through enlightenment scientific empirical evidence when the text specifically say the path to god is through trust faith?]</td>\n",
       "      <td>[Let me start by saying, that evidence need not be scientific., The question you posed by 'Atheist Persondude' does not specify that., It seems that it is often assumed that only scientific evidence will do and to be fair it WOULD be the best kind to show that something existed., In fact, I'd go so far to say you have SOME kind of evidence good or bad for everything you believe., If so, you will never find it, because that is not how god works., Don't religious text say that the path to god, is through Trust, not Enlightenment?, If so, why would the atheist think the way to finding god should be through enlightenment scientific empirical evidence when the text specifically say the path to god is through trust faith?, To be clear, you're suggesting blind trust, not just regular everyday trust, correct?, Let's ensure we're not equivocating by talking about trust and how we define it., I will define my usage of trust by examples:I trust my family because I have evidence that they will back me up., I trust my friends because they're there when I need them., I trust my co workers because they continuously and repeatedly perform their duties in a reliable manner., Most importantly I can directly experience that they exist, I can bring them to other people, take videos with them, call them and let other people talk to them., You cannot do this with any god., The trust you're talking about is not evidence based., I'm sure you agree that the trust that I am talking about is., So, basically you're asking us to believe without a reason if we use faith in the way I understand you're putting forward., Why would we?, Is there anything you believe based on nothing?, Surely you agree that we need at least some evidence to believe anything, you don't believe based on NOTHING right?, You have a bible, or a vision, or someone tells you something in a convincing way., If you might agree that to believe something you need evidence, then why not the best available evidence that's potentially available to everyone?]</td>\n",
       "      <td>[[If so, you will never find it, because that is not how god works., Don't religious text say that the path to god, is through Trust, not Enlightenment?], [If so, why would the atheist think the way to finding god should be through enlightenment scientific empirical evidence when the text specifically say the path to god is through trust faith?, To be clear, you're suggesting blind trust, not just regular everyday trust, correct? Let's ensure we're not equivocating by talking about trust and how we define it. I will define my usage of trust by examples:I trust my family because I have evidence that they will back me up. I trust my friends because they're there when I need them. I trust my co workers because they continuously and repeatedly perform their duties in a reliable manner.]]</td>\n",
       "    </tr>\n",
       "  </tbody>\n",
       "</table>\n",
       "</div>"
      ],
      "text/plain": [
       "                                                                                             title  \\\n",
       "0    i don't think atheist should have scientific evidence as a requirement in order to prove god.   \n",
       "1    i don't think atheist should have scientific evidence as a requirement in order to prove god.   \n",
       "2    i don't think atheist should have scientific evidence as a requirement in order to prove god.   \n",
       "3    i don't think atheist should have scientific evidence as a requirement in order to prove god.   \n",
       "4    i don't think atheist should have scientific evidence as a requirement in order to prove god.   \n",
       "\n",
       "        name            author comment_name        comment_user  \\\n",
       "0  t3_28rql5  YoungAthleticOne  t1_cidsq2m   runs_and_chews_gum   \n",
       "1  t3_28rql5  YoungAthleticOne  t1_cidt2eg   [deleted]            \n",
       "2  t3_28rql5  YoungAthleticOne  t1_cidvidq   tamist               \n",
       "3  t3_28rql5  YoungAthleticOne  t1_cidwfy2   swearrengen          \n",
       "4  t3_28rql5  YoungAthleticOne  t1_cidwxyc   Raborn               \n",
       "\n",
       "                                                                                                                                                                                                                                                                target  \\\n",
       "0  [If so, why would the atheist think the way to finding god should be through enlightenment scientific empirical evidence when the text specifically say the path to god is through trust faith?]                                                                      \n",
       "1  [If so, you will never find it, because that is not how god works., If so, why would the atheist think the way to finding god should be through enlightenment scientific empirical evidence when the text specifically say the path to god is through trust faith?]   \n",
       "2  [If so, you will never find it, because that is not how god works., If so, why would the atheist think the way to finding god should be through enlightenment scientific empirical evidence when the text specifically say the path to god is through trust faith?]   \n",
       "3  [If so, why would the atheist think the way to finding god should be through enlightenment scientific empirical evidence when the text specifically say the path to god is through trust faith?]                                                                      \n",
       "4  [If so, you will never find it, because that is not how god works., If so, why would the atheist think the way to finding god should be through enlightenment scientific empirical evidence when the text specifically say the path to god is through trust faith?]   \n",
       "\n",
       "                                                                                                                                                                                                                                                                                                                                                                                                                                                                                                                                                                                                                                                                                                                                                                                                                                                                                                                                                                                                                                                                                                                                                                                                                                                                                                                                                                                                                                                                                                                                                                                                                                                                                                                                                                                                                                                                                                                                                                                                                                                                                                                                                                                                  full_post  \\\n",
       "0  [You hear it all the time: Atheist 'There is just not enough evidence for me to believe'., Well what is this evidence that you are looking for?, You want me to say one day, 'Yes, I finally found god., I found him When studying the crystal lattice structure of various elements Radon, Xenon, and Phosphorus, the individual molecules electrons are polarized such that it permeates the higgs field., Using partial derivatives to derive the Ginzburg Landau equation, we can use this model the superconductivity when the elements are freezed to absolute zero, then translating this to Soblev Spaces since the electromagnetic field creates a holomorphic form As the electron spins in a given element such as Radon in these extreme conditions, it spins unilaterally without any resistance to such that it forms hyper magnetic dipole that entangles into a higher dimensional Calabi Yau manifold permeating the Hilbert space., With this being achieved it is theorized that it must be going faster than the speed of light, and one of the theorized particles in the standard model that is capable of doing this is the Tachyon Since the element was superconductive and the individual atoms spun unilaterally to create a hyper magnetic dipole entangled into a higher dimensional manifold, then this electron in 3 dimensions is simultaneously entangled in a Calabi Yau hyper dimension manifold as a fluid interacting with Tachyons., We consider a uid described by a parameterized EoS Euclidean Supersymmetry of 8th dimension of the general form P 1 p0 HH H2H2 dHH 21 , where p0, H, H2 and dH are free parameters of the model, interacting with a Tachyonic eld with a relativistic Lagrangian assumption based on quantum superposition. ', Is that the type explanation atheist are expecting?, If so, you will never find it, because that is not how god works., Don't religious text say that the path to god, is through Trust , not Enlightenment ?, If so, why would the atheist think the way to finding god should be through enlightenment scientific empirical evidence when the text specifically say the path to god is through trust faith?]   \n",
       "1  [You hear it all the time: Atheist 'There is just not enough evidence for me to believe'., Well what is this evidence that you are looking for?, You want me to say one day, 'Yes, I finally found god., I found him When studying the crystal lattice structure of various elements Radon, Xenon, and Phosphorus, the individual molecules electrons are polarized such that it permeates the higgs field., Using partial derivatives to derive the Ginzburg Landau equation, we can use this model the superconductivity when the elements are freezed to absolute zero, then translating this to Soblev Spaces since the electromagnetic field creates a holomorphic form As the electron spins in a given element such as Radon in these extreme conditions, it spins unilaterally without any resistance to such that it forms hyper magnetic dipole that entangles into a higher dimensional Calabi Yau manifold permeating the Hilbert space., With this being achieved it is theorized that it must be going faster than the speed of light, and one of the theorized particles in the standard model that is capable of doing this is the Tachyon Since the element was superconductive and the individual atoms spun unilaterally to create a hyper magnetic dipole entangled into a higher dimensional manifold, then this electron in 3 dimensions is simultaneously entangled in a Calabi Yau hyper dimension manifold as a fluid interacting with Tachyons., We consider a uid described by a parameterized EoS Euclidean Supersymmetry of 8th dimension of the general form P 1 p0 HH H2H2 dHH 21 , where p0, H, H2 and dH are free parameters of the model, interacting with a Tachyonic eld with a relativistic Lagrangian assumption based on quantum superposition. ', Is that the type explanation atheist are expecting?, If so, you will never find it, because that is not how god works., Don't religious text say that the path to god, is through Trust , not Enlightenment ?, If so, why would the atheist think the way to finding god should be through enlightenment scientific empirical evidence when the text specifically say the path to god is through trust faith?]   \n",
       "2  [You hear it all the time: Atheist 'There is just not enough evidence for me to believe'., Well what is this evidence that you are looking for?, You want me to say one day, 'Yes, I finally found god., I found him When studying the crystal lattice structure of various elements Radon, Xenon, and Phosphorus, the individual molecules electrons are polarized such that it permeates the higgs field., Using partial derivatives to derive the Ginzburg Landau equation, we can use this model the superconductivity when the elements are freezed to absolute zero, then translating this to Soblev Spaces since the electromagnetic field creates a holomorphic form As the electron spins in a given element such as Radon in these extreme conditions, it spins unilaterally without any resistance to such that it forms hyper magnetic dipole that entangles into a higher dimensional Calabi Yau manifold permeating the Hilbert space., With this being achieved it is theorized that it must be going faster than the speed of light, and one of the theorized particles in the standard model that is capable of doing this is the Tachyon Since the element was superconductive and the individual atoms spun unilaterally to create a hyper magnetic dipole entangled into a higher dimensional manifold, then this electron in 3 dimensions is simultaneously entangled in a Calabi Yau hyper dimension manifold as a fluid interacting with Tachyons., We consider a uid described by a parameterized EoS Euclidean Supersymmetry of 8th dimension of the general form P 1 p0 HH H2H2 dHH 21 , where p0, H, H2 and dH are free parameters of the model, interacting with a Tachyonic eld with a relativistic Lagrangian assumption based on quantum superposition. ', Is that the type explanation atheist are expecting?, If so, you will never find it, because that is not how god works., Don't religious text say that the path to god, is through Trust , not Enlightenment ?, If so, why would the atheist think the way to finding god should be through enlightenment scientific empirical evidence when the text specifically say the path to god is through trust faith?]   \n",
       "3  [You hear it all the time: Atheist 'There is just not enough evidence for me to believe'., Well what is this evidence that you are looking for?, You want me to say one day, 'Yes, I finally found god., I found him When studying the crystal lattice structure of various elements Radon, Xenon, and Phosphorus, the individual molecules electrons are polarized such that it permeates the higgs field., Using partial derivatives to derive the Ginzburg Landau equation, we can use this model the superconductivity when the elements are freezed to absolute zero, then translating this to Soblev Spaces since the electromagnetic field creates a holomorphic form As the electron spins in a given element such as Radon in these extreme conditions, it spins unilaterally without any resistance to such that it forms hyper magnetic dipole that entangles into a higher dimensional Calabi Yau manifold permeating the Hilbert space., With this being achieved it is theorized that it must be going faster than the speed of light, and one of the theorized particles in the standard model that is capable of doing this is the Tachyon Since the element was superconductive and the individual atoms spun unilaterally to create a hyper magnetic dipole entangled into a higher dimensional manifold, then this electron in 3 dimensions is simultaneously entangled in a Calabi Yau hyper dimension manifold as a fluid interacting with Tachyons., We consider a uid described by a parameterized EoS Euclidean Supersymmetry of 8th dimension of the general form P 1 p0 HH H2H2 dHH 21 , where p0, H, H2 and dH are free parameters of the model, interacting with a Tachyonic eld with a relativistic Lagrangian assumption based on quantum superposition. ', Is that the type explanation atheist are expecting?, If so, you will never find it, because that is not how god works., Don't religious text say that the path to god, is through Trust , not Enlightenment ?, If so, why would the atheist think the way to finding god should be through enlightenment scientific empirical evidence when the text specifically say the path to god is through trust faith?]   \n",
       "4  [You hear it all the time: Atheist 'There is just not enough evidence for me to believe'., Well what is this evidence that you are looking for?, You want me to say one day, 'Yes, I finally found god., I found him When studying the crystal lattice structure of various elements Radon, Xenon, and Phosphorus, the individual molecules electrons are polarized such that it permeates the higgs field., Using partial derivatives to derive the Ginzburg Landau equation, we can use this model the superconductivity when the elements are freezed to absolute zero, then translating this to Soblev Spaces since the electromagnetic field creates a holomorphic form As the electron spins in a given element such as Radon in these extreme conditions, it spins unilaterally without any resistance to such that it forms hyper magnetic dipole that entangles into a higher dimensional Calabi Yau manifold permeating the Hilbert space., With this being achieved it is theorized that it must be going faster than the speed of light, and one of the theorized particles in the standard model that is capable of doing this is the Tachyon Since the element was superconductive and the individual atoms spun unilaterally to create a hyper magnetic dipole entangled into a higher dimensional manifold, then this electron in 3 dimensions is simultaneously entangled in a Calabi Yau hyper dimension manifold as a fluid interacting with Tachyons., We consider a uid described by a parameterized EoS Euclidean Supersymmetry of 8th dimension of the general form P 1 p0 HH H2H2 dHH 21 , where p0, H, H2 and dH are free parameters of the model, interacting with a Tachyonic eld with a relativistic Lagrangian assumption based on quantum superposition. ', Is that the type explanation atheist are expecting?, If so, you will never find it, because that is not how god works., Don't religious text say that the path to god, is through Trust , not Enlightenment ?, If so, why would the atheist think the way to finding god should be through enlightenment scientific empirical evidence when the text specifically say the path to god is through trust faith?]   \n",
       "\n",
       "                                                                                                                                                                                                                                                                                                                                                                                                                                                                                                                                                                                                                                                                                                                                                                                                                                                                                                                                                                                                                                                                                                                                                                                                                                                                                                                                                                                                                                                                                                                                                                                                                                                                                                                                                                                                                                                                                                                                                                                                                                                                                                   full_comment  \\\n",
       "0  [But you've just outlined the reasons atheists don't believe in God., Because there is no evidence, apart from the Bible, of his existence., Scientific or historical evidence supporting the existence of God would probably change the minds of most atheist on earth., Don't religious text say that the path to god, is through Trust, not Enlightenment?, There is no evidence that the path to God is trust apart from religious text, so this argument is invalid., If so, why would the atheist think the way to finding god should be through enlightenment scientific empirical evidence when the text specifically say the path to god is through trust faith?, Because atheists do not believe in the existence of a God of any sorts, I doubt any of them are actively trying to find God.]                                                                                                                                                                                                                                                                                                                                                                                                                                                                                                                                                                                                                                                                                                                                                                                                                                                                                                                                                                                                                                                                                                                                                                                                                                                                                                       \n",
       "1  [If so, why would the atheist think the way to finding god should be through enlightenment scientific empirical evidence when the text specifically say the path to god is through trust faith?, because in order to accept the fact that faith is necessary, faith must be put into the text to begin with., This loop of faith is stable once initiated, but many people don't want to get into it., If so, you will never find it, because that is not how god works., If god has a tangible effect on the world or anyone's lives, there will be something like this., Perhaps it will be so complex that we won't see it for thousands of years, but unless god is just sitting on his ass for eternity, he'll be doing something, and that something is theoretically detectable., if that isn't how god works, then what's the point?, an entity with no effect on anything is no better than imaginary.]                                                                                                                                                                                                                                                                                                                                                                                                                                                                                                                                                                                                                                                                                                                                                                                                                                                                                                                                                                                                                                                                                                                                                                                               \n",
       "2  [If so, you will never find it, because that is not how god works., Don't religious text say that the path to god, is through Trust, not Enlightenment?, If so, why would the atheist think the way to finding god should be through enlightenment scientific empirical evidence when the text specifically say the path to god is through trust faith?, Basically 'the Book says to take it's word for it, so why don't you?, 'Because we never just 'take anyone's word for it. ', We need reasonable evidence for all claims., God is no different., Note: I am agnostic not an atheist exactly because there is no evidence against a god., But just 'trust in the book' is certainly not good enough to prove he does exist.]                                                                                                                                                                                                                                                                                                                                                                                                                                                                                                                                                                                                                                                                                                                                                                                                                                                                                                                                                                                                                                                                                                                                                                                                                                                                                                                                                                             \n",
       "3  [If so, why would the atheist think the way to finding god should be through enlightenment scientific empirical evidence when the text specifically say the path to god is through trust faith?, equals reworded Why would one group of people say that knowledge requires evidence when another group of people say knowledge doesn't require evidence?, Which group of people to believe?, And the answer ultimately is neither., Both are second hand sources they could be lying, or mistaken or deluded, or trying to trick you ultimately you only have your own evidence as a first hand source of what to believe of not to believe., What you experience is the first hand source material for you that trumps all other sources., Would God want you to deny or dismiss the evidence of your own senses?, Would God who endowed you with the powers of judgement and reason want you to believe every word in a text or every statement by an authoritative figure by blindly suspending that judgement and reason?, If there is a God, then He must be logical and rational., Wouldn't it be silly to create a World, then give Man sensors to see and touch evidence and a Brain to comprehend the evidence of the world and himself and then say 'but for believing in me , you must stop using the method for which I endowed you to know what exists and what is true and what is real'., No, a true God would see this as us suspending our gifts and deluding ourselves., A true God would want us to acknowledge what we know as fact and what we don't know as fact., He'd want us to be honest with ourselves.]                                                                                                                                                                                                                                                                                                                                                                                                                                                                            \n",
       "4  [Let me start by saying, that evidence need not be scientific., The question you posed by 'Atheist Persondude' does not specify that., It seems that it is often assumed that only scientific evidence will do and to be fair it WOULD be the best kind to show that something existed., In fact, I'd go so far to say you have SOME kind of evidence good or bad for everything you believe., If so, you will never find it, because that is not how god works., Don't religious text say that the path to god, is through Trust, not Enlightenment?, If so, why would the atheist think the way to finding god should be through enlightenment scientific empirical evidence when the text specifically say the path to god is through trust faith?, To be clear, you're suggesting blind trust, not just regular everyday trust, correct?, Let's ensure we're not equivocating by talking about trust and how we define it., I will define my usage of trust by examples:I trust my family because I have evidence that they will back me up., I trust my friends because they're there when I need them., I trust my co workers because they continuously and repeatedly perform their duties in a reliable manner., Most importantly I can directly experience that they exist, I can bring them to other people, take videos with them, call them and let other people talk to them., You cannot do this with any god., The trust you're talking about is not evidence based., I'm sure you agree that the trust that I am talking about is., So, basically you're asking us to believe without a reason if we use faith in the way I understand you're putting forward., Why would we?, Is there anything you believe based on nothing?, Surely you agree that we need at least some evidence to believe anything, you don't believe based on NOTHING right?, You have a bible, or a vision, or someone tells you something in a convincing way., If you might agree that to believe something you need evidence, then why not the best available evidence that's potentially available to everyone?]   \n",
       "\n",
       "                                                                                                                                                                                                                                                                                                                                                                                                                                                                                                                                                                                                                                                                                                                                                                                                                                                                                       premise_counter_premise_pair  \n",
       "0  [[If so, why would the atheist think the way to finding god should be through enlightenment scientific empirical evidence when the text specifically say the path to god is through trust faith?, Because atheists do not believe in the existence of a God of any sorts, I doubt any of them are actively trying to find God.]]                                                                                                                                                                                                                                                                                                                                                                                                                                                                                                                                                                                  \n",
       "1  [[If so, why would the atheist think the way to finding god should be through enlightenment scientific empirical evidence when the text specifically say the path to god is through trust faith?, because in order to accept the fact that faith is necessary, faith must be put into the text to begin with. This loop of faith is stable once initiated, but many people don't want to get into it.], [If so, you will never find it, because that is not how god works., If god has a tangible effect on the world or anyone's lives, there will be something like this. Perhaps it will be so complex that we won't see it for thousands of years, but unless god is just sitting on his ass for eternity, he'll be doing something, and that something is theoretically detectable. if that isn't how god works, then what's the point? an entity with no effect on anything is no better than imaginary.]]  \n",
       "2  [[If so, you will never find it, because that is not how god works., Don't religious text say that the path to god, is through Trust, not Enlightenment?], [If so, why would the atheist think the way to finding god should be through enlightenment scientific empirical evidence when the text specifically say the path to god is through trust faith?, Basically 'the Book says to take it's word for it, so why don't you? 'Because we never just 'take anyone's word for it. ' We need reasonable evidence for all claims. God is no different. Note: I am agnostic not an atheist exactly because there is no evidence against a god.]]                                                                                                                                                                                                                                                                   \n",
       "3  [[If so, why would the atheist think the way to finding god should be through enlightenment scientific empirical evidence when the text specifically say the path to god is through trust faith?, equals reworded Why would one group of people say that knowledge requires evidence when another group of people say knowledge doesn't require evidence? Which group of people to believe? And the answer ultimately is neither. Both are second hand sources they could be lying, or mistaken or deluded, or trying to trick you ultimately you only have your own evidence as a first hand source of what to believe of not to believe. What you experience is the first hand source material for you that trumps all other sources.]]                                                                                                                                                                         \n",
       "4  [[If so, you will never find it, because that is not how god works., Don't religious text say that the path to god, is through Trust, not Enlightenment?], [If so, why would the atheist think the way to finding god should be through enlightenment scientific empirical evidence when the text specifically say the path to god is through trust faith?, To be clear, you're suggesting blind trust, not just regular everyday trust, correct? Let's ensure we're not equivocating by talking about trust and how we define it. I will define my usage of trust by examples:I trust my family because I have evidence that they will back me up. I trust my friends because they're there when I need them. I trust my co workers because they continuously and repeatedly perform their duties in a reliable manner.]]                                                                                        "
      ]
     },
     "execution_count": 26,
     "metadata": {},
     "output_type": "execute_result"
    }
   ],
   "source": [
    "df = pd.read_json('/workspace/ceph_data/argument-undermining/data/new_gen_training.json')\n",
    "df.head()"
   ]
  },
  {
   "cell_type": "markdown",
   "metadata": {},
   "source": [
    "### Average number of sentences per premise counter:"
   ]
  },
  {
   "cell_type": "code",
   "execution_count": 20,
   "metadata": {},
   "outputs": [],
   "source": [
    "import nltk\n",
    "import matplotlib.pyplot as plt"
   ]
  },
  {
   "cell_type": "code",
   "execution_count": 6,
   "metadata": {},
   "outputs": [],
   "source": [
    "df = pd.read_json('/workspace/ceph_data/argument-undermining/data/gen_training.json')"
   ]
  },
  {
   "cell_type": "code",
   "execution_count": 13,
   "metadata": {},
   "outputs": [],
   "source": [
    "counter_premises = [counter[1] for counters in df.premise_counter_premise_pair.tolist() for counter in counters] \n",
    "counter_sents = [len(nltk.sent_tokenize(x)) for x in counter_premises]\n",
    "plt.hist(counter_sents)\n",
    "plt.show()"
   ]
  },
  {
   "cell_type": "code",
   "execution_count": 23,
   "metadata": {},
   "outputs": [
    {
     "data": {
      "image/png": "[encoded data removed]",
      "text/plain": [
       "<Figure size 432x288 with 1 Axes>"
      ]
     },
     "metadata": {
      "needs_background": "light"
     },
     "output_type": "display_data"
    }
   ],
   "source": []
  },
  {
   "cell_type": "code",
   "execution_count": 27,
   "metadata": {},
   "outputs": [
    {
     "data": {
      "image/png": "[encoded data removed]",
      "text/plain": [
       "<Figure size 432x288 with 1 Axes>"
      ]
     },
     "metadata": {
      "needs_background": "light"
     },
     "output_type": "display_data"
    }
   ],
   "source": [
    "df = pd.read_json('/workspace/ceph_data/argument-undermining/data/new_gen_training.json')\n",
    "counter_premises = [counter[1] for counters in df.premise_counter_premise_pair.tolist() for counter in counters] \n",
    "counter_sents = [len(nltk.sent_tokenize(x)) for x in counter_premises]\n",
    "plt.hist(counter_sents)\n",
    "plt.show()"
   ]
  },
  {
   "cell_type": "markdown",
   "metadata": {},
   "source": [
    "## Jo Data:"
   ]
  },
  {
   "cell_type": "code",
   "execution_count": 4,
   "metadata": {},
   "outputs": [],
   "source": [
    "def load_df_from_json(path):\n",
    "    with open(path, 'r') as f:\n",
    "        json_preds =[]\n",
    "        for line in f:\n",
    "            row = json.loads(line)\n",
    "            json_preds.append(row)\n",
    "    \n",
    "    df = pd.DataFrame(json_preds)\n",
    "    return df"
   ]
  },
  {
   "cell_type": "code",
   "execution_count": 5,
   "metadata": {},
   "outputs": [],
   "source": [
    "posts_df_1 = load_df_from_json('/workspace/ceph_data/argument-undermining/jo_data/emnlp20_arg_attack/data/cmv/posts-radio.jsonlist')\n",
    "posts_df_2 = load_df_from_json('/workspace/ceph_data/argument-undermining/jo_data/emnlp20_arg_attack/data/cmv/posts-nairobi.jsonlist')\n",
    "posts_df = pd.concat([posts_df_1, posts_df_2])\n",
    "posts_df  = posts_df.drop_duplicates(subset=['id'])\n",
    "posts_df['post_id'] = posts_df['id'].apply(lambda x: 't3_'+x)"
   ]
  },
  {
   "cell_type": "code",
   "execution_count": 6,
   "metadata": {},
   "outputs": [],
   "source": [
    "comments_df_1 = load_df_from_json('/workspace/ceph_data/argument-undermining/jo_data/emnlp20_arg_attack/data/cmv/comments-radio.jsonlist')\n",
    "comments_df_2 = load_df_from_json('/workspace/ceph_data/argument-undermining/jo_data/emnlp20_arg_attack/data/cmv/comments-nairobi.jsonlist')\n",
    "comments_df = pd.concat([comments_df_1, comments_df_2])\n",
    "comments_df = comments_df.drop_duplicates(subset=['id'])\n",
    "comments_df['comment_id'] = comments_df['id'].apply(lambda x: 't1_'+x)"
   ]
  },
  {
   "cell_type": "code",
   "execution_count": 7,
   "metadata": {},
   "outputs": [],
   "source": [
    "post_comments_rel = pd.read_csv('/workspace/ceph_data/argument-undermining/jo_data/emnlp20_arg_attack/data/posts-qsents.csv')"
   ]
  },
  {
   "cell_type": "code",
   "execution_count": 8,
   "metadata": {},
   "outputs": [],
   "source": [
    "sents_feats_df = pd.read_csv('/workspace/ceph_data/argument-undermining/jo_data/feat-combined.csv')\n",
    "sents_txt_df = pd.read_csv('/workspace/ceph_data/argument-undermining/jo_data/posts-sents.csv')"
   ]
  },
  {
   "cell_type": "markdown",
   "metadata": {},
   "source": [
    "#### Preparing data for detecting attackable sentences:"
   ]
  },
  {
   "cell_type": "code",
   "execution_count": 64,
   "metadata": {},
   "outputs": [],
   "source": [
    "attackable_df = pd.merge(sents_txt_df[['post_id', 'sentence_no', 'sentence']], \n",
    "                 sents_feats_df[['split', 'post_id', 'sentence_no', 'direct', 'success_direct', 'all_4', 'success_all_4']], \n",
    "                 on=['post_id','sentence_no']\n",
    ")\n",
    "\n",
    "attackable_df = pd.merge(attackable_df, posts_df[['post_id', 'title']], on='post_id')"
   ]
  },
  {
   "cell_type": "code",
   "execution_count": 65,
   "metadata": {},
   "outputs": [],
   "source": [
    "attackable_df_grouped = attackable_df.groupby('post_id').agg({'sentence' : lambda x: list(x),'split': lambda x: list(x)[0],\n",
    "    'direct': lambda x: list(x), 'all_4': lambda x: list(x), 'title':lambda x: list(x)[0]\n",
    "}).reset_index()\n",
    "attackable_df_grouped['qouted_sent_idx'] = attackable_df_grouped.apply(lambda row: [ x1 or x2 for x1, x2 in zip(row['direct'], row['all_4'])], axis=1)"
   ]
  },
  {
   "cell_type": "code",
   "execution_count": 66,
   "metadata": {},
   "outputs": [],
   "source": [
    "attackable_df_grouped.columns = ['post_id', 'post', 'split', 'direct', 'all_4', 'title', 'qouted_sent_idx']"
   ]
  },
  {
   "cell_type": "code",
   "execution_count": 68,
   "metadata": {},
   "outputs": [],
   "source": [
    "attackable_df_grouped.to_pickle('/workspace/ceph_data/argument-undermining/jo_data/vul_data.pickle')"
   ]
  },
  {
   "cell_type": "code",
   "execution_count": 69,
   "metadata": {},
   "outputs": [
    {
     "data": {
      "text/plain": [
       "train    25839\n",
       "val       8763\n",
       "test      8558\n",
       "Name: split, dtype: int64"
      ]
     },
     "execution_count": 69,
     "metadata": {},
     "output_type": "execute_result"
    }
   ],
   "source": [
    "attackable_df_grouped.split.value_counts()"
   ]
  },
  {
   "cell_type": "code",
   "execution_count": 33,
   "metadata": {
    "scrolled": true
   },
   "outputs": [
    {
     "data": {
      "text/html": [
       "<div>\n",
       "<style scoped>\n",
       "    .dataframe tbody tr th:only-of-type {\n",
       "        vertical-align: middle;\n",
       "    }\n",
       "\n",
       "    .dataframe tbody tr th {\n",
       "        vertical-align: top;\n",
       "    }\n",
       "\n",
       "    .dataframe thead th {\n",
       "        text-align: right;\n",
       "    }\n",
       "</style>\n",
       "<table border=\"1\" class=\"dataframe\">\n",
       "  <thead>\n",
       "    <tr style=\"text-align: right;\">\n",
       "      <th></th>\n",
       "      <th>post_id</th>\n",
       "      <th>post</th>\n",
       "      <th>split</th>\n",
       "      <th>direct</th>\n",
       "      <th>all_4</th>\n",
       "      <th>title</th>\n",
       "      <th>qouted_sent_idx</th>\n",
       "    </tr>\n",
       "  </thead>\n",
       "  <tbody>\n",
       "    <tr>\n",
       "      <th>0</th>\n",
       "      <td>t3_1u4mmo</td>\n",
       "      <td>[I believe that a church is like any other profit making business and therefore most pay similar taxes., I am not a religious person myself so I do not know the complete logistics of the revenue and spending of a church but I do understand they can yield a good amount of cash., http://www.patheos.com/blogs/friendlyatheist/2012/06/16/the-yearly-cost-of-religious-tax-exemptions-71000000000/ not entirely sure how accurate this article is, but it states that we could gain an additional 71 billion dollars per year and in a time where we as a country are in TRILLIONS of dollars of debt taxing a church seems reasonable to me., CMV]</td>\n",
       "      <td>train</td>\n",
       "      <td>[1, 1, 0, 0]</td>\n",
       "      <td>[0, 0, 0, 0]</td>\n",
       "      <td>I believe that churches and other religious institutions should have to pay taxes. CMV</td>\n",
       "      <td>[1, 1, 0, 0]</td>\n",
       "    </tr>\n",
       "    <tr>\n",
       "      <th>1</th>\n",
       "      <td>t3_1u4mo5</td>\n",
       "      <td>[So it seems to be common that, when caught cheating, violence is directed toward the person the significant other (SO) cheated with., I don't understand why., You were in a relationship with your SO., You had no agreement with the other party., If you are going to beat the shit out of anyone, it should be your SO., S/he is the one that cheated on you., The other party, provided they aren't a friend or acquaintance doesn't owe you anything., Why should beating the ever-loving shit out of your SO's cheat-mate be acceptable?]</td>\n",
       "      <td>train</td>\n",
       "      <td>[1, 0, 1, 1, 1, 0, 0, 0]</td>\n",
       "      <td>[0, 0, 0, 0, 0, 0, 0, 0]</td>\n",
       "      <td>I don't believe it is acceptable to attack the person that your SO cheated on you with. CMV</td>\n",
       "      <td>[1, 0, 1, 1, 1, 0, 0, 0]</td>\n",
       "    </tr>\n",
       "    <tr>\n",
       "      <th>2</th>\n",
       "      <td>t3_1u4txm</td>\n",
       "      <td>[(I've tried researching discussions on this topic before but I only found ones involving incredibly biased participants., Hope you guys can do better)  I honestly don't understand how there is a significant number of people who believe that capitalism* can be replaced., History shows that absolutely no ruler in a socialist or communist regime is capable of upholding their ideals., If you subscribe to the notion that socialism/communism is supposed to exist without a state, then I respond that in any circumstance, whether it's survival or business, etc, people will gravitate towards leaders, whether it's in a formal or informal fashion (for instance, my workplace has a fairly \"flat\" structure but even within my group, I always seek the advice of the more experienced people)., Furthermore, even though I do agree that everyone has the right to have their MOST basic needs fulfilled (via, say, some basic income that allows people to eat, drink water and practice basic hygiene with anything else having to be worked for), I don't understand how one can transition to an economic system that no longer seeks profit., Yes, infinite growth in a finite world and all that, but without profit, we have stagnation., If you were to tell me that my income would not change for the rest of my life, I would only do the bare minimum to get by, regardless of how much I enjoyed my job., I deserve to be rewarded for my efforts., Therefore I do not understand why is it not possible to simply retool the existing system (by enforcing tax laws more harshly on large fortunes and boosting the welfare state, for instance) to allow everyone to have a living wage., Yes, some might call it implausible but I find it much less implausible than the alternative., Forgive my lack of coherence and I understand I might have some incorrect notions about this topic but that's what I am here for., I await a hopefully enlightening discussion., * Note: let's be exact here: I also think that when people online call for the end of capitalism, most of them are referring to the capitalism practiced IN THE UNITED STATES: As a European citizen, I honestly look at said system more as borderline Cyberpunk-esque anarcho capitalism more than anything else., Do you think the discussions I mentioned are mostly a result of semantic differences?, (I have heavily considered this as well)., If so, please mention it below.]</td>\n",
       "      <td>train</td>\n",
       "      <td>[0, 0, 1, 1, 1, 1, 1, 1, 1, 1, 0, 0, 0, 0, 0, 0]</td>\n",
       "      <td>[0, 0, 0, 0, 0, 0, 0, 0, 0, 0, 0, 0, 0, 0, 0, 0]</td>\n",
       "      <td>There is no viable alternative to capitalism, though the current system can be altered to serve people's needs. CMV</td>\n",
       "      <td>[0, 0, 1, 1, 1, 1, 1, 1, 1, 1, 0, 0, 0, 0, 0, 0]</td>\n",
       "    </tr>\n",
       "    <tr>\n",
       "      <th>3</th>\n",
       "      <td>t3_1u4wid</td>\n",
       "      <td>[I say \"almost always\" because you never know when a LeBron-type athletic QB will come along., My only caveat is a bona fide freak of nature., I've yet to see such a player., My reasons:  1., The NFL is a pass-first league., Without an elite passer, teams cannot compete for Super Bowls., Aside from a few anomalies, this is a hard and fast rule., The role of the QB is to get the ball to the open man downfield., A completed pass, on average, nets more yardage than a run, therefore a completed pass is more valuable than a run., Teams that put a high value on a QB's ability to run the ball are over-valuing this skill., 2., QB's that have the ability to run learn from a young age to bail on pass plays too early whenever they feel the rush closing in., They have likely been the best and fastest athletes on the field during their entire amateur careers, so running has likely led to big plays., In the NFL, the defenses are bigger and faster and can close on a QB much more quickly than high school or college defenders., 3., QB's with elite running ability take more risks during a game., By holding the ball or leaving the pocket, they are opening themselves up to big hits resulting in fumbles and devastating injuries., Injured QB's have no value to their team., Chronically injured QB's drafted as a franchise QB not only have no value, but they can leave a team wallowing in mediocrity for years/decades., Injuries must be avoided at all costs., 4., Most running QB's have to be \"broken\" of their penchant for scrambling in lieu of keeping their eyes downfield., This causes their development to be stunted in comparison to QB's whose sole focus has been honing their elite passing skills only., In a league where the continued employment of coaches and GM's is contingent upon winning right now, a delay in the development of a QB can cost seasons and jobs (and thus continuity)., Franchises with frequent management turnover are not competitive., 5., Tom Brady, Peyton Manning, Drew Brees - all have basically zero running skills whatsoever yet all three are the best of their generation and Super Bowl Champs., *The following is an aside and not meant to be part of my view that needs changing., In conclusion (and just to add a little more controversy to my ramblings), it is my position that Cam Newton, RG 3, and Colin Kaepernick will never win a Super Bowl., If we look ahead to the 2014 NFL draft, my belief is that the biggest gamble and potential franchise killer amongst the available QB's is Johnny Manziel., If my analysis holds true, any team that uses a high first round pick on Manziel to be their franchise QB is likely betting their future on a player that has an extremely small probability to lead them to a Super Bowl win., Change my view.]</td>\n",
       "      <td>train</td>\n",
       "      <td>[0, 0, 0, 0, 0, 0, 0, 0, 0, 0, 0, 0, 0, 0, 0, 0, 0, 0, 0, 0, 0, 0, 0, 0, 0, 0, 1, 0, 0, 0, 0, 0]</td>\n",
       "      <td>[0, 0, 0, 0, 0, 0, 0, 0, 0, 0, 0, 0, 0, 0, 0, 0, 0, 0, 0, 0, 0, 0, 0, 0, 0, 0, 0, 0, 0, 0, 0, 0]</td>\n",
       "      <td>Given the option to draft either a QB with elite passing AND elite running skills or a QB with elite passing skills ONLY, NFL teams should almost always draft the QB with elite passing skills only. CMV</td>\n",
       "      <td>[0, 0, 0, 0, 0, 0, 0, 0, 0, 0, 0, 0, 0, 0, 0, 0, 0, 0, 0, 0, 0, 0, 0, 0, 0, 0, 1, 0, 0, 0, 0, 0]</td>\n",
       "    </tr>\n",
       "    <tr>\n",
       "      <th>4</th>\n",
       "      <td>t3_1u5fux</td>\n",
       "      <td>[I don't think that having lots of sex negatively affects people., If you are safe and smart, there aren't many, maybe not any, negative consequences., I like my body, I like the things my body can do, and I like the way it feels when I have sex., So I have a lot of sex., If a slut is a girl who has a lot of sex, I'm a slut., I don't see why being a slut is something I should avoid., I don't see why people act like having sex causes some deep psychological scars., Sex crimes, like the one I was a victim of, are bad and hurtful and cause permanent damage., But after a lot of therapy and time I was able to recognize that sex is something fun that makes you feel close to other people., I think a relationship is when you find someone who is the only person you want to feel so close to., I'm in a serious relationship, and for some reason (I actually don't know why) he is the only person I want to be with., I love him, I love being with him, and I love when we have sex., So if sex is all good warm soft things, then why would being a girl who has lots of sex, or in my situation used to have lots of sex, be a bad or shameful thing?]</td>\n",
       "      <td>train</td>\n",
       "      <td>[0, 0, 0, 0, 0, 0, 0, 0, 0, 1, 0, 0, 0]</td>\n",
       "      <td>[0, 1, 0, 0, 0, 0, 0, 0, 0, 0, 0, 0, 0]</td>\n",
       "      <td>I don't think promiscuity is a bad thing. CMV.</td>\n",
       "      <td>[0, 1, 0, 0, 0, 0, 0, 0, 0, 1, 0, 0, 0]</td>\n",
       "    </tr>\n",
       "  </tbody>\n",
       "</table>\n",
       "</div>"
      ],
      "text/plain": [
       "     post_id  \\\n",
       "0  t3_1u4mmo   \n",
       "1  t3_1u4mo5   \n",
       "2  t3_1u4txm   \n",
       "3  t3_1u4wid   \n",
       "4  t3_1u5fux   \n",
       "\n",
       "                                                                                                                                                                                                                                                                                                                                                                                                                                                                                                                                                                                                                                                                                                                                                                                                                                                                                                                                                                                                                                                                                                                                                                                                                                                                                                                                                                                                                                                                                                                                                                                                                                                                                                                                                                                                                                                                                                                                                                                                                                                                                                                                                                                                                                                                                                                                                                                                                                                                                                                                                                                                                                                                                                                                                                                                                                                                                   post  \\\n",
       "0                                                                                                                                                                                                                                                                                                                                                                                                                                                                                                                                                                                                                                                                                                                                                                                                                                                                                                                                                                                                                                                                                                                                                                                                                                                                                                                                                                                                                                                                                                                                                                                                                                                                                                                                                                                                                                                                                                                                                                                                                                                                                                                                                                                                                              [I believe that a church is like any other profit making business and therefore most pay similar taxes., I am not a religious person myself so I do not know the complete logistics of the revenue and spending of a church but I do understand they can yield a good amount of cash., http://www.patheos.com/blogs/friendlyatheist/2012/06/16/the-yearly-cost-of-religious-tax-exemptions-71000000000/ not entirely sure how accurate this article is, but it states that we could gain an additional 71 billion dollars per year and in a time where we as a country are in TRILLIONS of dollars of debt taxing a church seems reasonable to me., CMV]   \n",
       "1                                                                                                                                                                                                                                                                                                                                                                                                                                                                                                                                                                                                                                                                                                                                                                                                                                                                                                                                                                                                                                                                                                                                                                                                                                                                                                                                                                                                                                                                                                                                                                                                                                                                                                                                                                                                                                                                                                                                                                                                                                                                                                                                                                                                                                                                                                                                     [So it seems to be common that, when caught cheating, violence is directed toward the person the significant other (SO) cheated with., I don't understand why., You were in a relationship with your SO., You had no agreement with the other party., If you are going to beat the shit out of anyone, it should be your SO., S/he is the one that cheated on you., The other party, provided they aren't a friend or acquaintance doesn't owe you anything., Why should beating the ever-loving shit out of your SO's cheat-mate be acceptable?]   \n",
       "2                                                                                                                                                                                                                                                                                                                                                                                   [(I've tried researching discussions on this topic before but I only found ones involving incredibly biased participants., Hope you guys can do better)  I honestly don't understand how there is a significant number of people who believe that capitalism* can be replaced., History shows that absolutely no ruler in a socialist or communist regime is capable of upholding their ideals., If you subscribe to the notion that socialism/communism is supposed to exist without a state, then I respond that in any circumstance, whether it's survival or business, etc, people will gravitate towards leaders, whether it's in a formal or informal fashion (for instance, my workplace has a fairly \"flat\" structure but even within my group, I always seek the advice of the more experienced people)., Furthermore, even though I do agree that everyone has the right to have their MOST basic needs fulfilled (via, say, some basic income that allows people to eat, drink water and practice basic hygiene with anything else having to be worked for), I don't understand how one can transition to an economic system that no longer seeks profit., Yes, infinite growth in a finite world and all that, but without profit, we have stagnation., If you were to tell me that my income would not change for the rest of my life, I would only do the bare minimum to get by, regardless of how much I enjoyed my job., I deserve to be rewarded for my efforts., Therefore I do not understand why is it not possible to simply retool the existing system (by enforcing tax laws more harshly on large fortunes and boosting the welfare state, for instance) to allow everyone to have a living wage., Yes, some might call it implausible but I find it much less implausible than the alternative., Forgive my lack of coherence and I understand I might have some incorrect notions about this topic but that's what I am here for., I await a hopefully enlightening discussion., * Note: let's be exact here: I also think that when people online call for the end of capitalism, most of them are referring to the capitalism practiced IN THE UNITED STATES: As a European citizen, I honestly look at said system more as borderline Cyberpunk-esque anarcho capitalism more than anything else., Do you think the discussions I mentioned are mostly a result of semantic differences?, (I have heavily considered this as well)., If so, please mention it below.]   \n",
       "3  [I say \"almost always\" because you never know when a LeBron-type athletic QB will come along., My only caveat is a bona fide freak of nature., I've yet to see such a player., My reasons:  1., The NFL is a pass-first league., Without an elite passer, teams cannot compete for Super Bowls., Aside from a few anomalies, this is a hard and fast rule., The role of the QB is to get the ball to the open man downfield., A completed pass, on average, nets more yardage than a run, therefore a completed pass is more valuable than a run., Teams that put a high value on a QB's ability to run the ball are over-valuing this skill., 2., QB's that have the ability to run learn from a young age to bail on pass plays too early whenever they feel the rush closing in., They have likely been the best and fastest athletes on the field during their entire amateur careers, so running has likely led to big plays., In the NFL, the defenses are bigger and faster and can close on a QB much more quickly than high school or college defenders., 3., QB's with elite running ability take more risks during a game., By holding the ball or leaving the pocket, they are opening themselves up to big hits resulting in fumbles and devastating injuries., Injured QB's have no value to their team., Chronically injured QB's drafted as a franchise QB not only have no value, but they can leave a team wallowing in mediocrity for years/decades., Injuries must be avoided at all costs., 4., Most running QB's have to be \"broken\" of their penchant for scrambling in lieu of keeping their eyes downfield., This causes their development to be stunted in comparison to QB's whose sole focus has been honing their elite passing skills only., In a league where the continued employment of coaches and GM's is contingent upon winning right now, a delay in the development of a QB can cost seasons and jobs (and thus continuity)., Franchises with frequent management turnover are not competitive., 5., Tom Brady, Peyton Manning, Drew Brees - all have basically zero running skills whatsoever yet all three are the best of their generation and Super Bowl Champs., *The following is an aside and not meant to be part of my view that needs changing., In conclusion (and just to add a little more controversy to my ramblings), it is my position that Cam Newton, RG 3, and Colin Kaepernick will never win a Super Bowl., If we look ahead to the 2014 NFL draft, my belief is that the biggest gamble and potential franchise killer amongst the available QB's is Johnny Manziel., If my analysis holds true, any team that uses a high first round pick on Manziel to be their franchise QB is likely betting their future on a player that has an extremely small probability to lead them to a Super Bowl win., Change my view.]   \n",
       "4                                                                                                                                                                                                                                                                                                                                                                                                                                                                                                                                                                                                                                                                                                                                                                                                                                                                                                                                                                                                                                                                                                                                                                                                                                                                                                                                                                                                                                                                                                                                                                                                                                                                                                [I don't think that having lots of sex negatively affects people., If you are safe and smart, there aren't many, maybe not any, negative consequences., I like my body, I like the things my body can do, and I like the way it feels when I have sex., So I have a lot of sex., If a slut is a girl who has a lot of sex, I'm a slut., I don't see why being a slut is something I should avoid., I don't see why people act like having sex causes some deep psychological scars., Sex crimes, like the one I was a victim of, are bad and hurtful and cause permanent damage., But after a lot of therapy and time I was able to recognize that sex is something fun that makes you feel close to other people., I think a relationship is when you find someone who is the only person you want to feel so close to., I'm in a serious relationship, and for some reason (I actually don't know why) he is the only person I want to be with., I love him, I love being with him, and I love when we have sex., So if sex is all good warm soft things, then why would being a girl who has lots of sex, or in my situation used to have lots of sex, be a bad or shameful thing?]   \n",
       "\n",
       "   split  \\\n",
       "0  train   \n",
       "1  train   \n",
       "2  train   \n",
       "3  train   \n",
       "4  train   \n",
       "\n",
       "                                                                                             direct  \\\n",
       "0                                                                                      [1, 1, 0, 0]   \n",
       "1                                                                          [1, 0, 1, 1, 1, 0, 0, 0]   \n",
       "2                                                  [0, 0, 1, 1, 1, 1, 1, 1, 1, 1, 0, 0, 0, 0, 0, 0]   \n",
       "3  [0, 0, 0, 0, 0, 0, 0, 0, 0, 0, 0, 0, 0, 0, 0, 0, 0, 0, 0, 0, 0, 0, 0, 0, 0, 0, 1, 0, 0, 0, 0, 0]   \n",
       "4                                                           [0, 0, 0, 0, 0, 0, 0, 0, 0, 1, 0, 0, 0]   \n",
       "\n",
       "                                                                                              all_4  \\\n",
       "0                                                                                      [0, 0, 0, 0]   \n",
       "1                                                                          [0, 0, 0, 0, 0, 0, 0, 0]   \n",
       "2                                                  [0, 0, 0, 0, 0, 0, 0, 0, 0, 0, 0, 0, 0, 0, 0, 0]   \n",
       "3  [0, 0, 0, 0, 0, 0, 0, 0, 0, 0, 0, 0, 0, 0, 0, 0, 0, 0, 0, 0, 0, 0, 0, 0, 0, 0, 0, 0, 0, 0, 0, 0]   \n",
       "4                                                           [0, 1, 0, 0, 0, 0, 0, 0, 0, 0, 0, 0, 0]   \n",
       "\n",
       "                                                                                                                                                                                                       title  \\\n",
       "0                                                                                                                     I believe that churches and other religious institutions should have to pay taxes. CMV   \n",
       "1                                                                                                                I don't believe it is acceptable to attack the person that your SO cheated on you with. CMV   \n",
       "2                                                                                        There is no viable alternative to capitalism, though the current system can be altered to serve people's needs. CMV   \n",
       "3  Given the option to draft either a QB with elite passing AND elite running skills or a QB with elite passing skills ONLY, NFL teams should almost always draft the QB with elite passing skills only. CMV   \n",
       "4                                                                                                                                                             I don't think promiscuity is a bad thing. CMV.   \n",
       "\n",
       "                                                                                    qouted_sent_idx  \n",
       "0                                                                                      [1, 1, 0, 0]  \n",
       "1                                                                          [1, 0, 1, 1, 1, 0, 0, 0]  \n",
       "2                                                  [0, 0, 1, 1, 1, 1, 1, 1, 1, 1, 0, 0, 0, 0, 0, 0]  \n",
       "3  [0, 0, 0, 0, 0, 0, 0, 0, 0, 0, 0, 0, 0, 0, 0, 0, 0, 0, 0, 0, 0, 0, 0, 0, 0, 0, 1, 0, 0, 0, 0, 0]  \n",
       "4                                                           [0, 1, 0, 0, 0, 0, 0, 0, 0, 1, 0, 0, 0]  "
      ]
     },
     "execution_count": 33,
     "metadata": {},
     "output_type": "execute_result"
    }
   ],
   "source": [
    "attackable_df_grouped.head()"
   ]
  },
  {
   "cell_type": "code",
   "execution_count": 34,
   "metadata": {},
   "outputs": [],
   "source": [
    "import nltk"
   ]
  },
  {
   "cell_type": "code",
   "execution_count": 38,
   "metadata": {},
   "outputs": [],
   "source": [
    "#attackable_df_grouped['post_len'] = attackable_df_grouped.post.apply(lambda x: len([token for sent in x for token in nltk.word_tokenize(sent)]))\n",
    "attackable_df_grouped['post_title_len'] = attackable_df_grouped.title.apply(lambda x: len(nltk.word_tokenize(x)))"
   ]
  },
  {
   "cell_type": "code",
   "execution_count": 39,
   "metadata": {},
   "outputs": [
    {
     "name": "stdout",
     "output_type": "stream",
     "text": [
      "Avg post len: 367.974328081557\n"
     ]
    }
   ],
   "source": [
    "print('Avg post len:', np.mean(attackable_df_grouped.post_len.tolist()))"
   ]
  },
  {
   "cell_type": "code",
   "execution_count": 40,
   "metadata": {},
   "outputs": [
    {
     "name": "stdout",
     "output_type": "stream",
     "text": [
      "Avg title len: 18.107020389249303\n"
     ]
    }
   ],
   "source": [
    "print('Avg title len:', np.mean(attackable_df_grouped.post_title_len.tolist()))"
   ]
  },
  {
   "cell_type": "markdown",
   "metadata": {},
   "source": [
    "#### Preparing data for generating counter claims:"
   ]
  },
  {
   "cell_type": "code",
   "execution_count": 9,
   "metadata": {},
   "outputs": [],
   "source": [
    "attackable_df_grouped =  pd.read_pickle('/workspace/ceph_data/argument-undermining/jo_data/vul_data.pickle')"
   ]
  },
  {
   "cell_type": "code",
   "execution_count": 10,
   "metadata": {},
   "outputs": [],
   "source": [
    "post_comments_rel['attacked'] = post_comments_rel.apply(lambda row: row['direct_n_quotes'] > 0 or row['all_4_n_quotes'] > 0 , axis=1)"
   ]
  },
  {
   "cell_type": "code",
   "execution_count": 11,
   "metadata": {},
   "outputs": [],
   "source": [
    "post_comments_df = post_comments_rel[post_comments_rel['attacked']]\n",
    "post_comments_df = pd.merge(post_comments_df, attackable_df_grouped[['post_id', 'title', 'post', 'split']], on='post_id')\n",
    "post_comments_df = pd.merge(post_comments_df, comments_df[['comment_id', 'body']], on='comment_id')\n",
    "post_comments_df = post_comments_df[['post_id', 'split', 'comment_id', 'title', 'post', 'body', 'n_sentences', 'direct_sents', 'all_4_sents']]\n",
    "post_comments_df.columns= ['post_id', 'split', 'comment_id', 'title', 'post', 'comment', 'n_sentences', 'direct_sents', 'all_4_sents']"
   ]
  },
  {
   "cell_type": "code",
   "execution_count": 12,
   "metadata": {},
   "outputs": [
    {
     "data": {
      "text/plain": [
       "train    67676\n",
       "test     23067\n",
       "val      22398\n",
       "Name: split, dtype: int64"
      ]
     },
     "execution_count": 12,
     "metadata": {},
     "output_type": "execute_result"
    }
   ],
   "source": [
    "post_comments_df.split.value_counts()"
   ]
  },
  {
   "cell_type": "code",
   "execution_count": 13,
   "metadata": {},
   "outputs": [],
   "source": [
    "post_comments_df['direct_sents'] = post_comments_df['direct_sents'].apply(lambda x: x.split(',') if type(x) == str else [])\n",
    "post_comments_df['all_4_sents'] = post_comments_df['all_4_sents'].apply(lambda x: x.split(',') if type(x) == str else [])\n",
    "post_comments_df['title'] = post_comments_df['title'].apply(lambda x: re.sub(r'((cmv)|(CMV)):?', '', x))\n",
    "post_comments_df['comment_sents'] = post_comments_df['comment'].apply(lambda x: nltk.sent_tokenize(x.lower()))"
   ]
  },
  {
   "cell_type": "code",
   "execution_count": 14,
   "metadata": {},
   "outputs": [],
   "source": [
    "post_comments_df['post'] = post_comments_df['post'].apply(lambda post: [normalizeString(sent).lower() for sent in post])\n",
    "post_comments_df['comment_sents'] = post_comments_df['comment_sents'].apply(lambda comment: [normalizeString(sent.replace('&gt;', '')) for sent in comment])"
   ]
  },
  {
   "cell_type": "code",
   "execution_count": 15,
   "metadata": {},
   "outputs": [
    {
     "data": {
      "text/plain": [
       "train    67676\n",
       "test     23067\n",
       "val      22398\n",
       "Name: split, dtype: int64"
      ]
     },
     "execution_count": 15,
     "metadata": {},
     "output_type": "execute_result"
    }
   ],
   "source": [
    "post_comments_df.split.value_counts()"
   ]
  },
  {
   "cell_type": "code",
   "execution_count": 91,
   "metadata": {},
   "outputs": [],
   "source": [
    "post_comments_df.to_pickle('/workspace/ceph_data/argument-undermining/jo_data/gen_data.pickle')"
   ]
  },
  {
   "cell_type": "code",
   "execution_count": 27,
   "metadata": {},
   "outputs": [],
   "source": [
    "def extract_premise_counter_pairs(row, premise_max_sents=5):\n",
    "    attacking_indices = []\n",
    "    prev_sents = []\n",
    "    premise_counter_premise_pairs = []\n",
    "    post_sents = [sent for sent in row['post'] if sent.strip() != '']\n",
    "    #print(post_sents)\n",
    "    #print(row['direct_sents'])\n",
    "    for sent in row['comment_sents']:\n",
    "        sent_checks = [sent in post_sent or post_sent in sent for post_sent in post_sents]\n",
    "        if any(sent_checks):\n",
    "            sent_idx = sent_checks.index(True)\n",
    "            #print(sent_idx)\n",
    "            #print(row['post'][sent_idx])\n",
    "            prev_sents.append(sent)\n",
    "        elif len(prev_sents) > 0:\n",
    "            premise_counter_premise_pairs.append([prev_sents, [sent]])\n",
    "            prev_sents = []\n",
    "        else:\n",
    "            if len(premise_counter_premise_pairs) != 0:\n",
    "                premise_counter_premise_pairs[-1][1].append(sent)\n",
    "    \n",
    "    #print(row['comment_sents'])\n",
    "    #print('========')\n",
    "    premise_counter_premise_pairs = [[x[0], \" \".join(x[1][0:premise_max_sents])] for x in premise_counter_premise_pairs]\n",
    "    #print(premise_counter_premise_pairs)\n",
    "    #print('===================================')\n",
    "    \n",
    "    return premise_counter_premise_pairs"
   ]
  },
  {
   "cell_type": "code",
   "execution_count": 28,
   "metadata": {},
   "outputs": [],
   "source": [
    "post_comments_df[\"premise_counter_premise_pairs\"] = post_comments_df.apply(lambda x: extract_premise_counter_pairs(x) , axis=1)"
   ]
  },
  {
   "cell_type": "code",
   "execution_count": 18,
   "metadata": {},
   "outputs": [],
   "source": [
    "post_comments_df[\"num_attacks\"] = post_comments_df['premise_counter_premise_pairs'].apply(lambda x: len(x))"
   ]
  },
  {
   "cell_type": "code",
   "execution_count": 20,
   "metadata": {},
   "outputs": [],
   "source": [
    "post_comments_df = post_comments_df[post_comments_df.num_attacks > 0]"
   ]
  },
  {
   "cell_type": "code",
   "execution_count": null,
   "metadata": {},
   "outputs": [],
   "source": [
    "post_comments_df.to_pickle('/workspace/ceph_data/argument-undermining/jo_data/gen_data.pickle')"
   ]
  },
  {
   "cell_type": "code",
   "execution_count": 29,
   "metadata": {},
   "outputs": [
    {
     "data": {
      "text/plain": [
       "train    53558\n",
       "test     18018\n",
       "val      17567\n",
       "Name: split, dtype: int64"
      ]
     },
     "execution_count": 29,
     "metadata": {},
     "output_type": "execute_result"
    }
   ],
   "source": [
    "post_comments_df.split.value_counts()"
   ]
  },
  {
   "cell_type": "markdown",
   "metadata": {},
   "source": [
    "### Find if any of the posts in Hua test split appears in our training data:"
   ]
  },
  {
   "cell_type": "code",
   "execution_count": 48,
   "metadata": {},
   "outputs": [],
   "source": [
    "def load_hua_data(data_path1):\n",
    "    import ast\n",
    "    \n",
    "    with open(data_path1, 'r', encoding='utf-8') as f:\n",
    "        argument=ast.literal_eval(f.read())\n",
    "    \n",
    "    df = pd.DataFrame(argument)\n",
    "    df.set_index('name',inplace=True)\n",
    "    df.columns = ['claim','post','counter pretext']\n",
    "    df['claim'] = df['claim'].apply(lambda x: re.sub('(cmv)[\\.-:,]?', '', x[0].lower()).replace(':', ''))\n",
    "    df['claim'] = df['claim'].apply(lambda x: x + \".\" if x.strip()[-1] != \".\" else x)\n",
    "    df['post_length'] = df['post'].apply(lambda x : len(x))\n",
    "    \n",
    "    return df"
   ]
  },
  {
   "cell_type": "code",
   "execution_count": 49,
   "metadata": {},
   "outputs": [],
   "source": [
    "hua_df = load_hua_data('/workspace/ceph_data/argument-undermining/data/undermine_arguments_eval_hua.json')"
   ]
  },
  {
   "cell_type": "code",
   "execution_count": 58,
   "metadata": {},
   "outputs": [],
   "source": [
    "hua_post_ids = ['t3_'+x for x in hua_df.index]\n",
    "our_training_ids = post_comments_df[post_comments_df.split=='train'].post_id.tolist()"
   ]
  },
  {
   "cell_type": "code",
   "execution_count": 62,
   "metadata": {},
   "outputs": [],
   "source": [
    "for test_id in hua_post_ids:\n",
    "    if test_id in our_training_ids:\n",
    "        print(test_id)"
   ]
  },
  {
   "cell_type": "code",
   "execution_count": null,
   "metadata": {},
   "outputs": [],
   "source": []
  }
 ],
 "metadata": {
  "kernelspec": {
   "display_name": "Python 3",
   "language": "python",
   "name": "python3"
  },
  "language_info": {
   "codemirror_mode": {
    "name": "ipython",
    "version": 3
   },
   "file_extension": ".py",
   "mimetype": "text/x-python",
   "name": "python",
   "nbconvert_exporter": "python",
   "pygments_lexer": "ipython3",
   "version": "3.7.9"
  }
 },
 "nbformat": 4,
 "nbformat_minor": 4
}
