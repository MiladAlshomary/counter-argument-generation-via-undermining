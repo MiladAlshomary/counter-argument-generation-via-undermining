{
 "cells": [
  {
   "cell_type": "code",
   "execution_count": 164,
   "metadata": {},
   "outputs": [
    {
     "name": "stdout",
     "output_type": "stream",
     "text": [
      "The autoreload extension is already loaded. To reload it, use:\n",
      "  %reload_ext autoreload\n"
     ]
    }
   ],
   "source": [
    "%load_ext autoreload"
   ]
  },
  {
   "cell_type": "code",
   "execution_count": 165,
   "metadata": {},
   "outputs": [],
   "source": [
    "import sys\n",
    "import os\n",
    "import pandas as pd\n",
    "import matplotlib.pyplot as plt\n",
    "\n",
    "from tabulate import tabulate\n",
    "\n",
    "os.environ['CUDA_VISIBLE_DEVICES']= '6'\n",
    "pd.set_option('display.max_colwidth', None)\n",
    "sys.path.append('/workspace/computationally-undermining-arguments/scripts/')\n",
    "sys.path.append('/workspace/computationally-undermining-arguments/src-py')"
   ]
  },
  {
   "cell_type": "code",
   "execution_count": 166,
   "metadata": {},
   "outputs": [],
   "source": [
    "%autoreload\n",
    "\n",
    "import torch\n",
    "import nltk\n",
    "import numpy as np\n",
    "import pandas as pd\n",
    "import json\n",
    "from pylab import rcParams\n",
    "from sklearn.model_selection import train_test_split\n",
    "from sklearn.metrics import confusion_matrix, classification_report\n",
    "from collections import defaultdict\n",
    "from textwrap import wrap\n",
    "from torch import nn, optim\n",
    "from torch.utils.data import Dataset, DataLoader\n",
    "\n",
    "from vul_classification import *"
   ]
  },
  {
   "cell_type": "code",
   "execution_count": 253,
   "metadata": {},
   "outputs": [],
   "source": [
    "import evaluation"
   ]
  },
  {
   "cell_type": "code",
   "execution_count": 167,
   "metadata": {},
   "outputs": [],
   "source": [
    "import tensorflow as tf\n",
    "from sklearn.metrics import ndcg_score"
   ]
  },
  {
   "cell_type": "code",
   "execution_count": 168,
   "metadata": {},
   "outputs": [],
   "source": [
    "RANDOM_SEED = 42\n",
    "np.random.seed(RANDOM_SEED)\n",
    "torch.manual_seed(RANDOM_SEED)\n",
    "device = torch.device(\"cuda:0\" if torch.cuda.is_available() else \"cpu\")"
   ]
  },
  {
   "cell_type": "markdown",
   "metadata": {},
   "source": [
    "### Data Preparation:"
   ]
  },
  {
   "cell_type": "code",
   "execution_count": 6,
   "metadata": {},
   "outputs": [],
   "source": [
    "training_df = pd.read_json('/workspace/ceph_data/argument-undermining/data/gen_training.json')\n",
    "testing_df = pd.read_json('/workspace/ceph_data/argument-undermining/data/gen_testing.json')\n",
    "validation_df = pd.read_json('/workspace/ceph_data/argument-undermining/data/gen_validation.json')"
   ]
  },
  {
   "cell_type": "code",
   "execution_count": 7,
   "metadata": {},
   "outputs": [],
   "source": [
    "def group_df(df):\n",
    "    df = df.groupby('title').agg({\n",
    "        'title' : lambda x: list(x)[0],\n",
    "        'full_post': lambda x: list(x)[0],\n",
    "        'premise_counter_premise_pair': lambda x : [attack for comment in list(x) for attack in comment],\n",
    "    }).reset_index(drop=True)\n",
    "    \n",
    "    return df"
   ]
  },
  {
   "cell_type": "code",
   "execution_count": 8,
   "metadata": {},
   "outputs": [],
   "source": [
    "training_df = group_df(training_df)\n",
    "testing_df  = group_df(testing_df)\n",
    "valid_df    = group_df(validation_df)"
   ]
  },
  {
   "cell_type": "code",
   "execution_count": 9,
   "metadata": {},
   "outputs": [
    {
     "name": "stdout",
     "output_type": "stream",
     "text": [
      "11381\n",
      "1441\n",
      "3149\n"
     ]
    }
   ],
   "source": [
    "print(len(training_df))\n",
    "print(len(testing_df))\n",
    "print(len(validation_df))"
   ]
  },
  {
   "cell_type": "code",
   "execution_count": 29,
   "metadata": {},
   "outputs": [],
   "source": [
    "def convert_to_json(df):\n",
    "    ranking_problems = []\n",
    "    for idx, row in df.iterrows():\n",
    "            documents = []\n",
    "            attacked_sents = [x[0].lower() for x in row['premise_counter_premise_pair']]\n",
    "            for sent_idx, sent in enumerate(row['full_post']):\n",
    "                documents.append({\"relevance\": 1 if sent.lower() in attacked_sents else 0, \n",
    "                 \"docText\": sent})\n",
    "            \n",
    "            ranking_problems.append({\n",
    "                \"queryText\": row['title'],\n",
    "                \"documents\": documents\n",
    "            })\n",
    "    \n",
    "    return {\n",
    "        \"rankingProblems\": ranking_problems\n",
    "    }\n",
    "\n",
    "def convert_jo_to_json(df):\n",
    "    ranking_problems = []\n",
    "    for idx, row in df.iterrows():\n",
    "            documents = []\n",
    "            attacked_idx = row['qouted_sent_idx']\n",
    "            for sent_idx, sent in enumerate(row['post']):\n",
    "                documents.append({\"relevance\": attacked_idx[sent_idx], \n",
    "                 \"docText\": sent})\n",
    "            \n",
    "            ranking_problems.append({\n",
    "                \"queryText\": row['title'],\n",
    "                \"documents\": documents\n",
    "            })\n",
    "    \n",
    "    return {\n",
    "        \"rankingProblems\": ranking_problems\n",
    "    }"
   ]
  },
  {
   "cell_type": "code",
   "execution_count": 11,
   "metadata": {},
   "outputs": [],
   "source": [
    "training_json = convert_to_json(training_df)\n",
    "valid_json    = convert_to_json(validation_df)\n",
    "testing_json = convert_to_json(testing_df)"
   ]
  },
  {
   "cell_type": "code",
   "execution_count": 12,
   "metadata": {},
   "outputs": [
    {
     "data": {
      "image/png": "[encoded data removed]",
      "text/plain": [
       "<Figure size 432x288 with 1 Axes>"
      ]
     },
     "metadata": {
      "needs_background": "light"
     },
     "output_type": "display_data"
    }
   ],
   "source": [
    "relevants_dist = [sum([doc['relevance'] for doc in p['documents']]) for p in training_json['rankingProblems']]\n",
    "plt.hist(relevants_dist, bins=[0,1,2,3,4])\n",
    "plt.show()"
   ]
  },
  {
   "cell_type": "code",
   "execution_count": 13,
   "metadata": {},
   "outputs": [
    {
     "data": {
      "image/png": "[encoded data removed]",
      "text/plain": [
       "<Figure size 432x288 with 1 Axes>"
      ]
     },
     "metadata": {
      "needs_background": "light"
     },
     "output_type": "display_data"
    }
   ],
   "source": [
    "num_sents_dist = [len(p['documents']) for p in training_json['rankingProblems']]\n",
    "plt.hist(num_sents_dist, bins=[3,6,9,15,20, 25, 30, 35])\n",
    "plt.show()"
   ]
  },
  {
   "cell_type": "code",
   "execution_count": 84,
   "metadata": {},
   "outputs": [],
   "source": [
    "def trim_documents(problem, max_sents=15):\n",
    "    '''\n",
    "    Take top 15 sentences, making sure that the relevant sentences are kept and then shuffle.\n",
    "    '''\n",
    "    sorted_by_rel = sorted(problem['documents'], key=lambda x: -x['relevance'])\n",
    "    sorted_by_rel = sorted_by_rel[0:max_sents]\n",
    "    np.random.shuffle(sorted_by_rel)\n",
    "    problem['documents'] =  sorted_by_rel\n",
    "    \n",
    "    return problem"
   ]
  },
  {
   "cell_type": "code",
   "execution_count": 39,
   "metadata": {},
   "outputs": [],
   "source": [
    "#Filter out cases with no attacks\n",
    "training_json['rankingProblems'] = [trim_documents(problem) for problem in training_json['rankingProblems'] if sum([doc['relevance'] for doc in problem['documents']]) > 0] #put the relevnt documents on the beginning so when we cut they don't disappear\n",
    "valid_json['rankingProblems']    = [trim_documents(problem) for problem in valid_json['rankingProblems']    if sum([doc['relevance'] for doc in problem['documents']]) > 0]\n",
    "#Dont trim the test-set\n",
    "testing_json['rankingProblems']  = [problem for problem in testing_json['rankingProblems']  if sum([doc['relevance'] for doc in problem['documents']]) > 0]"
   ]
  },
  {
   "cell_type": "code",
   "execution_count": 19,
   "metadata": {},
   "outputs": [],
   "source": [
    "json.dump(training_json, open('/workspace/ceph_data/argument-undermining/data/vul_detection/training.json', 'w'))\n",
    "json.dump(valid_json, open('/workspace/ceph_data/argument-undermining/data/vul_detection/valid.json', 'w'))\n",
    "json.dump(testing_json, open('/workspace/ceph_data/argument-undermining/data/vul_detection/testing.json', 'w'))"
   ]
  },
  {
   "cell_type": "code",
   "execution_count": 20,
   "metadata": {},
   "outputs": [
    {
     "name": "stdout",
     "output_type": "stream",
     "text": [
      "9908\n",
      "2334\n",
      "1244\n"
     ]
    }
   ],
   "source": [
    "print(len(training_json['rankingProblems']))\n",
    "print(len(valid_json['rankingProblems']))\n",
    "print(len(testing_json['rankingProblems']))"
   ]
  },
  {
   "cell_type": "code",
   "execution_count": 101,
   "metadata": {},
   "outputs": [],
   "source": [
    "testing_json = json.load(open('/workspace/ceph_data/argument-undermining/data/vul_detection/testing.json'))"
   ]
  },
  {
   "cell_type": "code",
   "execution_count": 110,
   "metadata": {},
   "outputs": [],
   "source": [
    "s = {'rankingProblems':testing_json['rankingProblems'][0:2]}"
   ]
  },
  {
   "cell_type": "code",
   "execution_count": 111,
   "metadata": {},
   "outputs": [],
   "source": [
    "json.dump(s, open('/workspace/ceph_data/argument-undermining/data/vul_detection/sample.json', 'w'))"
   ]
  },
  {
   "cell_type": "markdown",
   "metadata": {},
   "source": [
    "#### Preparing jo data:"
   ]
  },
  {
   "cell_type": "code",
   "execution_count": 169,
   "metadata": {},
   "outputs": [],
   "source": [
    "jo_df = pd.read_pickle('/workspace/ceph_data/argument-undermining/jo_data/vul_data.pickle')"
   ]
  },
  {
   "cell_type": "code",
   "execution_count": 170,
   "metadata": {},
   "outputs": [],
   "source": [
    "jo_training_json = convert_jo_to_json (jo_df[jo_df.split=='train'])\n",
    "jo_valid_json    = convert_jo_to_json(jo_df[jo_df.split=='val'])\n",
    "jo_testing_json  = convert_jo_to_json(jo_df[jo_df.split=='test'])"
   ]
  },
  {
   "cell_type": "code",
   "execution_count": 171,
   "metadata": {},
   "outputs": [
    {
     "name": "stdout",
     "output_type": "stream",
     "text": [
      "25839\n",
      "8763\n",
      "8558\n"
     ]
    }
   ],
   "source": [
    "print(len(jo_training_json['rankingProblems']))\n",
    "print(len(jo_valid_json['rankingProblems']))\n",
    "print(len(jo_testing_json['rankingProblems']))"
   ]
  },
  {
   "cell_type": "code",
   "execution_count": 172,
   "metadata": {},
   "outputs": [
    {
     "data": {
      "image/png": "[encoded data removed]",
      "text/plain": [
       "<Figure size 432x288 with 1 Axes>"
      ]
     },
     "metadata": {
      "needs_background": "light"
     },
     "output_type": "display_data"
    }
   ],
   "source": [
    "relevants_dist = [sum([doc['relevance'] for doc in p['documents']]) for p in jo_training_json['rankingProblems']]\n",
    "plt.hist(relevants_dist, bins=[0,1,2,3,4])\n",
    "plt.show()"
   ]
  },
  {
   "cell_type": "code",
   "execution_count": 173,
   "metadata": {},
   "outputs": [
    {
     "data": {
      "image/png": "[encoded data removed]",
      "text/plain": [
       "<Figure size 432x288 with 1 Axes>"
      ]
     },
     "metadata": {
      "needs_background": "light"
     },
     "output_type": "display_data"
    }
   ],
   "source": [
    "num_sents_dist = [len(p['documents']) for p in jo_training_json['rankingProblems']]\n",
    "plt.hist(num_sents_dist, bins=[3,6,9,15,20, 25, 30, 35])\n",
    "plt.show()"
   ]
  },
  {
   "cell_type": "code",
   "execution_count": 174,
   "metadata": {},
   "outputs": [],
   "source": [
    "#Filter out cases with no attacks\n",
    "#jo_training_json['rankingProblems'] = [trim_documents(problem, max_sents=30) for problem in jo_training_json['rankingProblems'] if sum([doc['relevance'] for doc in problem['documents']]) > 0] #put the relevnt documents on the beginning so when we cut they don't disappear\n",
    "#jo_valid_json['rankingProblems']    = [trim_documents(problem, max_sents=30) for problem in jo_valid_json['rankingProblems']    if sum([doc['relevance'] for doc in problem['documents']]) > 0]\n",
    "#don't trim the test-set\n",
    "#jo_testing_json['rankingProblems']  = [problem for problem in jo_testing_json['rankingProblems']  if sum([doc['relevance'] for doc in problem['documents']]) > 0]"
   ]
  },
  {
   "cell_type": "code",
   "execution_count": 175,
   "metadata": {},
   "outputs": [],
   "source": [
    "# num_sents_dist = [len(p['documents']) for p in jo_training_json['rankingProblems']]\n",
    "# plt.hist(num_sents_dist, bins=[3,6,9,15,20, 25, 30, 35])\n",
    "# plt.show()"
   ]
  },
  {
   "cell_type": "code",
   "execution_count": 176,
   "metadata": {},
   "outputs": [],
   "source": [
    "json.dump(jo_training_json, open('/workspace/ceph_data/argument-undermining/data/vul_detection/jo_training.json', 'w'))\n",
    "json.dump(jo_valid_json, open('/workspace/ceph_data/argument-undermining/data/vul_detection/jo_valid.json', 'w'))\n",
    "json.dump(jo_testing_json, open('/workspace/ceph_data/argument-undermining/data/vul_detection/jo_testing.json', 'w'))"
   ]
  },
  {
   "cell_type": "markdown",
   "metadata": {},
   "source": [
    "### Training Bert:"
   ]
  },
  {
   "cell_type": "code",
   "execution_count": 21,
   "metadata": {},
   "outputs": [
    {
     "name": "stdout",
     "output_type": "stream",
     "text": [
      "2020-10-29 12:26:55.136957: I tensorflow/stream_executor/platform/default/dso_loader.cc:48] Successfully opened dynamic library libcudart.so.10.1\n",
      "Utility to convert between JSON and ELWC for TFR-Bert\n",
      "\n",
      "Model Parameters: \n",
      "Vocabulary filename: /workspace/ceph_data/argument-undermining/models/thirdparty/uncased_L-12_H-768_A-12_TF2/vocab.txt\n",
      "sequence_length: 128\n",
      "do_lower_case: True\n",
      "\n",
      "\n",
      "Input file:  /workspace/ceph_data/argument-undermining/data/vul_detection/training.json\n",
      "Output file: /workspace/ceph_data/argument-undermining/data/vul_detection/training.elwc.tfrecord\n",
      "Success.\n"
     ]
    }
   ],
   "source": [
    "! python /workspace/computationally-undermining-arguments/thirdparty/ranking/tensorflow_ranking/extension/examples/tfrbert_convert_json_to_elwc.py \\\n",
    "    --vocab_file=/workspace/ceph_data/argument-undermining/models/thirdparty/uncased_L-12_H-768_A-12_TF2/vocab.txt \\\n",
    "    --sequence_length=128 \\\n",
    "    --input_file=/workspace/ceph_data/argument-undermining/data/vul_detection/training.json \\\n",
    "    --output_file=/workspace/ceph_data/argument-undermining/data/vul_detection/training.elwc.tfrecord \\\n",
    "    --do_lower_case "
   ]
  },
  {
   "cell_type": "code",
   "execution_count": 22,
   "metadata": {},
   "outputs": [
    {
     "name": "stdout",
     "output_type": "stream",
     "text": [
      "2020-10-29 12:29:03.432798: I tensorflow/stream_executor/platform/default/dso_loader.cc:48] Successfully opened dynamic library libcudart.so.10.1\n",
      "Utility to convert between JSON and ELWC for TFR-Bert\n",
      "\n",
      "Model Parameters: \n",
      "Vocabulary filename: /workspace/ceph_data/argument-undermining/models/thirdparty/uncased_L-12_H-768_A-12_TF2//vocab.txt\n",
      "sequence_length: 128\n",
      "do_lower_case: True\n",
      "\n",
      "\n",
      "Input file:  /workspace/ceph_data/argument-undermining/data/vul_detection/valid.json\n",
      "Output file: /workspace/ceph_data/argument-undermining/data/vul_detection/valid.elwc.tfrecord\n",
      "Success.\n"
     ]
    }
   ],
   "source": [
    "! python /workspace/computationally-undermining-arguments/thirdparty/ranking/tensorflow_ranking/extension/examples/tfrbert_convert_json_to_elwc.py \\\n",
    "    --vocab_file=/workspace/ceph_data/argument-undermining/models/thirdparty/uncased_L-12_H-768_A-12_TF2//vocab.txt \\\n",
    "    --sequence_length=128 \\\n",
    "    --input_file=/workspace/ceph_data/argument-undermining/data/vul_detection/valid.json \\\n",
    "    --output_file=/workspace/ceph_data/argument-undermining/data/vul_detection/valid.elwc.tfrecord \\\n",
    "    --do_lower_case "
   ]
  },
  {
   "cell_type": "code",
   "execution_count": 177,
   "metadata": {},
   "outputs": [
    {
     "name": "stdout",
     "output_type": "stream",
     "text": [
      "2020-11-29 11:23:24.202122: I tensorflow/stream_executor/platform/default/dso_loader.cc:48] Successfully opened dynamic library libcudart.so.10.1\n",
      "Utility to convert between JSON and ELWC for TFR-Bert\n",
      "\n",
      "Model Parameters: \n",
      "Vocabulary filename: /workspace/ceph_data/argument-undermining/models/thirdparty/uncased_L-12_H-768_A-12_TF2/vocab.txt\n",
      "sequence_length: 128\n",
      "do_lower_case: True\n",
      "\n",
      "\n",
      "Input file:  /workspace/ceph_data/argument-undermining/data/vul_detection/jo_training.json\n",
      "Output file: /workspace/ceph_data/argument-undermining/data/vul_detection/jo_training.elwc.tfrecord\n",
      "Success.\n"
     ]
    }
   ],
   "source": [
    "! python /workspace/computationally-undermining-arguments/thirdparty/ranking/tensorflow_ranking/extension/examples/tfrbert_convert_json_to_elwc.py \\\n",
    "    --vocab_file=/workspace/ceph_data/argument-undermining/models/thirdparty/uncased_L-12_H-768_A-12_TF2/vocab.txt \\\n",
    "    --sequence_length=128 \\\n",
    "    --input_file=/workspace/ceph_data/argument-undermining/data/vul_detection/jo_training.json \\\n",
    "    --output_file=/workspace/ceph_data/argument-undermining/data/vul_detection/jo_training.elwc.tfrecord \\\n",
    "    --do_lower_case "
   ]
  },
  {
   "cell_type": "code",
   "execution_count": 178,
   "metadata": {},
   "outputs": [
    {
     "name": "stdout",
     "output_type": "stream",
     "text": [
      "2020-11-29 11:30:40.689754: I tensorflow/stream_executor/platform/default/dso_loader.cc:48] Successfully opened dynamic library libcudart.so.10.1\n",
      "Utility to convert between JSON and ELWC for TFR-Bert\n",
      "\n",
      "Model Parameters: \n",
      "Vocabulary filename: /workspace/ceph_data/argument-undermining/models/thirdparty/uncased_L-12_H-768_A-12_TF2//vocab.txt\n",
      "sequence_length: 128\n",
      "do_lower_case: True\n",
      "\n",
      "\n",
      "Input file:  /workspace/ceph_data/argument-undermining/data/vul_detection/jo_valid.json\n",
      "Output file: /workspace/ceph_data/argument-undermining/data/vul_detection/jo_valid.elwc.tfrecord\n",
      "Success.\n"
     ]
    }
   ],
   "source": [
    "! python /workspace/computationally-undermining-arguments/thirdparty/ranking/tensorflow_ranking/extension/examples/tfrbert_convert_json_to_elwc.py \\\n",
    "    --vocab_file=/workspace/ceph_data/argument-undermining/models/thirdparty/uncased_L-12_H-768_A-12_TF2//vocab.txt \\\n",
    "    --sequence_length=128 \\\n",
    "    --input_file=/workspace/ceph_data/argument-undermining/data/vul_detection/jo_valid.json \\\n",
    "    --output_file=/workspace/ceph_data/argument-undermining/data/vul_detection/jo_valid.elwc.tfrecord \\\n",
    "    --do_lower_case "
   ]
  },
  {
   "cell_type": "code",
   "execution_count": null,
   "metadata": {},
   "outputs": [],
   "source": [
    "#This is necessary for building the library\n",
    "#bazel build -c opt bazel build -c opt tensorflow_ranking/extension/examples:tfrbert_example_py_binary"
   ]
  },
  {
   "cell_type": "code",
   "execution_count": null,
   "metadata": {},
   "outputs": [],
   "source": [
    "#BERT_DIR=\"/workspace/ceph_data/argument-undermining/models/thirdparty/uncased_L-2_H-128_A-2_TF2\" #tiny-bert\n",
    "BERT_DIR=\"/workspace/ceph_data/argument-undermining/models/thirdparty/uncased_L-12_H-768_A-12_TF2\" #big-bert\n",
    "DATA_DIR=\"/workspace/ceph_data/argument-undermining/data/vul_detection\"\n",
    "BAZIL_BIN=\"/workspace/computationally-undermining-arguments/thirdparty/ranking/bazel-bin/\""
   ]
  },
  {
   "cell_type": "code",
   "execution_count": 69,
   "metadata": {},
   "outputs": [
    {
     "name": "stdout",
     "output_type": "stream",
     "text": [
      "/bin/sh: 1: /tensorflow_ranking/extension/examples/tfrbert_example_py_binary: not found\n"
     ]
    }
   ],
   "source": [
    "OUTPUT_DIR=\"/workspace/ceph_data/argument-undermining/models/vul_detection_listwise/\"\n",
    "\n",
    "! CUDA_VISIBLE_DEVICES=4 ${BAZIL_BIN}/tensorflow_ranking/extension/examples/tfrbert_example_py_binary \\\n",
    "   --train_input_pattern=${DATA_DIR}/training.elwc.tfrecord \\\n",
    "   --eval_input_pattern=${DATA_DIR}/valid.elwc.tfrecord \\\n",
    "   --bert_config_file=${BERT_DIR}/bert_config.json \\\n",
    "   --bert_init_ckpt=${BERT_DIR}/bert_model.ckpt \\\n",
    "   --bert_max_seq_length=128 \\\n",
    "   --model_dir=\"${OUTPUT_DIR}\" \\\n",
    "   --loss=softmax_loss \\\n",
    "   --train_batch_size=1 \\\n",
    "   --convert_labels_to_binary \\\n",
    "   --eval_batch_size=1 \\\n",
    "   --listwise_inference True \\\n",
    "   --list_size=15 \\\n",
    "   --learning_rate=1e-6 \\\n",
    "   --num_train_steps=100000 \\\n",
    "   --num_eval_steps=200 \\\n",
    "   --checkpoint_secs=200 \\\n",
    "   --bert_num_warmup_steps 1000 \\\n",
    "   --num_checkpoints=5"
   ]
  },
  {
   "cell_type": "code",
   "execution_count": null,
   "metadata": {},
   "outputs": [],
   "source": [
    "OUTPUT_DIR=\"/workspace/ceph_data/argument-undermining/models/vul_detection_pointwise/\"\n",
    "\n",
    "CUDA_VISIBLE_DEVICES=1 ${BAZIL_BIN}/tensorflow_ranking/extension/examples/tfrbert_example_py_binary \\\n",
    "   --train_input_pattern=${DATA_DIR}/training.elwc.tfrecord \\\n",
    "   --eval_input_pattern=${DATA_DIR}/valid.elwc.tfrecord \\\n",
    "   --bert_config_file=${BERT_DIR}/bert_config.json \\\n",
    "   --bert_init_ckpt=${BERT_DIR}/bert_model.ckpt \\\n",
    "   --bert_max_seq_length=128 \\\n",
    "   --model_dir=\"${OUTPUT_DIR}\" \\\n",
    "   --loss=sigmoid_cross_entropy_loss \\\n",
    "   --listwise_inference=True\\\n",
    "   --train_batch_size=1 \\\n",
    "   --convert_labels_to_binary=True \\\n",
    "   --eval_batch_size=1 \\\n",
    "   --list_size=15 \\\n",
    "   --learning_rate=1e-6 \\\n",
    "   --num_train_steps=100000 \\\n",
    "   --num_eval_steps=200 \\\n",
    "   --checkpoint_secs=200 \\\n",
    "   --bert_num_warmup_steps 1000 \\\n",
    "   --num_checkpoints=5"
   ]
  },
  {
   "cell_type": "code",
   "execution_count": null,
   "metadata": {},
   "outputs": [],
   "source": [
    "OUTPUT_DIR=\"/workspace/ceph_data/argument-undermining/models/vul_detection_pairwise/\"\n",
    "\n",
    "CUDA_VISIBLE_DEVICES=2 ${BAZIL_BIN}/tensorflow_ranking/extension/examples/tfrbert_example_py_binary \\\n",
    "   --train_input_pattern=${DATA_DIR}/training.elwc.tfrecord \\\n",
    "   --eval_input_pattern=${DATA_DIR}/valid.elwc.tfrecord \\\n",
    "   --bert_config_file=${BERT_DIR}/bert_config.json \\\n",
    "   --bert_init_ckpt=${BERT_DIR}/bert_model.ckpt \\\n",
    "   --bert_max_seq_length=128 \\\n",
    "   --model_dir=\"${OUTPUT_DIR}\" \\\n",
    "   --loss=pairwise_logistic_loss \\\n",
    "   --listwise_inference=True\\\n",
    "   --train_batch_size=1 \\\n",
    "   --convert_labels_to_binary=True \\\n",
    "   --eval_batch_size=1 \\\n",
    "   --list_size=15 \\\n",
    "   --learning_rate=1e-6 \\\n",
    "   --num_train_steps=100000 \\\n",
    "   --num_eval_steps=200 \\\n",
    "   --checkpoint_secs=200 \\\n",
    "   --bert_num_warmup_steps 1000 \\\n",
    "   --num_checkpoints=5"
   ]
  },
  {
   "cell_type": "markdown",
   "metadata": {},
   "source": [
    "#### For Jo training:"
   ]
  },
  {
   "cell_type": "code",
   "execution_count": null,
   "metadata": {},
   "outputs": [],
   "source": [
    "BERT_DIR=\"/workspace/ceph_data/argument-undermining/models/thirdparty/uncased_L-12_H-768_A-12_TF2\" #big-bert\n",
    "DATA_DIR=\"/workspace/ceph_data/argument-undermining/data/vul_detection\"\n",
    "BAZIL_BIN=\"/workspace/computationally-undermining-arguments/thirdparty/ranking/bazel-bin/\"\n",
    "\n",
    "OUTPUT_DIR=\"/workspace/ceph_data/argument-undermining/models/jo_vul_detection_pairwise/\"\n",
    "\n",
    "CUDA_VISIBLE_DEVICES=3 ${BAZIL_BIN}/tensorflow_ranking/extension/examples/tfrbert_example_py_binary \\\n",
    "   --train_input_pattern=${DATA_DIR}/jo_training.elwc.tfrecord \\\n",
    "   --eval_input_pattern=${DATA_DIR}/jo_valid.elwc.tfrecord \\\n",
    "   --bert_config_file=${BERT_DIR}/bert_config.json \\\n",
    "   --bert_init_ckpt=${BERT_DIR}/bert_model.ckpt \\\n",
    "   --bert_max_seq_length=128 \\\n",
    "   --model_dir=\"${OUTPUT_DIR}\" \\\n",
    "   --loss=pairwise_logistic_loss \\\n",
    "   --listwise_inference=True\\\n",
    "   --train_batch_size=1 \\\n",
    "   --convert_labels_to_binary=True \\\n",
    "   --eval_batch_size=1 \\\n",
    "   --list_size=15 \\\n",
    "   --learning_rate=1e-5 \\\n",
    "   --num_train_steps=100000 \\\n",
    "   --num_eval_steps=200 \\\n",
    "   --checkpoint_secs=200 \\\n",
    "   --bert_num_warmup_steps 1000 \\\n",
    "   --num_checkpoints=5"
   ]
  },
  {
   "cell_type": "markdown",
   "metadata": {},
   "source": [
    "### Testing models:"
   ]
  },
  {
   "cell_type": "markdown",
   "metadata": {},
   "source": [
    "Setting up the prediction server:"
   ]
  },
  {
   "cell_type": "code",
   "execution_count": null,
   "metadata": {},
   "outputs": [],
   "source": [
    " #!/bin/bash\n",
    "export MODEL_DIR=/workspace/ceph_data/argument-undermining/models/vul_detection_listwise/export/best_model_by_loss/\n",
    "CUDA_VISIBLE_DEVICES=2 tensorflow_model_server \\\n",
    "  --port=8503 \\\n",
    "  --rest_api_port=8501 \\\n",
    "  --model_name=tfrbert \\\n",
    "  --model_base_path=\"${MODEL_DIR}\"\n",
    "\n",
    "export MODEL_DIR=/workspace/ceph_data/argument-undermining/models/vul_detection_pointwise/export/best_model_by_loss/\n",
    "CUDA_VISIBLE_DEVICES=2 tensorflow_model_server \\\n",
    "  --port=8503 \\\n",
    "  --rest_api_port=8501 \\\n",
    "  --model_name=tfrbert \\\n",
    "  --model_base_path=\"${MODEL_DIR}\"\n",
    "\n",
    "export MODEL_DIR=/workspace/ceph_data/argument-undermining/models/vul_detection_pairwise/export/best_model_by_loss/\n",
    "CUDA_VISIBLE_DEVICES=0 tensorflow_model_server \\\n",
    "  --port=8503 \\\n",
    "  --rest_api_port=8501 \\\n",
    "  --model_name=tfrbert \\\n",
    "  --model_base_path=\"${MODEL_DIR}\""
   ]
  },
  {
   "cell_type": "code",
   "execution_count": null,
   "metadata": {},
   "outputs": [],
   "source": [
    "#!/bin/bash\n",
    "BERT_DIR=\"/workspace/ceph_data/argument-undermining/models/thirdparty/uncased_L-12_H-768_A-12_TF2\"\n",
    "DATA_DIR=\"/workspace/ceph_data/argument-undermining/data/vul_detection\"\n",
    "\n",
    "python tensorflow_ranking/extension/examples/tfrbert_client_predict_from_json.py \\\n",
    "    --vocab_file=${BERT_DIR}/vocab.txt \\\n",
    "    --sequence_length=128 \\\n",
    "    --input_file=${DATA_DIR}/testing.json \\\n",
    "    --output_file=${DATA_DIR}/pred-test-best-loss.json \\\n",
    "    --do_lower_case"
   ]
  },
  {
   "cell_type": "code",
   "execution_count": 204,
   "metadata": {},
   "outputs": [],
   "source": [
    "gt_data = json.load(open('/workspace/ceph_data/argument-undermining/data/vul_detection/jo_testing.json'))\n",
    "preds_listwise = json.load(open('/workspace/ceph_data/argument-undermining/data/vul_detection/listwise-pred-jo-test-tmp.json'))\n",
    "preds_pointwise= json.load(open('/workspace/ceph_data/argument-undermining/data/vul_detection/pointwise-pred-jo-test.json'))\n",
    "preds_pairwise = json.load(open('/workspace/ceph_data/argument-undermining/data/vul_detection/pairwise-pred-jo-test.json'))"
   ]
  },
  {
   "cell_type": "code",
   "execution_count": 251,
   "metadata": {},
   "outputs": [],
   "source": [
    "def prec_at(ranking_problems, baseline=None, k=1):\n",
    "    correct_cases = 0\n",
    "    total_num_cases = 0\n",
    "    for problem in ranking_problems:\n",
    "#         if sum([x['relevance'] for x in problem['documents']]) == 0: #no relevance\n",
    "#             print('no relevance')\n",
    "#             continue\n",
    "        \n",
    "        if baseline != None:\n",
    "            if baseline == 'sen_length':\n",
    "                selected_premises = sorted(problem['documents'], key=lambda x: -len(nltk.word_tokenize(x['docText'])))[0:k]\n",
    "            else:\n",
    "                selected_premises = np.random.choice(problem['documents'], k)\n",
    "        else:\n",
    "            selected_premises = sorted(problem['documents'], key=lambda x: -x['score'])[0:k]\n",
    "\n",
    "        if 1 in [x['relevance'] for x in selected_premises]:\n",
    "            correct_cases+=1\n",
    "        \n",
    "        total_num_cases+=1\n",
    "        \n",
    "    return round(correct_cases/total_num_cases, 3)\n",
    "\n",
    "def compute_ndcg(ranking_problems, baseline=None, k=1):\n",
    "    ndcgs = []\n",
    "    \n",
    "    if baseline != None:\n",
    "        if baseline == 'sen_length':\n",
    "            pred_relevance = [[len(nltk.word_tokenize(doc['docText'])) for doc in p['documents']] for p in ranking_problems]\n",
    "        else:\n",
    "            pred_relevance = [[np.random.uniform(0,1) for doc in p['documents']] for p in ranking_problems]\n",
    "    else:\n",
    "        pred_relevance = [[doc['score'] for doc in p['documents']] for p in ranking_problems]\n",
    "        \n",
    "    true_relevance = [[doc['relevance'] for doc in p['documents']] for p in ranking_problems]\n",
    "\n",
    "    for x, y in zip(true_relevance, pred_relevance):\n",
    "        if len(x) == 1:\n",
    "            #print('...')\n",
    "            continue\n",
    "        ndcgs.append(ndcg_score([x], [y], k=k))\n",
    "\n",
    "    return round(np.mean(ndcgs), 2)\n",
    "\n",
    "def perform_significance_tests(app1_preds, app2_preds):\n",
    "    all_data = np.array(list(zip(app1_preds, app2_preds)))\n",
    "    chunks = np.array_split(all_data, 10)\n",
    "    \n",
    "    app1_chunks_scores = []\n",
    "    app2_chunks_scores = []\n",
    "    for chunk in chunks:\n",
    "        app1_chunk, app2_chunk = list(zip(*chunk))\n",
    "        app1_chunks_scores.append((prec_at(app1_chunk, k=1),  prec_at(app1_chunk, k=3)))\n",
    "        app2_chunks_scores.append((prec_at(app2_chunk, k=1),  prec_at(app2_chunk, k=3)))\n",
    "        \n",
    "\n",
    "    sig_report = {}\n",
    "    for idx, measure in enumerate(['P@1', 'Acc@3']):\n",
    "        s1 = [round(s[idx], 3) for s in app1_chunks_scores]\n",
    "        s2 = [round(s[idx], 3) for s in app2_chunks_scores]\n",
    "\n",
    "        sig_report[measure] = {'@5%':evaluation.check_sig(s2, s1, alpha=0.05), \n",
    "                               '%10': evaluation.check_sig(s2, s1, alpha=0.1)\n",
    "        }\n",
    "        \n",
    "    return sig_report"
   ]
  },
  {
   "cell_type": "code",
   "execution_count": 243,
   "metadata": {},
   "outputs": [],
   "source": [
    "#Load jo preds and convert them to the same structure of ours..\n",
    "jo_preds_df = pd.read_csv('../logs/attack-20201214_083700-Mbert-NMdomain-FT-DMdomain40-DAFalse-FD0-WCTrue-insts-test.csv')\n",
    "jo_preds_df['sentence'] = jo_preds_df.apply(lambda row: {'sen_id': row['sentence_no'], 'relevance' : row['y_true'], 'score': row['y_pred']}, axis=1)\n",
    "jo_preds_df = jo_preds_df.groupby('post_id').agg({'sentence': lambda x: list(x)}).reset_index()\n",
    "\n",
    "jo_preds = {'rankingProblemsOutput': []}\n",
    "for idx, post in jo_preds_df.iterrows():\n",
    "    jo_preds['rankingProblemsOutput'].append({'queryText': '', 'documents': post['sentence']})"
   ]
  },
  {
   "cell_type": "code",
   "execution_count": 236,
   "metadata": {
    "scrolled": true
   },
   "outputs": [],
   "source": [
    "listwise_model_scores  = [ prec_at(preds_listwise['rankingProblemsOutput'], k=1),  prec_at(preds_listwise['rankingProblemsOutput'], k=3)]\n",
    "pointwise_model_scores = [ prec_at(preds_pointwise['rankingProblemsOutput'], k=1),  prec_at(preds_pointwise['rankingProblemsOutput'], k=3)]\n",
    "pairwise_model_scores = [ prec_at(preds_pairwise['rankingProblemsOutput'], k=1),  prec_at(preds_pairwise['rankingProblemsOutput'], k=3)]\n",
    "jo_scores = [ prec_at(jo_preds['rankingProblemsOutput'], k=1),  prec_at(jo_preds['rankingProblemsOutput'], k=3)]\n",
    "#baseline_scores_sen_length = [ prec_at(gt_data['rankingProblems'], baseline='sen_length', k=1),  prec_at(gt_data['rankingProblems'], baseline='sen_length', k=3)]\n",
    "#baseline_scores_random = [ prec_at(gt_data['rankingProblems'], baseline='random', k=1),  prec_at(gt_data['rankingProblems'], baseline='random', k=3)]"
   ]
  },
  {
   "cell_type": "code",
   "execution_count": 238,
   "metadata": {},
   "outputs": [
    {
     "name": "stdout",
     "output_type": "stream",
     "text": [
      "#                        P@1    A@3\n",
      "---------------------  -----  -----\n",
      "Sentence Length        0.425  0.738\n",
      "Random                 0.35   0.617\n",
      "Jo et al.              0.487  0.777\n",
      "LTR-bert (point-wise)  0.505  0.787\n",
      "LTR-bert (pair-wise)   0.498  0.78\n",
      "LTR-bert (list-wise)   0.506  0.786\n"
     ]
    }
   ],
   "source": [
    "print(tabulate([\n",
    "    ['Sentence Length'] + baseline_scores_sen_length,\n",
    "    ['Random'] + baseline_scores_random,\n",
    "    ['Jo et al.']+ jo_scores,\n",
    "    ['LTR-bert (point-wise)'] + pointwise_model_scores,\n",
    "    ['LTR-bert (pair-wise)'] + pairwise_model_scores,\n",
    "    ['LTR-bert (list-wise)'] + listwise_model_scores,\n",
    "], headers=['#', 'P@1', 'A@3']))"
   ]
  },
  {
   "cell_type": "code",
   "execution_count": 255,
   "metadata": {},
   "outputs": [
    {
     "data": {
      "text/plain": [
       "{'P@1': {'@5%': True, '%10': True}, 'Acc@3': {'@5%': True, '%10': True}}"
      ]
     },
     "execution_count": 255,
     "metadata": {},
     "output_type": "execute_result"
    }
   ],
   "source": [
    "perform_significance_tests(jo_preds['rankingProblemsOutput'], preds_listwise['rankingProblemsOutput'])"
   ]
  },
  {
   "cell_type": "code",
   "execution_count": 256,
   "metadata": {},
   "outputs": [
    {
     "data": {
      "text/plain": [
       "{'P@1': {'@5%': True, '%10': True}, 'Acc@3': {'@5%': True, '%10': True}}"
      ]
     },
     "execution_count": 256,
     "metadata": {},
     "output_type": "execute_result"
    }
   ],
   "source": [
    "perform_significance_tests(jo_preds['rankingProblemsOutput'], preds_pointwise['rankingProblemsOutput'])"
   ]
  },
  {
   "cell_type": "code",
   "execution_count": 257,
   "metadata": {},
   "outputs": [
    {
     "data": {
      "text/plain": [
       "{'P@1': {'@5%': True, '%10': True}, 'Acc@3': {'@5%': False, '%10': False}}"
      ]
     },
     "execution_count": 257,
     "metadata": {},
     "output_type": "execute_result"
    }
   ],
   "source": [
    "perform_significance_tests(jo_preds['rankingProblemsOutput'], preds_pairwise['rankingProblemsOutput'])"
   ]
  }
 ],
 "metadata": {
  "kernelspec": {
   "display_name": "Python 3",
   "language": "python",
   "name": "python3"
  },
  "language_info": {
   "codemirror_mode": {
    "name": "ipython",
    "version": 3
   },
   "file_extension": ".py",
   "mimetype": "text/x-python",
   "name": "python",
   "nbconvert_exporter": "python",
   "pygments_lexer": "ipython3",
   "version": "3.7.9"
  }
 },
 "nbformat": 4,
 "nbformat_minor": 4
}
