{
 "cells": [
  {
   "cell_type": "markdown",
   "metadata": {},
   "source": [
    "Our code for training an LTR with bert for ranking weak premises."
   ]
  },
  {
   "cell_type": "code",
   "execution_count": 5,
   "metadata": {},
   "outputs": [],
   "source": [
    "import sys\n",
    "import os\n",
    "import torch\n",
    "import nltk\n",
    "import numpy as np\n",
    "import pandas as pd\n",
    "import json\n",
    "import pandas as pd\n",
    "import matplotlib.pyplot as plt\n",
    "from tabulate import tabulate\n",
    "from pylab import rcParams\n",
    "from sklearn.model_selection import train_test_split\n",
    "from sklearn.metrics import confusion_matrix, classification_report\n",
    "from collections import defaultdict\n",
    "from textwrap import wrap\n",
    "from torch import nn, optim\n",
    "from torch.utils.data import Dataset, DataLoader"
   ]
  },
  {
   "cell_type": "code",
   "execution_count": 10,
   "metadata": {},
   "outputs": [],
   "source": [
    "sys.path.append('../../lib/')\n",
    "os.environ['CUDA_VISIBLE_DEVICES']= '6'\n",
    "pd.set_option('display.max_colwidth', None)"
   ]
  },
  {
   "cell_type": "code",
   "execution_count": 13,
   "metadata": {},
   "outputs": [],
   "source": [
    "import evaluation"
   ]
  },
  {
   "cell_type": "code",
   "execution_count": 168,
   "metadata": {},
   "outputs": [],
   "source": [
    "RANDOM_SEED = 42\n",
    "np.random.seed(RANDOM_SEED)\n",
    "torch.manual_seed(RANDOM_SEED)\n",
    "device = torch.device(\"cuda:0\" if torch.cuda.is_available() else \"cpu\")"
   ]
  },
  {
   "cell_type": "code",
   "execution_count": 29,
   "metadata": {},
   "outputs": [],
   "source": [
    "#Replace data_path with the folder that contains the Jo et al data\n",
    "data_path = '/workspace/ceph_data/argument-undermining'"
   ]
  },
  {
   "cell_type": "code",
   "execution_count": 27,
   "metadata": {},
   "outputs": [],
   "source": [
    "def group_df(df):\n",
    "    df = df.groupby('title').agg({\n",
    "        'title' : lambda x: list(x)[0],\n",
    "        'full_post': lambda x: list(x)[0],\n",
    "        'premise_counter_premise_pair': lambda x : [attack for comment in list(x) for attack in comment],\n",
    "    }).reset_index(drop=True)\n",
    "    \n",
    "    return df\n",
    "\n",
    "def convert_jo_to_json(df):\n",
    "    ranking_problems = []\n",
    "    for idx, row in df.iterrows():\n",
    "            documents = []\n",
    "            attacked_idx = row['qouted_sent_idx']\n",
    "            for sent_idx, sent in enumerate(row['post']):\n",
    "                documents.append({\"relevance\": attacked_idx[sent_idx], \n",
    "                 \"docText\": sent})\n",
    "            \n",
    "            ranking_problems.append({\n",
    "                \"queryText\": row['title'],\n",
    "                \"documents\": documents\n",
    "            })\n",
    "    \n",
    "    return {\n",
    "        \"rankingProblems\": ranking_problems\n",
    "    }\n",
    "\n",
    "def trim_documents(problem, max_sents=15):\n",
    "    '''\n",
    "    Take top 15 sentences, making sure that the relevant sentences are kept and then shuffle.\n",
    "    '''\n",
    "    sorted_by_rel = sorted(problem['documents'], key=lambda x: -x['relevance'])\n",
    "    sorted_by_rel = sorted_by_rel[0:max_sents]\n",
    "    np.random.shuffle(sorted_by_rel)\n",
    "    problem['documents'] =  sorted_by_rel\n",
    "    \n",
    "    return problem"
   ]
  },
  {
   "cell_type": "markdown",
   "metadata": {},
   "source": [
    "### Preparing Jo et. al. Data:"
   ]
  },
  {
   "cell_type": "code",
   "execution_count": 31,
   "metadata": {},
   "outputs": [],
   "source": [
    "jo_df = pd.read_pickle(data_path + '/jo_data/vul_data.pickle')"
   ]
  },
  {
   "cell_type": "code",
   "execution_count": 32,
   "metadata": {},
   "outputs": [],
   "source": [
    "jo_training_json = convert_jo_to_json (jo_df[jo_df.split=='train'])\n",
    "jo_valid_json    = convert_jo_to_json(jo_df[jo_df.split=='val'])\n",
    "jo_testing_json  = convert_jo_to_json(jo_df[jo_df.split=='test'])"
   ]
  },
  {
   "cell_type": "code",
   "execution_count": 33,
   "metadata": {},
   "outputs": [
    {
     "name": "stdout",
     "output_type": "stream",
     "text": [
      "25839\n",
      "8763\n",
      "8558\n"
     ]
    }
   ],
   "source": [
    "print(len(jo_training_json['rankingProblems']))\n",
    "print(len(jo_valid_json['rankingProblems']))\n",
    "print(len(jo_testing_json['rankingProblems']))"
   ]
  },
  {
   "cell_type": "code",
   "execution_count": 172,
   "metadata": {},
   "outputs": [
    {
     "data": {
      "image/png": "[encoded data removed]",
      "text/plain": [
       "<Figure size 432x288 with 1 Axes>"
      ]
     },
     "metadata": {
      "needs_background": "light"
     },
     "output_type": "display_data"
    }
   ],
   "source": [
    "relevants_dist = [sum([doc['relevance'] for doc in p['documents']]) for p in jo_training_json['rankingProblems']]\n",
    "plt.hist(relevants_dist, bins=[0,1,2,3,4])\n",
    "plt.show()"
   ]
  },
  {
   "cell_type": "code",
   "execution_count": 173,
   "metadata": {},
   "outputs": [
    {
     "data": {
      "image/png": "[encoded data removed]",
      "text/plain": [
       "<Figure size 432x288 with 1 Axes>"
      ]
     },
     "metadata": {
      "needs_background": "light"
     },
     "output_type": "display_data"
    }
   ],
   "source": [
    "num_sents_dist = [len(p['documents']) for p in jo_training_json['rankingProblems']]\n",
    "plt.hist(num_sents_dist, bins=[3,6,9,15,20, 25, 30, 35])\n",
    "plt.show()"
   ]
  },
  {
   "cell_type": "code",
   "execution_count": 176,
   "metadata": {},
   "outputs": [],
   "source": [
    "json.dump(jo_training_json, open(data_path+'/data/vul_detection/jo_training.json', 'w'))\n",
    "json.dump(jo_valid_json, open(data_path+'/data/vul_detection/jo_valid.json', 'w'))\n",
    "json.dump(jo_testing_json, open(data_path+'/data/vul_detection/jo_testing.json', 'w'))"
   ]
  },
  {
   "cell_type": "markdown",
   "metadata": {},
   "source": [
    "### Training LTR-BERT:"
   ]
  },
  {
   "cell_type": "markdown",
   "metadata": {},
   "source": [
    "#### Encoding Data:"
   ]
  },
  {
   "cell_type": "code",
   "execution_count": 21,
   "metadata": {},
   "outputs": [
    {
     "name": "stdout",
     "output_type": "stream",
     "text": [
      "2020-10-29 12:26:55.136957: I tensorflow/stream_executor/platform/default/dso_loader.cc:48] Successfully opened dynamic library libcudart.so.10.1\n",
      "Utility to convert between JSON and ELWC for TFR-Bert\n",
      "\n",
      "Model Parameters: \n",
      "Vocabulary filename: /workspace/ceph_data/argument-undermining/models/thirdparty/uncased_L-12_H-768_A-12_TF2/vocab.txt\n",
      "sequence_length: 128\n",
      "do_lower_case: True\n",
      "\n",
      "\n",
      "Input file:  /workspace/ceph_data/argument-undermining/data/vul_detection/training.json\n",
      "Output file: /workspace/ceph_data/argument-undermining/data/vul_detection/training.elwc.tfrecord\n",
      "Success.\n"
     ]
    }
   ],
   "source": [
    "RANKING_CODE=\"/workspace/computationally-undermining-arguments/thirdparty\"\n",
    "VOCAN_PATH  = \"/workspace/ceph_data/argument-undermining/models/thirdparty/uncased_L-12_H-768_A-12_TF2/vocab.txt\"\n",
    "DATA_PATH   =\"/workspace/ceph_data/argument-undermining/data/vul_detection\"\n",
    "\n",
    "!python ${RANKING_CODE_PATH}/ranking/tensorflow_ranking/extension/examples/tfrbert_convert_json_to_elwc.py \\\n",
    "    --vocab_file= ${VOCAB_PATH} \\\n",
    "    --sequence_length=128 \\\n",
    "    --input_file=${DATA_PATH}/vul_detection/jo_train.json \\\n",
    "    --output_file=${DATA_PATH}/vul_detection/jo_train.elwc.tfrecord \\\n",
    "    --do_lower_case "
   ]
  },
  {
   "cell_type": "code",
   "execution_count": 22,
   "metadata": {},
   "outputs": [
    {
     "name": "stdout",
     "output_type": "stream",
     "text": [
      "2020-10-29 12:29:03.432798: I tensorflow/stream_executor/platform/default/dso_loader.cc:48] Successfully opened dynamic library libcudart.so.10.1\n",
      "Utility to convert between JSON and ELWC for TFR-Bert\n",
      "\n",
      "Model Parameters: \n",
      "Vocabulary filename: /workspace/ceph_data/argument-undermining/models/thirdparty/uncased_L-12_H-768_A-12_TF2//vocab.txt\n",
      "sequence_length: 128\n",
      "do_lower_case: True\n",
      "\n",
      "\n",
      "Input file:  /workspace/ceph_data/argument-undermining/data/vul_detection/valid.json\n",
      "Output file: /workspace/ceph_data/argument-undermining/data/vul_detection/valid.elwc.tfrecord\n",
      "Success.\n"
     ]
    }
   ],
   "source": [
    "RANKING_CODE=\"/workspace/computationally-undermining-arguments/thirdparty\"\n",
    "VOCAN_PATH  = \"/workspace/ceph_data/argument-undermining/models/thirdparty/uncased_L-12_H-768_A-12_TF2/vocab.txt\"\n",
    "DATA_PATH   =\"/workspace/ceph_data/argument-undermining/data/vul_detection\"\n",
    "\n",
    "!python ${RANKING_CODE_PATH}/ranking/tensorflow_ranking/extension/examples/tfrbert_convert_json_to_elwc.py \\\n",
    "    --vocab_file= ${VOCAB_PATH} \\\n",
    "    --sequence_length=128 \\\n",
    "    --input_file=${DATA_PATH}/vul_detection/jo_valid.json \\\n",
    "    --output_file=${DATA_PATH}/vul_detection/jo_valid.elwc.tfrecord \\\n",
    "    --do_lower_case "
   ]
  },
  {
   "cell_type": "markdown",
   "metadata": {},
   "source": [
    "#### Building the Library:"
   ]
  },
  {
   "cell_type": "code",
   "execution_count": null,
   "metadata": {},
   "outputs": [],
   "source": [
    "! bazel build -c opt bazel build -c opt tensorflow_ranking/extension/examples:tfrbert_example_py_binary"
   ]
  },
  {
   "cell_type": "markdown",
   "metadata": {},
   "source": [
    "#### Training LTR-BERT:"
   ]
  },
  {
   "cell_type": "markdown",
   "metadata": {},
   "source": [
    "The following are commands to train an LTR-BERT model on the data:"
   ]
  },
  {
   "cell_type": "code",
   "execution_count": 38,
   "metadata": {},
   "outputs": [],
   "source": [
    "BERT_DIR=\"/workspace/ceph_data/argument-undermining/models/thirdparty/uncased_L-12_H-768_A-12_TF2\" #big-bert\n",
    "DATA_DIR=\"/workspace/ceph_data/argument-undermining/data/vul_detection\"\n",
    "BAZIL_BIN=\"/workspace/computationally-undermining-arguments/thirdparty/ranking/bazel-bin/\" #path to the built library"
   ]
  },
  {
   "cell_type": "code",
   "execution_count": null,
   "metadata": {},
   "outputs": [],
   "source": [
    "OUTPUT_DIR=\"/workspace/ceph_data/argument-undermining/models/jo_vul_detection_listwise/\"\n",
    "\n",
    "CUDA_VISIBLE_DEVICES=7 ${BAZIL_BIN}/tensorflow_ranking/extension/examples/tfrbert_example_py_binary \\\n",
    "   --train_input_pattern=${DATA_DIR}/jo_training.elwc.tfrecord \\\n",
    "   --eval_input_pattern=${DATA_DIR}/jo_valid.elwc.tfrecord \\\n",
    "   --bert_config_file=${BERT_DIR}/bert_config.json \\\n",
    "   --bert_init_ckpt=${BERT_DIR}/bert_model.ckpt \\\n",
    "   --bert_max_seq_length=128 \\\n",
    "   --model_dir=\"${OUTPUT_DIR}\" \\\n",
    "   --loss=softmax_loss \\\n",
    "   --train_batch_size=1 \\\n",
    "   --convert_labels_to_binary \\\n",
    "   --eval_batch_size=1 \\\n",
    "   --listwise_inference True \\\n",
    "   --list_size=25 \\\n",
    "   --learning_rate=1e-6 \\\n",
    "   --num_train_steps=30000 \\\n",
    "   --num_eval_steps=200 \\\n",
    "   --checkpoint_secs=200 \\\n",
    "   --bert_num_warmup_steps 1000 \\\n",
    "   --num_checkpoints=5"
   ]
  },
  {
   "cell_type": "code",
   "execution_count": null,
   "metadata": {},
   "outputs": [],
   "source": [
    "OUTPUT_DIR=\"/workspace/ceph_data/argument-undermining/models/jo_vul_detection_pairwise/\"\n",
    "\n",
    "CUDA_VISIBLE_DEVICES=6 ${BAZIL_BIN}/tensorflow_ranking/extension/examples/tfrbert_example_py_binary \\\n",
    "   --train_input_pattern=${DATA_DIR}/jo_training.elwc.tfrecord \\\n",
    "   --eval_input_pattern=${DATA_DIR}/jo_valid.elwc.tfrecord \\\n",
    "   --bert_config_file=${BERT_DIR}/bert_config.json \\\n",
    "   --bert_init_ckpt=${BERT_DIR}/bert_model.ckpt \\\n",
    "   --bert_max_seq_length=128 \\\n",
    "   --model_dir=\"${OUTPUT_DIR}\" \\\n",
    "   --loss=pairwise_logistic_loss \\\n",
    "   --train_batch_size=1 \\\n",
    "   --convert_labels_to_binary \\\n",
    "   --eval_batch_size=1 \\\n",
    "   --listwise_inference True \\\n",
    "   --list_size=25 \\\n",
    "   --learning_rate=1e-6 \\\n",
    "   --num_train_steps=30000 \\\n",
    "   --num_eval_steps=200 \\\n",
    "   --checkpoint_secs=200 \\\n",
    "   --bert_num_warmup_steps 1000 \\\n",
    "   --num_checkpoints=5"
   ]
  },
  {
   "cell_type": "code",
   "execution_count": null,
   "metadata": {},
   "outputs": [],
   "source": [
    "OUTPUT_DIR=\"/workspace/ceph_data/argument-undermining/models/jo_vul_detection_pointwise/\"\n",
    "\n",
    "CUDA_VISIBLE_DEVICES=5 ${BAZIL_BIN}/tensorflow_ranking/extension/examples/tfrbert_example_py_binary \\\n",
    "   --train_input_pattern=${DATA_DIR}/jo_training.elwc.tfrecord \\\n",
    "   --eval_input_pattern=${DATA_DIR}/jo_valid.elwc.tfrecord \\\n",
    "   --bert_config_file=${BERT_DIR}/bert_config.json \\\n",
    "   --bert_init_ckpt=${BERT_DIR}/bert_model.ckpt \\\n",
    "   --bert_max_seq_length=128 \\\n",
    "   --model_dir=\"${OUTPUT_DIR}\" \\\n",
    "   --loss=sigmoid_cross_entropy_loss \\\n",
    "   --train_batch_size=1 \\\n",
    "   --convert_labels_to_binary \\\n",
    "   --eval_batch_size=1 \\\n",
    "   --listwise_inference True \\\n",
    "   --list_size=25 \\\n",
    "   --learning_rate=1e-6 \\\n",
    "   --num_train_steps=30000 \\\n",
    "   --num_eval_steps=200 \\\n",
    "   --checkpoint_secs=200 \\\n",
    "   --bert_num_warmup_steps 1000 \\\n",
    "   --num_checkpoints=5"
   ]
  },
  {
   "cell_type": "markdown",
   "metadata": {},
   "source": [
    "#### Generate Predictions:"
   ]
  },
  {
   "cell_type": "markdown",
   "metadata": {},
   "source": [
    "Commands to setup the tensorflow predictions server for each of the model, and perform prediction:"
   ]
  },
  {
   "cell_type": "code",
   "execution_count": null,
   "metadata": {},
   "outputs": [],
   "source": [
    "export MODEL_DIR=/workspace/ceph_data/argument-undermining/models/jo_vul_detection_listwise/export/best_model_by_loss/\n",
    "CUDA_VISIBLE_DEVICES=2 tensorflow_model_server \\\n",
    "  --port=8503 \\\n",
    "  --rest_api_port=8501 \\\n",
    "  --model_name=tfrbert \\\n",
    "  --model_base_path=\"${MODEL_DIR}\"\n",
    "\n",
    "#!/bin/bash\n",
    "BERT_DIR=\"/workspace/ceph_data/argument-undermining/models/thirdparty/uncased_L-12_H-768_A-12_TF2\"\n",
    "DATA_DIR=\"/workspace/ceph_data/argument-undermining/data/vul_detection\"\n",
    "python tensorflow_ranking/extension/examples/tfrbert_client_predict_from_json.py \\\n",
    "    --vocab_file=${BERT_DIR}/vocab.txt \\\n",
    "    --server_port 8503 \\\n",
    "    --sequence_length=128 \\\n",
    "    --input_file=${DATA_DIR}/jo_testing.json \\\n",
    "    --output_file=${DATA_DIR}/listwise-pred-jo-test-tmp.json \\\n",
    "    --do_lower_case"
   ]
  },
  {
   "cell_type": "code",
   "execution_count": null,
   "metadata": {},
   "outputs": [],
   "source": [
    "export MODEL_DIR=/workspace/ceph_data/argument-undermining/models/jo_vul_detection_pointwise/export/best_model_by_loss/\n",
    "CUDA_VISIBLE_DEVICES=2 tensorflow_model_server \\\n",
    "  --port=8503 \\\n",
    "  --rest_api_port=8506 \\\n",
    "  --model_name=tfrbert \\\n",
    "  --model_base_path=\"${MODEL_DIR}\"\n",
    "\n",
    "#!/bin/bash\n",
    "BERT_DIR=\"/workspace/ceph_data/argument-undermining/models/thirdparty/uncased_L-12_H-768_A-12_TF2\"\n",
    "DATA_DIR=\"/workspace/ceph_data/argument-undermining/data/vul_detection\"\n",
    "python tensorflow_ranking/extension/examples/tfrbert_client_predict_from_json.py \\\n",
    "    --vocab_file=${BERT_DIR}/vocab.txt \\\n",
    "    --server_port 8503 \\\n",
    "    --sequence_length=128 \\\n",
    "    --input_file=${DATA_DIR}/jo_testing.json \\\n",
    "    --output_file=${DATA_DIR}/pointwise-pred-jo-test.json \\\n",
    "    --do_lower_case"
   ]
  },
  {
   "cell_type": "code",
   "execution_count": null,
   "metadata": {},
   "outputs": [],
   "source": [
    "export MODEL_DIR=/workspace/ceph_data/argument-undermining/models/jo_vul_detection_pairwise/export/best_model_by_loss/\n",
    "CUDA_VISIBLE_DEVICES=2 tensorflow_model_server \\\n",
    "  --port=8507 \\\n",
    "  --rest_api_port=8508 \\\n",
    "  --model_name=tfrbert \\\n",
    "  --model_base_path=\"${MODEL_DIR}\"\n",
    "\n",
    "#!/bin/bash\n",
    "BERT_DIR=\"/workspace/ceph_data/argument-undermining/models/thirdparty/uncased_L-12_H-768_A-12_TF2\"\n",
    "DATA_DIR=\"/workspace/ceph_data/argument-undermining/data/vul_detection\"\n",
    "python tensorflow_ranking/extension/examples/tfrbert_client_predict_from_json.py \\\n",
    "    --vocab_file=${BERT_DIR}/vocab.txt \\\n",
    "    --server_port 8507 \\\n",
    "    --sequence_length=128 \\\n",
    "    --input_file=${DATA_DIR}/jo_testing.json \\\n",
    "    --output_file=${DATA_DIR}/pairwise-pred-jo-test.json \\\n",
    "    --do_lower_case"
   ]
  }
 ],
 "metadata": {
  "kernelspec": {
   "display_name": "Python 3",
   "language": "python",
   "name": "python3"
  },
  "language_info": {
   "codemirror_mode": {
    "name": "ipython",
    "version": 3
   },
   "file_extension": ".py",
   "mimetype": "text/x-python",
   "name": "python",
   "nbconvert_exporter": "python",
   "pygments_lexer": "ipython3",
   "version": "3.7.9"
  }
 },
 "nbformat": 4,
 "nbformat_minor": 4
}
