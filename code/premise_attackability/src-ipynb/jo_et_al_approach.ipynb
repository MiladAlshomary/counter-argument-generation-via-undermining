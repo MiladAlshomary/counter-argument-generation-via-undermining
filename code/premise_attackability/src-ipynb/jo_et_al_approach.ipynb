{
 "cells": [
  {
   "cell_type": "code",
   "execution_count": 1,
   "metadata": {},
   "outputs": [],
   "source": [
    "import os\n",
    "import sys"
   ]
  },
  {
   "cell_type": "markdown",
   "metadata": {},
   "source": [
    "### Instructions to re-train the model of Jo et al 2020"
   ]
  },
  {
   "cell_type": "code",
   "execution_count": 5,
   "metadata": {},
   "outputs": [],
   "source": [
    "mode = 'attack'\n",
    "n_trials = 10  # Num of total runs\n",
    "n_epochs = 4  # Num of epochs for each run\n",
    "feats_path = \"/workspace/ceph_data/argument-undermining/jo_data/emnlp20_arg_attack/data/feat-combined.csv\"  # Feature file\n",
    "data_path = \"/workspace/ceph_data/argument-undermining/jo_data/emnlp20_arg_attack/data/posts-sents.csv \"  # Sentence file\n",
    "domain_adapt = \"\"  # Do not modify\n",
    "domain = \"domain40\"  # Do not modify\n",
    "fusion_dim = 0  # Do not modify\n",
    "feats = \"\"  # Features to include (do not modify)\n",
    "cmd = f\"python ../thirdparty/emnlp20_arg_attack/src/clf_bert.py -mode {mode} -name domain -feat_names {feats} -domain {domain} {domain_adapt} -fusion_dim {fusion_dim} -weight_classes -n_trials {n_trials} -n_epochs {n_epochs} -feats {feats_path} -data {data_path}\""
   ]
  },
  {
   "cell_type": "code",
   "execution_count": 2,
   "metadata": {},
   "outputs": [
    {
     "data": {
      "text/plain": [
       "'python ../thirdparty/emnlp20_arg_attack/src/clf_bert.py -mode attack -name domain -feat_names  -domain domain40  -fusion_dim 0 -weight_classes -n_trials 10 -n_epochs 4 -feats /workspace/ceph_data/argument-undermining/jo_data/emnlp20_arg_attack/data/feat-combined.csv -data /workspace/ceph_data/argument-undermining/jo_data/emnlp20_arg_attack/data/posts-sents.csv '"
      ]
     },
     "execution_count": 2,
     "metadata": {},
     "output_type": "execute_result"
    }
   ],
   "source": [
    "cmd"
   ]
  },
  {
   "cell_type": "code",
   "execution_count": null,
   "metadata": {
    "scrolled": true
   },
   "outputs": [
    {
     "name": "stdout",
     "output_type": "stream",
     "text": [
      "Prefix: attack-20201214_083700-Mbert-NMdomain-FT-DMdomain40-DAFalse-FD0-WCTrue\n",
      "Loading features...\n",
      "688010it [00:56, 12203.62it/s]\n",
      "\n",
      "train=420545, val=133090, test=134375\n",
      "Loading sentences...\n",
      "909482it [06:32, 2318.44it/s]\n",
      "\n",
      "Building batches...\n",
      "Saving pickle to ../data/pickle...\n",
      "n_batches: train=5775, val=1819, test=1836\n",
      "Filtering features and domains...\n",
      "feat_dim=0, domain_dim=30\n",
      "Analysis...\n",
      "=================== TRIAL 1 ====================\n",
      "[Epoch 1]\n",
      "  0%|                                                  | 0/5775 [00:00<?, ?it/s]/opt/miniconda3/lib/python3.8/site-packages/pytorch_transformers/optimization.py:166: UserWarning: This overload of add_ is deprecated:\n",
      "\tadd_(Number alpha, Tensor other)\n",
      "Consider using one of the following signatures instead:\n",
      "\tadd_(Tensor other, *, Number alpha) (Triggered internally at  /opt/conda/conda-bld/pytorch_1603729009598/work/torch/csrc/utils/python_arg_parser.cpp:882.)\n",
      "  exp_avg.mul_(beta1).add_(1.0 - beta1, grad)\n",
      "100%|███████████████████████████████████████| 5775/5775 [41:13<00:00,  2.34it/s]\n",
      "train_loss=3765.649489, train_auc=0.6429371250115214, train_f1=0.4699427678576713, train_map=0.5563749641541472, train_ndcg=0.7068016631708456, train_ndcg3=0.5219078221418035, train_p1=0.46275010642826736, train_p3=0.4316085503824968, train_prec=0.36311668831287613, train_recl=0.6658225300618847, train_top3=0.7542861565850072\n",
      "val_loss=1193.602761, val_auc=0.6438942056489826, val_f1=0.49809000279511795, val_map=0.5861750623284308, val_ndcg=0.728807018324997, val_ndcg3=0.5553301306870295, val_p1=0.5046217048955837, val_p3=0.45819544296093423, val_prec=0.361896810443063, val_recl=0.7986455195080049, val_top3=0.7778158165011982\n",
      "test_loss=1203.147746, test_auc=0.6424407922939495, test_f1=0.49373040752351094, test_map=0.579470735657381, test_ndcg=0.7254123786222034, test_ndcg3=0.5478705694055571, test_p1=0.4943912129002103, test_p3=0.4519747604580509, test_prec=0.3578030691106706, test_recl=0.7962035981563166, test_top3=0.7803225052582379\n",
      "delta_time=47.2m\n",
      "\n",
      "[Epoch 2]\n",
      "100%|███████████████████████████████████████| 5775/5775 [40:32<00:00,  2.37it/s]\n",
      "train_loss=3575.805980, train_auc=0.6895349192824292, train_f1=0.5023056683410391, train_map=0.5952154944363024, train_ndcg=0.7373081805757765, train_ndcg3=0.5721643172276973, train_p1=0.5187507256472774, train_p3=0.46834887831056404, train_prec=0.39308782621470106, train_recl=0.6955657671860064, train_top3=0.7961995433259801\n",
      "val_loss=1202.930001, val_auc=0.6456203834312171, val_f1=0.4943261866338789, val_map=0.5867785340150194, val_ndcg=0.7293986557504473, val_ndcg3=0.5575702048890301, val_p1=0.5066757959602876, val_p3=0.4588421012590817, val_prec=0.3761597837669257, val_recl=0.7207379926798297, val_top3=0.7810110692685154\n",
      "test_loss=1211.292090, test_auc=0.643166988093303, test_f1=0.4905922754059439, test_map=0.5780760961311078, test_ndcg=0.7247836358928398, test_ndcg3=0.5493820089925894, test_p1=0.49602710913764897, test_p3=0.454818103918361, test_prec=0.37288769157396784, test_recl=0.7168806066313129, test_top3=0.7839448469268521\n",
      "delta_time=93.7m\n",
      "\n",
      "[Epoch 3]\n",
      "100%|███████████████████████████████████████| 5775/5775 [40:20<00:00,  2.39it/s]\n",
      "train_loss=3034.273209, train_auc=0.7670047724523555, train_f1=0.5618039124256851, train_map=0.6725183197661212, train_ndcg=0.793907127141112, train_ndcg3=0.6650068469363767, train_p1=0.6388792135918573, train_p3=0.5356373440664629, train_prec=0.4499634106336269, train_recl=0.7476311067134016, train_top3=0.8654746700723712\n",
      "val_loss=1407.089047, val_auc=0.6248846457856532, val_f1=0.4616497255741148, val_map=0.5652098783584287, val_ndcg=0.7118015322922012, val_ndcg3=0.5284775061456981, val_p1=0.47198448020084444, val_p3=0.4398607782722812, val_prec=0.38336487042369394, val_recl=0.5801110474815129, val_top3=0.7569325573433756\n",
      "test_loss=1425.450814, test_auc=0.6213458145231234, test_f1=0.4588555538148206, test_map=0.5596963724897237, test_ndcg=0.7090770962891829, test_ndcg3=0.5253874019978595, test_p1=0.4697359196073849, test_p3=0.43853704136480487, test_prec=0.3793019717033056, test_recl=0.5806363681419437, test_top3=0.7629118953026408\n",
      "delta_time=140.0m\n",
      "\n",
      "[Epoch 4]\n",
      "100%|███████████████████████████████████████| 5775/5775 [40:13<00:00,  2.39it/s]\n",
      "train_loss=2051.760117, train_auc=0.8699491248484004, train_f1=0.6601702546455149, train_map=0.7970033930853672, train_ndcg=0.8788700374052832, train_ndcg3=0.8048484241885518, train_p1=0.8078098997639227, train_p3=0.6367893494330276, train_prec=0.549413567349213, train_recl=0.8268569607728042, train_top3=0.9427996439490692\n",
      "val_loss=2200.983204, val_auc=0.6013437606459308, val_f1=0.424867139061116, val_map=0.5461872702267526, val_ndcg=0.6958899895401959, val_ndcg3=0.5059162748148216, val_p1=0.4555517516832135, val_p3=0.4243029403933204, val_prec=0.38253882807982936, val_recl=0.4777282573512935, val_top3=0.7418692228688806\n",
      "test_loss=2243.447110, test_auc=0.5957295411754915, test_f1=0.4171646801157813, test_map=0.5405290470572415, test_ndcg=0.6937213829523449, test_ndcg3=0.5017164856809929, test_p1=0.4491703669081561, test_p3=0.4201916335592428, test_prec=0.3752351159245253, test_recl=0.46964365366506416, test_top3=0.7384903014723067\n",
      "delta_time=186.2m\n",
      "\n",
      "best_val_auc=0.646, best_val_f1=0.494, best_val_map=0.587, best_val_ndcg=0.729, best_val_ndcg3=0.558, best_val_p1=0.507, best_val_p3=0.459, best_val_prec=0.376, best_val_recl=0.721, best_val_top3=0.781\n",
      "best_test_auc=0.643, best_test_f1=0.491, best_test_map=0.578, best_test_ndcg=0.725, best_test_ndcg3=0.549, best_test_p1=0.496, best_test_p3=0.455, best_test_prec=0.373, best_test_recl=0.717, best_test_top3=0.784\n",
      "=================== TRIAL 2 ====================\n",
      "[Epoch 1]\n",
      "100%|███████████████████████████████████████| 5775/5775 [41:21<00:00,  2.33it/s]\n",
      "train_loss=3772.041303, train_auc=0.6409871646852223, train_f1=0.4673294607392917, train_map=0.5567951968694322, train_ndcg=0.7073416510841852, train_ndcg3=0.5226128830461273, train_p1=0.46418205038894694, train_p3=0.4316085503824966, train_prec=0.3626153433228132, train_recl=0.657076492193134, train_top3=0.7550988815356632\n",
      "val_loss=1194.414188, val_auc=0.6441689371892271, val_f1=0.4855017966073369, val_map=0.5815154099856612, val_ndcg=0.7243686592005163, val_ndcg3=0.5488140166037961, val_p1=0.49686180531781354, val_p3=0.45674997147095736, val_prec=0.38710393840687, val_recl=0.6509722879266987, val_top3=0.770740613944996\n",
      "test_loss=1204.371799, test_auc=0.6429376824275453, test_f1=0.4817063014712686, test_map=0.5776238754049949, test_ndcg=0.7239567791017116, test_ndcg3=0.546860034953413, test_p1=0.4892498247254031, test_p3=0.4533380073225831, test_prec=0.38438478350759053, test_recl=0.6450166030628934, test_top3=0.7758822154709044\n",
      "delta_time=47.3m\n",
      "\n",
      "[Epoch 2]\n",
      "100%|███████████████████████████████████████| 5775/5775 [40:20<00:00,  2.39it/s]\n",
      "train_loss=3595.745541, train_auc=0.6860164319348064, train_f1=0.5007537377234402, train_map=0.5929716527306461, train_ndcg=0.7356557787976208, train_ndcg3=0.5691598517757326, train_p1=0.5180928054491273, train_p3=0.46575589870609024, train_prec=0.3913762083083447, train_recl=0.6949787847787077, train_top3=0.7927164363945973\n",
      "val_loss=1197.667613, val_auc=0.6444146290978878, val_f1=0.4920614023539324, val_map=0.585006686422858, val_ndcg=0.7269429084203214, val_ndcg3=0.5511402998401581, val_p1=0.4989158963825174, val_p3=0.45423941572520826, val_prec=0.37997126358879824, val_recl=0.6979558299927794, val_top3=0.7737076343717905\n",
      "test_loss=1205.860278, test_auc=0.6431276224789265, test_f1=0.4892827018895487, test_map=0.5800211299815423, test_ndcg=0.7259724323208663, test_ndcg3=0.5515517678932615, test_p1=0.4928721663940173, test_p3=0.45602555114123233, test_prec=0.37689391402199685, test_recl=0.6971799573772117, test_top3=0.780906753914466\n",
      "delta_time=93.6m\n",
      "\n",
      "[Epoch 3]\n",
      "100%|███████████████████████████████████████| 5775/5775 [40:10<00:00,  2.40it/s]\n",
      "train_loss=3097.672400, train_auc=0.760793598798587, train_f1=0.5571437981687635, train_map=0.6665180095542143, train_ndcg=0.7896263963186889, train_ndcg3=0.6583606074091606, train_p1=0.6302488486396532, train_p3=0.5312641098081711, train_prec=0.4450530451472585, train_recl=0.7447045801398695, train_top3=0.8617206548241031\n",
      "val_loss=1396.751181, val_auc=0.6299879862267791, val_f1=0.45971137729446876, val_map=0.5684624257167847, val_ndcg=0.7142338782561397, val_ndcg3=0.533820770556945, val_p1=0.48430902658906766, val_p3=0.4440450378485298, val_prec=0.38990308767185033, val_recl=0.5599681298707766, val_top3=0.7621819011753965\n",
      "test_loss=1410.164020, test_auc=0.6257756793634142, test_f1=0.4555243208135015, test_map=0.5631310806164697, test_ndcg=0.7121145702737185, test_ndcg3=0.5295193288337681, test_p1=0.47289086235101657, test_p3=0.44064033652722595, test_prec=0.38573122733444476, test_recl=0.5561530455469098, test_top3=0.7643140920775883\n",
      "delta_time=139.8m\n",
      "\n",
      "[Epoch 4]\n",
      "100%|███████████████████████████████████████| 5775/5775 [40:10<00:00,  2.40it/s]\n",
      "train_loss=2110.915607, train_auc=0.8647825339135394, train_f1=0.6542132779058556, train_map=0.792090273665731, train_ndcg=0.8753083987053931, train_ndcg3=0.7993766384301816, train_p1=0.8030883548124927, train_p3=0.6319904021053447, train_prec=0.5432492783013902, train_recl=0.8221443305884918, train_top3=0.9403614690971013\n",
      "val_loss=2014.649179, val_auc=0.6089280192491695, val_f1=0.4640100686668271, val_map=0.5541530808014071, val_ndcg=0.7035050545459067, val_ndcg3=0.5171131893241118, val_p1=0.4652516261554262, val_p3=0.43130206550268174, val_prec=0.3692466308270123, val_recl=0.6242063590867216, val_top3=0.7531667237247518\n",
      "test_loss=2042.476655, test_auc=0.6043223037903938, test_f1=0.4579826539780333, test_map=0.5518845931768617, test_ndcg=0.7001809709715878, test_ndcg3=0.5099123508395113, test_p1=0.4648282308950689, test_p3=0.4270078678819038, test_prec=0.3634604190919674, test_recl=0.618947316251177, test_top3=0.7497078756718859\n",
      "delta_time=186.0m\n",
      "\n",
      "best_val_auc=0.644, best_val_f1=0.492, best_val_map=0.585, best_val_ndcg=0.727, best_val_ndcg3=0.551, best_val_p1=0.499, best_val_p3=0.454, best_val_prec=0.380, best_val_recl=0.698, best_val_top3=0.774\n",
      "best_test_auc=0.643, best_test_f1=0.489, best_test_map=0.580, best_test_ndcg=0.726, best_test_ndcg3=0.552, best_test_p1=0.493, best_test_p3=0.456, best_test_prec=0.377, best_test_recl=0.697, best_test_top3=0.781\n",
      "=================== TRIAL 3 ====================\n",
      "[Epoch 1]\n",
      "100%|███████████████████████████████████████| 5775/5775 [40:59<00:00,  2.35it/s]\n",
      "train_loss=3766.862998, train_auc=0.641708700568354, train_f1=0.4678806377670403, train_map=0.5569196432551992, train_ndcg=0.7069960985334492, train_ndcg3=0.5225994570732193, train_p1=0.4654978907852471, train_p3=0.43253737889753213, train_prec=0.36296241484722214, train_recl=0.6581162896003488, train_top3=0.7542087542087542\n",
      "val_loss=1187.927513, val_auc=0.6458821554171015, val_f1=0.49573935684577153, val_map=0.5836872085111889, val_ndcg=0.7261530853605777, val_ndcg3=0.5513475196298036, val_p1=0.500171174255392, val_p3=0.45591311955570774, val_prec=0.3752895851732391, val_recl=0.7300500460622962, val_top3=0.775647609266233\n",
      "test_loss=1197.332765, test_auc=0.6455777039435138, test_f1=0.49167050932718503, test_map=0.5796998712681464, test_ndcg=0.7251024474550091, test_ndcg3=0.5487570713957426, test_p1=0.49369011451273664, test_p3=0.4538054062475656, test_prec=0.3715360930550804, test_recl=0.726619418149378, test_top3=0.7805562047207292\n",
      "delta_time=47.0m\n",
      "\n",
      "[Epoch 2]\n",
      "100%|███████████████████████████████████████| 5775/5775 [40:03<00:00,  2.40it/s]\n",
      "train_loss=3579.831286, train_auc=0.6889885754257355, train_f1=0.5016098286193782, train_map=0.5966577508881998, train_ndcg=0.7376595287269158, train_ndcg3=0.5735531841846992, train_p1=0.5243236967374898, train_p3=0.4698453242514545, train_prec=0.3934599810171561, train_recl=0.6917503815385647, train_top3=0.7960834397616007\n",
      "val_loss=1193.594037, val_auc=0.6462063215161247, val_f1=0.49182148270878134, val_map=0.5844374599498281, val_ndcg=0.7271684677039876, val_ndcg3=0.5527187383918595, val_p1=0.5032523108524478, val_p3=0.45652173913043476, val_prec=0.3806425209740127, val_recl=0.6947439185319821, val_top3=0.7787287458632888\n",
      "test_loss=1203.684639, test_auc=0.64518747217437, test_f1=0.48893055202684355, test_map=0.5794750376943911, test_ndcg=0.7262587967213717, test_ndcg3=0.5508727654328285, test_p1=0.4957934096751577, test_p3=0.4549739035600218, test_prec=0.3781593462440201, test_recl=0.6914803984735094, test_top3=0.7812573031082028\n",
      "delta_time=93.1m\n",
      "\n",
      "[Epoch 3]\n",
      "100%|███████████████████████████████████████| 5775/5775 [40:04<00:00,  2.40it/s]\n",
      "train_loss=3061.675406, train_auc=0.7638070268851707, train_f1=0.5589673654498747, train_map=0.6715095955974908, train_ndcg=0.7933004752162482, train_ndcg3=0.6646048466262902, train_p1=0.6374859708193041, train_p3=0.5345279100068373, train_prec=0.4494838209491166, train_recl=0.7389605380113036, train_top3=0.866751809280545\n",
      "val_loss=1360.252710, val_auc=0.6272412979297961, val_f1=0.4785371200442, val_map=0.5661270934985725, val_ndcg=0.7122117683363652, val_ndcg3=0.5291259771906796, val_p1=0.4763208946707749, val_p3=0.44103997869831485, val_prec=0.37263718877508534, val_recl=0.6685257575380326, val_top3=0.7610407394727833\n",
      "test_loss=1374.477508, test_auc=0.6246838711837228, test_f1=0.47532274345215964, test_map=0.5610325391307119, test_ndcg=0.7100775158121048, test_ndcg3=0.5245805578400605, test_p1=0.4716055153073148, test_p3=0.4369790449481966, test_prec=0.36979224071420697, test_recl=0.6651385240620509, test_top3=0.7599906520215004\n",
      "delta_time=139.2m\n",
      "\n",
      "[Epoch 4]\n",
      "100%|███████████████████████████████████████| 5775/5775 [40:05<00:00,  2.40it/s]\n",
      "train_loss=2110.598042, train_auc=0.8626758593398332, train_f1=0.651902724309533, train_map=0.7891962056580214, train_ndcg=0.8739406698418832, train_ndcg3=0.7973857137398744, train_p1=0.7991021324354658, train_p3=0.6309196692338456, train_prec=0.5431684828164292, train_recl=0.8150669998490616, train_top3=0.9378845930570069\n",
      "val_loss=2048.129903, val_auc=0.6036053853465655, val_f1=0.4270340174304189, val_map=0.5460600812573361, val_ndcg=0.6953875400109825, val_ndcg3=0.5055448551254361, val_p1=0.4520141504051124, val_p3=0.4257484118832972, val_prec=0.38938107542758704, val_recl=0.47274854966013496, val_top3=0.7401574803149606\n",
      "test_loss=2099.926725, test_auc=0.5986474591590738, test_f1=0.41924992149297924, test_map=0.5429100919021012, test_ndcg=0.6945289784779674, test_ndcg3=0.5011241363789096, test_p1=0.4518579107268053, test_p3=0.42046428293214927, test_prec=0.3829338250358533, test_recl=0.4631758933439064, test_top3=0.7397756485160084\n",
      "delta_time=185.2m\n",
      "\n",
      "best_val_auc=0.646, best_val_f1=0.492, best_val_map=0.584, best_val_ndcg=0.727, best_val_ndcg3=0.553, best_val_p1=0.503, best_val_p3=0.457, best_val_prec=0.381, best_val_recl=0.695, best_val_top3=0.779\n",
      "best_test_auc=0.645, best_test_f1=0.489, best_test_map=0.579, best_test_ndcg=0.726, best_test_ndcg3=0.551, best_test_p1=0.496, best_test_p3=0.455, best_test_prec=0.378, best_test_recl=0.691, best_test_top3=0.781\n",
      "=================== TRIAL 4 ====================\n",
      "[Epoch 1]\n",
      "100%|███████████████████████████████████████| 5775/5775 [40:13<00:00,  2.39it/s]\n",
      "train_loss=3770.296270, train_auc=0.6409488480420946, train_f1=0.4661429061256131, train_map=0.5589229445871579, train_ndcg=0.7093166923799089, train_ndcg3=0.5269538365846969, train_p1=0.4677038585084562, train_p3=0.4343692351355186, train_prec=0.36166668979971406, train_recl=0.6555000251563888, train_top3=0.7596269205464607\n",
      "val_loss=1191.738255, val_auc=0.6452807161318558, val_f1=0.4975789865751162, val_map=0.5853974327556436, val_ndcg=0.727487749553765, val_ndcg3=0.553180885875538, val_p1=0.5027958461714025, val_p3=0.4568640876412188, val_prec=0.36868692928880836, val_recl=0.7650324925926848, val_top3=0.7810110692685154\n",
      "test_loss=1200.330389, test_auc=0.645428410566571, test_f1=0.49386446666826544, test_map=0.58192614367164, test_ndcg=0.7269545890280172, test_ndcg3=0.5515421708923712, test_p1=0.4942743631689647, test_p3=0.45559710212666504, test_prec=0.36452789218405185, test_recl=0.7654507607672102, test_top3=0.7835942977331152\n",
      "delta_time=46.2m\n",
      "\n",
      "[Epoch 2]\n",
      "100%|███████████████████████████████████████| 5775/5775 [39:11<00:00,  2.46it/s]\n",
      "train_loss=3586.651875, train_auc=0.6874172545952939, train_f1=0.500576532386478, train_map=0.5948470974917776, train_ndcg=0.7373115534134836, train_ndcg3=0.5715414150412563, train_p1=0.5212663028754982, train_p3=0.4673039462311493, train_prec=0.39339687775689464, train_recl=0.6880272359836986, train_top3=0.793993575602771\n",
      "val_loss=1203.697652, val_auc=0.6438717631507815, val_f1=0.49770162006814017, val_map=0.5820668659793148, val_ndcg=0.7246375315560365, val_ndcg3=0.5481092132878467, val_p1=0.5019970329795732, val_p3=0.4533645250865381, val_prec=0.3608024553071374, val_recl=0.8020068221995369, val_top3=0.7772452356498916\n",
      "test_loss=1219.453449, test_auc=0.641295408630082, test_f1=0.49248652162275836, test_map=0.5773044409916565, test_ndcg=0.7227320581243644, test_ndcg3=0.546456318252115, test_p1=0.4949754615564384, test_p3=0.45368855651631995, test_prec=0.3561513532645364, test_recl=0.7979382465183129, test_top3=0.7776349614395887\n",
      "delta_time=91.4m\n",
      "\n",
      "[Epoch 3]\n",
      " 30%|███████████▊                           | 1752/5775 [12:00<27:43,  2.42it/s]"
     ]
    }
   ],
   "source": [
    "! CUDA_VISIBLE_DEVICES=3 python ../thirdparty/emnlp20_arg_attack/src/clf_bert.py -mode attack -name domain -feat_names  -domain domain40  -fusion_dim 0 -weight_classes -n_trials 10 -n_epochs 4 -feats /workspace/ceph_data/argument-undermining/jo_data/emnlp20_arg_attack/data/feat-combined.csv -data /workspace/ceph_data/argument-undermining/jo_data/emnlp20_arg_attack/data/posts-sents.csv"
   ]
  }
 ],
 "metadata": {
  "kernelspec": {
   "display_name": "Python 3",
   "language": "python",
   "name": "python3"
  },
  "language_info": {
   "codemirror_mode": {
    "name": "ipython",
    "version": 3
   },
   "file_extension": ".py",
   "mimetype": "text/x-python",
   "name": "python",
   "nbconvert_exporter": "python",
   "pygments_lexer": "ipython3",
   "version": "3.7.9"
  }
 },
 "nbformat": 4,
 "nbformat_minor": 4
}
